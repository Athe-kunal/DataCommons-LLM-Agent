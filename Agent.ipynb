{
 "cells": [
  {
   "cell_type": "code",
   "execution_count": 8,
   "metadata": {},
   "outputs": [],
   "source": [
    "# !pip install dspy langchain langchain_community\n",
    "# !pip install rank_bm25"
   ]
  },
  {
   "cell_type": "code",
   "execution_count": 1,
   "metadata": {},
   "outputs": [],
   "source": [
    "from src.database import build_dcids_database, load_database\n",
    "build_dcids_database()\n",
    "dcid_collection = load_database()"
   ]
  },
  {
   "cell_type": "code",
   "execution_count": 1,
   "metadata": {},
   "outputs": [],
   "source": [
    "from src.get_place_dcids import place_dcid"
   ]
  },
  {
   "cell_type": "code",
   "execution_count": 2,
   "metadata": {},
   "outputs": [],
   "source": [
    "import os\n",
    "from langchain.schema import Document\n",
    "import ast\n",
    "\n",
    "docs = []\n",
    "for stat_files in os.listdir(\"src/STATS\"):\n",
    "    stat_file_name = \".\".join(stat_files.split(\"_\"))\n",
    "    with open(os.path.join(\"src/STATS\",stat_files), \"r\") as f:\n",
    "        content = f.read()\n",
    "    content = ast.literal_eval(content)\n",
    "    for stat in content:\n",
    "        docs.append(Document(page_content=stat['node_name'],metadata={'dcid': stat['node_dcid'],'link': stat['node_link'],'data_source':stat_file_name}))"
   ]
  },
  {
   "cell_type": "code",
   "execution_count": 36,
   "metadata": {},
   "outputs": [],
   "source": [
    "import dspy\n",
    "from langchain_community.retrievers import BM25Retriever\n",
    "from dotenv import load_dotenv,find_dotenv\n",
    "import concurrent.futures\n",
    "import datacommons_pandas as dc\n",
    "\n",
    "load_dotenv(find_dotenv(),override=True)\n",
    "\n",
    "class PlaceKeywordSignature(dspy.Signature):\n",
    "    \"\"\"Returns the places that the question is talking about separated by semicolon (;) and also only the noun keywords relevant to the question in a list\n",
    "    Make sure that you are only outputing the noun keywords and not other things\"\"\"\n",
    "    question = dspy.InputField(prefix=\"Question: \",desc=\"Question asked by the user\")\n",
    "    places = dspy.OutputField(prefix=\"Places: \",desc=\"places like countries, states, towns, etc mentioned in the question separated by semicolon (;)\")\n",
    "    keywords = dspy.OutputField(prefix=\"Keywords: \",desc=\"noun keywords relevant to the question in a list. DON'T include the place names and be precise\")\n",
    "\n",
    "class SelectDCIDSignature(dspy.Signature):\n",
    "    \"\"\"Based on the dcid and their descriptions, select the dcid(s) that are most relevant to the question. Return the relevant dcids separated by semicolon (;)\n",
    "    Don't output anything else, just output the relevant dcid(s). You have to output only from the given dcids, don't output any other dcids\"\"\"\n",
    "    dcids_list = dspy.InputField(prefix=\"DCID and Description List: \",desc=\"DCIDs and its corresponding description\")\n",
    "    relevant_dcids = dspy.OutputField(prefix=\"Relevant DCIDs: \",desc=\"relevant dcids only separated by semicolon (;)\")\n",
    "\n",
    "llm = dspy.OpenAI(model=\"gpt-3.5-turbo\")\n",
    "dspy.settings.configure(lm=llm)\n",
    "\n",
    "class DataCommonsDSPy(dspy.Module):\n",
    "    def __init__(self):\n",
    "        self.bm25_retriever = BM25Retriever.from_documents(\n",
    "                docs, k=5, preprocess_func=(lambda x: x.lower())\n",
    "            )\n",
    "        self.place_keyword_llm = dspy.ChainOfThought(PlaceKeywordSignature)\n",
    "        self.relevant_dcid_llm = dspy.ChainOfThought(SelectDCIDSignature)\n",
    "    def __call__(self,question,**kwargs):\n",
    "        return self.forward(question,**kwargs)\n",
    "\n",
    "    def forward(self,question:str):\n",
    "        llm_answer = self.place_keyword_llm(question=question)\n",
    "        print(llm_answer)\n",
    "        places = llm_answer.places.split(\";\")\n",
    "        places = [pl.strip() for pl in places]\n",
    "        keywords = llm_answer.keywords.split(\",\")\n",
    "\n",
    "        with concurrent.futures.ThreadPoolExecutor(max_workers=3) as executor:\n",
    "            results = executor.map(place_dcid,places) \n",
    "        place_dcids = []\n",
    "        for res in results:\n",
    "            place_dcids.append(res)\n",
    "        print(place_dcids)\n",
    "        bm25_docs = self.bm25_retriever.invoke(question.lower())\n",
    "        for key in keywords:\n",
    "            curr_keyword_docs = self.bm25_retriever.invoke(key.lower())\n",
    "            bm25_docs.extend(curr_keyword_docs)\n",
    "        dcid_desc_str = \"\"\n",
    "        for doc in bm25_docs:\n",
    "            curr_dcid = doc.metadata['dcid']\n",
    "            curr_desc = doc.metadata['data_source'] + doc.page_content\n",
    "            dcid_desc_str += f\"{curr_dcid}: {curr_desc}\\n\\n\"\n",
    "        relevant_dcid_result = self.relevant_dcid_llm(dcids_list=dcid_desc_str)\n",
    "        relevant_dcid_list = relevant_dcid_result.relevant_dcids.split(\";\")\n",
    "        relevant_dcid_list = [rdl.strip() for rdl in relevant_dcid_list]\n",
    "        print(relevant_dcid_list)\n",
    "        result_df = dc.build_multivariate_dataframe(place_dcids,relevant_dcid_list)\n",
    "        return result_df"
   ]
  },
  {
   "cell_type": "code",
   "execution_count": 37,
   "metadata": {},
   "outputs": [],
   "source": [
    "all_dcids_agent = DataCommonsDSPy()"
   ]
  },
  {
   "cell_type": "code",
   "execution_count": 27,
   "metadata": {},
   "outputs": [
    {
     "name": "stdout",
     "output_type": "stream",
     "text": [
      "Prediction(\n",
      "    rationale='produce the keywords. We need to identify the number of patients recovered in COVID-19 from the United States and Qatar.',\n",
      "    places='United States; Qatar',\n",
      "    keywords='number, patients, recovered, COVID-19'\n",
      ")\n",
      "['country/USA', 'country/QAT']\n"
     ]
    },
    {
     "data": {
      "text/html": [
       "<div>\n",
       "<style scoped>\n",
       "    .dataframe tbody tr th:only-of-type {\n",
       "        vertical-align: middle;\n",
       "    }\n",
       "\n",
       "    .dataframe tbody tr th {\n",
       "        vertical-align: top;\n",
       "    }\n",
       "\n",
       "    .dataframe thead th {\n",
       "        text-align: right;\n",
       "    }\n",
       "</style>\n",
       "<table border=\"1\" class=\"dataframe\">\n",
       "  <thead>\n",
       "    <tr style=\"text-align: right;\">\n",
       "      <th></th>\n",
       "      <th>InterestRate_TreasurySecurity_1Month_ConstantMaturity</th>\n",
       "      <th>Count_MedicalConditionIncident_COVID_19_PatientInICU</th>\n",
       "    </tr>\n",
       "    <tr>\n",
       "      <th>place</th>\n",
       "      <th></th>\n",
       "      <th></th>\n",
       "    </tr>\n",
       "  </thead>\n",
       "  <tbody>\n",
       "    <tr>\n",
       "      <th>country/USA</th>\n",
       "      <td>5.51</td>\n",
       "      <td>1602</td>\n",
       "    </tr>\n",
       "  </tbody>\n",
       "</table>\n",
       "</div>"
      ],
      "text/plain": [
       "             InterestRate_TreasurySecurity_1Month_ConstantMaturity  \\\n",
       "place                                                                \n",
       "country/USA                                               5.51       \n",
       "\n",
       "             Count_MedicalConditionIncident_COVID_19_PatientInICU  \n",
       "place                                                              \n",
       "country/USA                                               1602     "
      ]
     },
     "execution_count": 27,
     "metadata": {},
     "output_type": "execute_result"
    }
   ],
   "source": [
    "all_dcids_agent(question=\"What is the number of patients recovered in COVID-19 from United States and Qatar?\")"
   ]
  },
  {
   "cell_type": "code",
   "execution_count": 30,
   "metadata": {},
   "outputs": [
    {
     "data": {
      "text/html": [
       "<div>\n",
       "<style scoped>\n",
       "    .dataframe tbody tr th:only-of-type {\n",
       "        vertical-align: middle;\n",
       "    }\n",
       "\n",
       "    .dataframe tbody tr th {\n",
       "        vertical-align: top;\n",
       "    }\n",
       "\n",
       "    .dataframe thead th {\n",
       "        text-align: right;\n",
       "    }\n",
       "</style>\n",
       "<table border=\"1\" class=\"dataframe\">\n",
       "  <thead>\n",
       "    <tr style=\"text-align: right;\">\n",
       "      <th></th>\n",
       "      <th>Count_MedicalConditionIncident_COVID_19_PatientInICU</th>\n",
       "      <th>InterestRate_TreasurySecurity_1Month_ConstantMaturity</th>\n",
       "    </tr>\n",
       "    <tr>\n",
       "      <th>place</th>\n",
       "      <th></th>\n",
       "      <th></th>\n",
       "    </tr>\n",
       "  </thead>\n",
       "  <tbody>\n",
       "    <tr>\n",
       "      <th>country/USA</th>\n",
       "      <td>1602</td>\n",
       "      <td>5.51</td>\n",
       "    </tr>\n",
       "  </tbody>\n",
       "</table>\n",
       "</div>"
      ],
      "text/plain": [
       "             Count_MedicalConditionIncident_COVID_19_PatientInICU  \\\n",
       "place                                                               \n",
       "country/USA                                               1602      \n",
       "\n",
       "             InterestRate_TreasurySecurity_1Month_ConstantMaturity  \n",
       "place                                                               \n",
       "country/USA                                               5.51      "
      ]
     },
     "execution_count": 30,
     "metadata": {},
     "output_type": "execute_result"
    }
   ],
   "source": [
    "dcid = ['InterestRate_TreasurySecurity_1Month_ConstantMaturity', 'Count_MedicalConditionIncident_COVID_19_PatientInICU']\n",
    "place_dcids = ['country/USA', 'country/QAT']\n",
    "\n",
    "dc.build_multivariate_dataframe(place_dcids,dcid)"
   ]
  },
  {
   "cell_type": "code",
   "execution_count": 38,
   "metadata": {},
   "outputs": [
    {
     "name": "stdout",
     "output_type": "stream",
     "text": [
      "Prediction(\n",
      "    rationale='produce the keywords. We are looking for the interest rate of nonfinancial commercial paper in the USA.',\n",
      "    places='USA',\n",
      "    keywords='nonfinancial commercial paper, interest rate'\n",
      ")\n",
      "['country/USA']\n",
      "['InterestRate_FinancialInstrument_30Day_NonfinancialCommercialPaperAA', 'InterestRate_FinancialInstrument_90Day_NonfinancialCommercialPaperAA', 'InterestRate_FinancialInstrument_60Day_NonfinancialCommercialPaperAA', 'InterestRate_FinancialInstrument_1Year_PrimaryCredit', 'InterestRate_TreasurySecurity_1Year_ConstantMaturity', '']\n"
     ]
    },
    {
     "data": {
      "text/html": [
       "<div>\n",
       "<style scoped>\n",
       "    .dataframe tbody tr th:only-of-type {\n",
       "        vertical-align: middle;\n",
       "    }\n",
       "\n",
       "    .dataframe tbody tr th {\n",
       "        vertical-align: top;\n",
       "    }\n",
       "\n",
       "    .dataframe thead th {\n",
       "        text-align: right;\n",
       "    }\n",
       "</style>\n",
       "<table border=\"1\" class=\"dataframe\">\n",
       "  <thead>\n",
       "    <tr style=\"text-align: right;\">\n",
       "      <th></th>\n",
       "      <th>InterestRate_FinancialInstrument_30Day_NonfinancialCommercialPaperAA</th>\n",
       "      <th>InterestRate_FinancialInstrument_90Day_NonfinancialCommercialPaperAA</th>\n",
       "      <th>InterestRate_FinancialInstrument_60Day_NonfinancialCommercialPaperAA</th>\n",
       "      <th>InterestRate_FinancialInstrument_1Year_PrimaryCredit</th>\n",
       "      <th>InterestRate_TreasurySecurity_1Year_ConstantMaturity</th>\n",
       "    </tr>\n",
       "    <tr>\n",
       "      <th>place</th>\n",
       "      <th></th>\n",
       "      <th></th>\n",
       "      <th></th>\n",
       "      <th></th>\n",
       "      <th></th>\n",
       "    </tr>\n",
       "  </thead>\n",
       "  <tbody>\n",
       "    <tr>\n",
       "      <th>country/USA</th>\n",
       "      <td>5.32</td>\n",
       "      <td>5.33</td>\n",
       "      <td>5.33</td>\n",
       "      <td>5.5</td>\n",
       "      <td>5.02</td>\n",
       "    </tr>\n",
       "  </tbody>\n",
       "</table>\n",
       "</div>"
      ],
      "text/plain": [
       "             InterestRate_FinancialInstrument_30Day_NonfinancialCommercialPaperAA  \\\n",
       "place                                                                               \n",
       "country/USA                                               5.32                      \n",
       "\n",
       "             InterestRate_FinancialInstrument_90Day_NonfinancialCommercialPaperAA  \\\n",
       "place                                                                               \n",
       "country/USA                                               5.33                      \n",
       "\n",
       "             InterestRate_FinancialInstrument_60Day_NonfinancialCommercialPaperAA  \\\n",
       "place                                                                               \n",
       "country/USA                                               5.33                      \n",
       "\n",
       "             InterestRate_FinancialInstrument_1Year_PrimaryCredit  \\\n",
       "place                                                               \n",
       "country/USA                                                5.5      \n",
       "\n",
       "             InterestRate_TreasurySecurity_1Year_ConstantMaturity  \n",
       "place                                                              \n",
       "country/USA                                               5.02     "
      ]
     },
     "execution_count": 38,
     "metadata": {},
     "output_type": "execute_result"
    }
   ],
   "source": [
    "all_dcids_agent(question=\"What is the Nonfinancial Commercial Paper Interest Rate in USA?\")"
   ]
  },
  {
   "cell_type": "code",
   "execution_count": 39,
   "metadata": {},
   "outputs": [
    {
     "name": "stdout",
     "output_type": "stream",
     "text": [
      "Prediction(\n",
      "    rationale='produce the keywords. We are looking for the annual consumption of Lignite coal in India.',\n",
      "    places='India',\n",
      "    keywords='annual consumption, Lignite coal'\n",
      ")\n",
      "['geoId/1836003']\n",
      "['Count_Person_NotHispanicOrLatino_FoodInSecure_White_AsAFractionOf_Count_Person_NotHispanicOrLatino_White']\n"
     ]
    },
    {
     "ename": "ValueError",
     "evalue": "No data for any of specified Places and StatisticalVariables.",
     "output_type": "error",
     "traceback": [
      "\u001b[1;31m---------------------------------------------------------------------------\u001b[0m",
      "\u001b[1;31mValueError\u001b[0m                                Traceback (most recent call last)",
      "Cell \u001b[1;32mIn[39], line 1\u001b[0m\n\u001b[1;32m----> 1\u001b[0m \u001b[43mall_dcids_agent\u001b[49m\u001b[43m(\u001b[49m\u001b[43mquestion\u001b[49m\u001b[38;5;241;43m=\u001b[39;49m\u001b[38;5;124;43m\"\u001b[39;49m\u001b[38;5;124;43mWhat is the annual consumption of Lignite coal in India?\u001b[39;49m\u001b[38;5;124;43m\"\u001b[39;49m\u001b[43m)\u001b[49m\n",
      "Cell \u001b[1;32mIn[36], line 33\u001b[0m, in \u001b[0;36mDataCommonsDSPy.__call__\u001b[1;34m(self, question, **kwargs)\u001b[0m\n\u001b[0;32m     32\u001b[0m \u001b[38;5;28;01mdef\u001b[39;00m \u001b[38;5;21m__call__\u001b[39m(\u001b[38;5;28mself\u001b[39m,question,\u001b[38;5;241m*\u001b[39m\u001b[38;5;241m*\u001b[39mkwargs):\n\u001b[1;32m---> 33\u001b[0m     \u001b[38;5;28;01mreturn\u001b[39;00m \u001b[38;5;28mself\u001b[39m\u001b[38;5;241m.\u001b[39mforward(question,\u001b[38;5;241m*\u001b[39m\u001b[38;5;241m*\u001b[39mkwargs)\n",
      "Cell \u001b[1;32mIn[36], line 61\u001b[0m, in \u001b[0;36mDataCommonsDSPy.forward\u001b[1;34m(self, question)\u001b[0m\n\u001b[0;32m     59\u001b[0m relevant_dcid_list \u001b[38;5;241m=\u001b[39m [rdl\u001b[38;5;241m.\u001b[39mstrip() \u001b[38;5;28;01mfor\u001b[39;00m rdl \u001b[38;5;129;01min\u001b[39;00m relevant_dcid_list]\n\u001b[0;32m     60\u001b[0m \u001b[38;5;28mprint\u001b[39m(relevant_dcid_list)\n\u001b[1;32m---> 61\u001b[0m result_df \u001b[38;5;241m=\u001b[39m \u001b[43mdc\u001b[49m\u001b[38;5;241;43m.\u001b[39;49m\u001b[43mbuild_multivariate_dataframe\u001b[49m\u001b[43m(\u001b[49m\u001b[43mplace_dcids\u001b[49m\u001b[43m,\u001b[49m\u001b[43mrelevant_dcid_list\u001b[49m\u001b[43m)\u001b[49m\n\u001b[0;32m     62\u001b[0m \u001b[38;5;28;01mreturn\u001b[39;00m result_df\n",
      "File \u001b[1;32mc:\\Users\\astar\\anaconda3\\envs\\tf-gpu\\lib\\site-packages\\datacommons_pandas\\df_builder.py:314\u001b[0m, in \u001b[0;36mbuild_multivariate_dataframe\u001b[1;34m(places, stat_vars)\u001b[0m\n\u001b[0;32m    310\u001b[0m \u001b[38;5;28;01mexcept\u001b[39;00m:\n\u001b[0;32m    311\u001b[0m     \u001b[38;5;28;01mraise\u001b[39;00m \u001b[38;5;167;01mValueError\u001b[39;00m(\n\u001b[0;32m    312\u001b[0m         \u001b[38;5;124m'\u001b[39m\u001b[38;5;124mParameter `places` and `stat_vars` must be string object or list-like object.\u001b[39m\u001b[38;5;124m'\u001b[39m\n\u001b[0;32m    313\u001b[0m     )\n\u001b[1;32m--> 314\u001b[0m df \u001b[38;5;241m=\u001b[39m pd\u001b[38;5;241m.\u001b[39mDataFrame\u001b[38;5;241m.\u001b[39mfrom_records(\u001b[43m_multivariate_pd_input\u001b[49m\u001b[43m(\u001b[49m\u001b[43mplaces\u001b[49m\u001b[43m,\u001b[49m\u001b[43m \u001b[49m\u001b[43mstat_vars\u001b[49m\u001b[43m)\u001b[49m)\n\u001b[0;32m    315\u001b[0m df\u001b[38;5;241m.\u001b[39mset_index(\u001b[38;5;124m'\u001b[39m\u001b[38;5;124mplace\u001b[39m\u001b[38;5;124m'\u001b[39m, inplace\u001b[38;5;241m=\u001b[39m\u001b[38;5;28;01mTrue\u001b[39;00m)\n\u001b[0;32m    316\u001b[0m df\u001b[38;5;241m.\u001b[39msort_index(inplace\u001b[38;5;241m=\u001b[39m\u001b[38;5;28;01mTrue\u001b[39;00m)\n",
      "File \u001b[1;32mc:\\Users\\astar\\anaconda3\\envs\\tf-gpu\\lib\\site-packages\\datacommons_pandas\\df_builder.py:238\u001b[0m, in \u001b[0;36m_multivariate_pd_input\u001b[1;34m(places, stat_vars)\u001b[0m\n\u001b[0;32m    215\u001b[0m \u001b[38;5;28;01mdef\u001b[39;00m \u001b[38;5;21m_multivariate_pd_input\u001b[39m(places, stat_vars):\n\u001b[0;32m    216\u001b[0m \u001b[38;5;250m    \u001b[39m\u001b[38;5;124;03m\"\"\"Returns a `list` of `dict` per element of `places` based on the `stat_var`.\u001b[39;00m\n\u001b[0;32m    217\u001b[0m \n\u001b[0;32m    218\u001b[0m \u001b[38;5;124;03m    Data Commons will pick a set of StatVarObservation options that covers the\u001b[39;00m\n\u001b[1;32m   (...)\u001b[0m\n\u001b[0;32m    235\u001b[0m \u001b[38;5;124;03m          ]\u001b[39;00m\n\u001b[0;32m    236\u001b[0m \u001b[38;5;124;03m    \"\"\"\u001b[39;00m\n\u001b[1;32m--> 238\u001b[0m     rows_dict \u001b[38;5;241m=\u001b[39m \u001b[43m_group_stat_all_by_obs_options\u001b[49m\u001b[43m(\u001b[49m\u001b[43mplaces\u001b[49m\u001b[43m,\u001b[49m\n\u001b[0;32m    239\u001b[0m \u001b[43m                                               \u001b[49m\u001b[43mstat_vars\u001b[49m\u001b[43m,\u001b[49m\n\u001b[0;32m    240\u001b[0m \u001b[43m                                               \u001b[49m\u001b[43mkeep_series\u001b[49m\u001b[38;5;241;43m=\u001b[39;49m\u001b[38;5;28;43;01mFalse\u001b[39;49;00m\u001b[43m)\u001b[49m\n\u001b[0;32m    241\u001b[0m     place2cov \u001b[38;5;241m=\u001b[39m collections\u001b[38;5;241m.\u001b[39mdefaultdict(\u001b[38;5;28mdict\u001b[39m)  \u001b[38;5;66;03m# {geo: {var1: 3, var2: 33}}\u001b[39;00m\n\u001b[0;32m    243\u001b[0m     \u001b[38;5;28;01mfor\u001b[39;00m stat_var, candidates_dict \u001b[38;5;129;01min\u001b[39;00m rows_dict\u001b[38;5;241m.\u001b[39mitems():\n",
      "File \u001b[1;32mc:\\Users\\astar\\anaconda3\\envs\\tf-gpu\\lib\\site-packages\\datacommons_pandas\\df_builder.py:115\u001b[0m, in \u001b[0;36m_group_stat_all_by_obs_options\u001b[1;34m(places, stat_vars, keep_series)\u001b[0m\n\u001b[0;32m    109\u001b[0m                 res[stat_var][obs_options]\u001b[38;5;241m.\u001b[39mappend({\n\u001b[0;32m    110\u001b[0m                     \u001b[38;5;124m'\u001b[39m\u001b[38;5;124mplace\u001b[39m\u001b[38;5;124m'\u001b[39m: place,\n\u001b[0;32m    111\u001b[0m                     \u001b[38;5;124m'\u001b[39m\u001b[38;5;124mdate\u001b[39m\u001b[38;5;124m'\u001b[39m: date,\n\u001b[0;32m    112\u001b[0m                     \u001b[38;5;124m'\u001b[39m\u001b[38;5;124mval\u001b[39m\u001b[38;5;124m'\u001b[39m: series[date]\n\u001b[0;32m    113\u001b[0m                 })\n\u001b[0;32m    114\u001b[0m \u001b[38;5;28;01mif\u001b[39;00m \u001b[38;5;129;01mnot\u001b[39;00m res:\n\u001b[1;32m--> 115\u001b[0m     \u001b[38;5;28;01mraise\u001b[39;00m \u001b[38;5;167;01mValueError\u001b[39;00m(\n\u001b[0;32m    116\u001b[0m         \u001b[38;5;124m'\u001b[39m\u001b[38;5;124mNo data for any of specified Places and StatisticalVariables.\u001b[39m\u001b[38;5;124m'\u001b[39m)\n\u001b[0;32m    117\u001b[0m \u001b[38;5;28;01mif\u001b[39;00m keep_series:\n\u001b[0;32m    118\u001b[0m     \u001b[38;5;28;01mreturn\u001b[39;00m \u001b[38;5;28mdict\u001b[39m(res)\n",
      "\u001b[1;31mValueError\u001b[0m: No data for any of specified Places and StatisticalVariables."
     ]
    }
   ],
   "source": [
    "all_dcids_agent(question=\"What is the annual consumption of Lignite coal in India?\")"
   ]
  },
  {
   "cell_type": "markdown",
   "metadata": {},
   "source": [
    "## EXTRACT STATISTICAL VARIABLES"
   ]
  },
  {
   "cell_type": "code",
   "execution_count": 10,
   "metadata": {},
   "outputs": [],
   "source": [
    "import requests\n",
    "from bs4 import BeautifulSoup\n",
    "\n",
    "stats_page = requests.get(\"https://datacommons.org/browser/memberList\")\n",
    "stats_soup = BeautifulSoup(stats_page.content,'lxml')"
   ]
  },
  {
   "cell_type": "code",
   "execution_count": 11,
   "metadata": {},
   "outputs": [],
   "source": [
    "table_pages = stats_soup.find_all(class_=\"table-page-section\")"
   ]
  },
  {
   "cell_type": "code",
   "execution_count": 13,
   "metadata": {},
   "outputs": [
    {
     "data": {
      "text/plain": [
       "[]"
      ]
     },
     "execution_count": 13,
     "metadata": {},
     "output_type": "execute_result"
    }
   ],
   "source": [
    "table_pages"
   ]
  },
  {
   "cell_type": "code",
   "execution_count": null,
   "metadata": {},
   "outputs": [],
   "source": []
  }
 ],
 "metadata": {
  "kernelspec": {
   "display_name": "openbb-env",
   "language": "python",
   "name": "python3"
  },
  "language_info": {
   "codemirror_mode": {
    "name": "ipython",
    "version": 3
   },
   "file_extension": ".py",
   "mimetype": "text/x-python",
   "name": "python",
   "nbconvert_exporter": "python",
   "pygments_lexer": "ipython3",
   "version": "3.9.18"
  }
 },
 "nbformat": 4,
 "nbformat_minor": 2
}
