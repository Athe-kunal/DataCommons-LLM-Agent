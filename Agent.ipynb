{
 "cells": [
  {
   "cell_type": "code",
   "execution_count": 8,
   "metadata": {},
   "outputs": [],
   "source": [
    "# !pip install dspy langchain langchain_community\n",
    "# !pip install rank_bm25"
   ]
  },
  {
   "cell_type": "code",
   "execution_count": 3,
   "metadata": {},
   "outputs": [
    {
     "data": {
      "text/plain": [
       "'extractive families'"
      ]
     },
     "execution_count": 3,
     "metadata": {},
     "output_type": "execute_result"
    }
   ],
   "source": [
    "s = \"… extractive families\"\n",
    "s = s.replace(\"… \",\"\")\n",
    "s"
   ]
  },
  {
   "cell_type": "code",
   "execution_count": 2,
   "metadata": {},
   "outputs": [
    {
     "ename": "BadRequestError",
     "evalue": "Error code: 400 - {'error': {'message': \"'$.input' is invalid. Please check the API reference: https://platform.openai.com/docs/api-reference.\", 'type': 'invalid_request_error', 'param': None, 'code': None}}",
     "output_type": "error",
     "traceback": [
      "\u001b[1;31m---------------------------------------------------------------------------\u001b[0m",
      "\u001b[1;31mBadRequestError\u001b[0m                           Traceback (most recent call last)",
      "Cell \u001b[1;32mIn[2], line 2\u001b[0m\n\u001b[0;32m      1\u001b[0m \u001b[38;5;28;01mfrom\u001b[39;00m \u001b[38;5;21;01msrc\u001b[39;00m\u001b[38;5;21;01m.\u001b[39;00m\u001b[38;5;21;01mdatabase\u001b[39;00m \u001b[38;5;28;01mimport\u001b[39;00m build_dcids_database, load_database\n\u001b[1;32m----> 2\u001b[0m \u001b[43mbuild_dcids_database\u001b[49m\u001b[43m(\u001b[49m\u001b[43m)\u001b[49m\n\u001b[0;32m      3\u001b[0m dcid_collection \u001b[38;5;241m=\u001b[39m load_database()\n",
      "File \u001b[1;32mq:\\Data Commons\\DataCommons-LLM-Agent\\src\\database.py:64\u001b[0m, in \u001b[0;36mbuild_dcids_database\u001b[1;34m()\u001b[0m\n\u001b[0;32m     60\u001b[0m batches \u001b[38;5;241m=\u001b[39m create_batches(\n\u001b[0;32m     61\u001b[0m     api\u001b[38;5;241m=\u001b[39mclient, ids\u001b[38;5;241m=\u001b[39mids, documents\u001b[38;5;241m=\u001b[39mdocs, metadatas\u001b[38;5;241m=\u001b[39mmetadata\n\u001b[0;32m     62\u001b[0m )\n\u001b[0;32m     63\u001b[0m \u001b[38;5;28;01mfor\u001b[39;00m batch \u001b[38;5;129;01min\u001b[39;00m batches:\n\u001b[1;32m---> 64\u001b[0m     \u001b[43mdcid_collection\u001b[49m\u001b[38;5;241;43m.\u001b[39;49m\u001b[43madd\u001b[49m\u001b[43m(\u001b[49m\u001b[43mids\u001b[49m\u001b[38;5;241;43m=\u001b[39;49m\u001b[43mbatch\u001b[49m\u001b[43m[\u001b[49m\u001b[38;5;241;43m0\u001b[39;49m\u001b[43m]\u001b[49m\u001b[43m,\u001b[49m\u001b[43m \u001b[49m\u001b[43mdocuments\u001b[49m\u001b[38;5;241;43m=\u001b[39;49m\u001b[43mbatch\u001b[49m\u001b[43m[\u001b[49m\u001b[38;5;241;43m3\u001b[39;49m\u001b[43m]\u001b[49m\u001b[43m,\u001b[49m\u001b[43m \u001b[49m\u001b[43mmetadatas\u001b[49m\u001b[38;5;241;43m=\u001b[39;49m\u001b[43mbatch\u001b[49m\u001b[43m[\u001b[49m\u001b[38;5;241;43m2\u001b[39;49m\u001b[43m]\u001b[49m\u001b[43m)\u001b[49m\n\u001b[0;32m     65\u001b[0m \u001b[38;5;28;01mreturn\u001b[39;00m dcid_collection\n",
      "File \u001b[1;32mc:\\Users\\astar\\anaconda3\\envs\\tf-gpu\\lib\\site-packages\\chromadb\\api\\models\\Collection.py:154\u001b[0m, in \u001b[0;36mCollection.add\u001b[1;34m(self, ids, embeddings, metadatas, documents, images, uris)\u001b[0m\n\u001b[0;32m    151\u001b[0m \u001b[38;5;28;01mif\u001b[39;00m embeddings \u001b[38;5;129;01mis\u001b[39;00m \u001b[38;5;28;01mNone\u001b[39;00m:\n\u001b[0;32m    152\u001b[0m     \u001b[38;5;66;03m# At this point, we know that one of documents or images are provided from the validation above\u001b[39;00m\n\u001b[0;32m    153\u001b[0m     \u001b[38;5;28;01mif\u001b[39;00m documents \u001b[38;5;129;01mis\u001b[39;00m \u001b[38;5;129;01mnot\u001b[39;00m \u001b[38;5;28;01mNone\u001b[39;00m:\n\u001b[1;32m--> 154\u001b[0m         embeddings \u001b[38;5;241m=\u001b[39m \u001b[38;5;28;43mself\u001b[39;49m\u001b[38;5;241;43m.\u001b[39;49m\u001b[43m_embed\u001b[49m\u001b[43m(\u001b[49m\u001b[38;5;28;43minput\u001b[39;49m\u001b[38;5;241;43m=\u001b[39;49m\u001b[43mdocuments\u001b[49m\u001b[43m)\u001b[49m\n\u001b[0;32m    155\u001b[0m     \u001b[38;5;28;01melif\u001b[39;00m images \u001b[38;5;129;01mis\u001b[39;00m \u001b[38;5;129;01mnot\u001b[39;00m \u001b[38;5;28;01mNone\u001b[39;00m:\n\u001b[0;32m    156\u001b[0m         embeddings \u001b[38;5;241m=\u001b[39m \u001b[38;5;28mself\u001b[39m\u001b[38;5;241m.\u001b[39m_embed(\u001b[38;5;28minput\u001b[39m\u001b[38;5;241m=\u001b[39mimages)\n",
      "File \u001b[1;32mc:\\Users\\astar\\anaconda3\\envs\\tf-gpu\\lib\\site-packages\\chromadb\\api\\models\\Collection.py:633\u001b[0m, in \u001b[0;36mCollection._embed\u001b[1;34m(self, input)\u001b[0m\n\u001b[0;32m    628\u001b[0m \u001b[38;5;28;01mif\u001b[39;00m \u001b[38;5;28mself\u001b[39m\u001b[38;5;241m.\u001b[39m_embedding_function \u001b[38;5;129;01mis\u001b[39;00m \u001b[38;5;28;01mNone\u001b[39;00m:\n\u001b[0;32m    629\u001b[0m     \u001b[38;5;28;01mraise\u001b[39;00m \u001b[38;5;167;01mValueError\u001b[39;00m(\n\u001b[0;32m    630\u001b[0m         \u001b[38;5;124m\"\u001b[39m\u001b[38;5;124mYou must provide an embedding function to compute embeddings.\u001b[39m\u001b[38;5;124m\"\u001b[39m\n\u001b[0;32m    631\u001b[0m         \u001b[38;5;124m\"\u001b[39m\u001b[38;5;124mhttps://docs.trychroma.com/embeddings\u001b[39m\u001b[38;5;124m\"\u001b[39m\n\u001b[0;32m    632\u001b[0m     )\n\u001b[1;32m--> 633\u001b[0m \u001b[38;5;28;01mreturn\u001b[39;00m \u001b[38;5;28;43mself\u001b[39;49m\u001b[38;5;241;43m.\u001b[39;49m\u001b[43m_embedding_function\u001b[49m\u001b[43m(\u001b[49m\u001b[38;5;28;43minput\u001b[39;49m\u001b[38;5;241;43m=\u001b[39;49m\u001b[38;5;28;43minput\u001b[39;49m\u001b[43m)\u001b[49m\n",
      "File \u001b[1;32mc:\\Users\\astar\\anaconda3\\envs\\tf-gpu\\lib\\site-packages\\chromadb\\utils\\embedding_functions.py:177\u001b[0m, in \u001b[0;36mOpenAIEmbeddingFunction.__call__\u001b[1;34m(self, input)\u001b[0m\n\u001b[0;32m    175\u001b[0m \u001b[38;5;66;03m# Call the OpenAI Embedding API\u001b[39;00m\n\u001b[0;32m    176\u001b[0m \u001b[38;5;28;01mif\u001b[39;00m \u001b[38;5;28mself\u001b[39m\u001b[38;5;241m.\u001b[39m_v1:\n\u001b[1;32m--> 177\u001b[0m     embeddings \u001b[38;5;241m=\u001b[39m \u001b[38;5;28;43mself\u001b[39;49m\u001b[38;5;241;43m.\u001b[39;49m\u001b[43m_client\u001b[49m\u001b[38;5;241;43m.\u001b[39;49m\u001b[43mcreate\u001b[49m\u001b[43m(\u001b[49m\n\u001b[0;32m    178\u001b[0m \u001b[43m        \u001b[49m\u001b[38;5;28;43minput\u001b[39;49m\u001b[38;5;241;43m=\u001b[39;49m\u001b[38;5;28;43minput\u001b[39;49m\u001b[43m,\u001b[49m\u001b[43m \u001b[49m\u001b[43mmodel\u001b[49m\u001b[38;5;241;43m=\u001b[39;49m\u001b[38;5;28;43mself\u001b[39;49m\u001b[38;5;241;43m.\u001b[39;49m\u001b[43m_deployment_id\u001b[49m\u001b[43m \u001b[49m\u001b[38;5;129;43;01mor\u001b[39;49;00m\u001b[43m \u001b[49m\u001b[38;5;28;43mself\u001b[39;49m\u001b[38;5;241;43m.\u001b[39;49m\u001b[43m_model_name\u001b[49m\n\u001b[0;32m    179\u001b[0m \u001b[43m    \u001b[49m\u001b[43m)\u001b[49m\u001b[38;5;241m.\u001b[39mdata\n\u001b[0;32m    181\u001b[0m     \u001b[38;5;66;03m# Sort resulting embeddings by index\u001b[39;00m\n\u001b[0;32m    182\u001b[0m     sorted_embeddings \u001b[38;5;241m=\u001b[39m \u001b[38;5;28msorted\u001b[39m(\n\u001b[0;32m    183\u001b[0m         embeddings, key\u001b[38;5;241m=\u001b[39m\u001b[38;5;28;01mlambda\u001b[39;00m e: e\u001b[38;5;241m.\u001b[39mindex\n\u001b[0;32m    184\u001b[0m     )  \u001b[38;5;66;03m# type: ignore\u001b[39;00m\n",
      "File \u001b[1;32mc:\\Users\\astar\\anaconda3\\envs\\tf-gpu\\lib\\site-packages\\openai\\resources\\embeddings.py:105\u001b[0m, in \u001b[0;36mEmbeddings.create\u001b[1;34m(self, input, model, encoding_format, user, extra_headers, extra_query, extra_body, timeout)\u001b[0m\n\u001b[0;32m     99\u001b[0m         embedding\u001b[38;5;241m.\u001b[39membedding \u001b[38;5;241m=\u001b[39m np\u001b[38;5;241m.\u001b[39mfrombuffer(  \u001b[38;5;66;03m# type: ignore[no-untyped-call]\u001b[39;00m\n\u001b[0;32m    100\u001b[0m             base64\u001b[38;5;241m.\u001b[39mb64decode(data), dtype\u001b[38;5;241m=\u001b[39m\u001b[38;5;124m\"\u001b[39m\u001b[38;5;124mfloat32\u001b[39m\u001b[38;5;124m\"\u001b[39m\n\u001b[0;32m    101\u001b[0m         )\u001b[38;5;241m.\u001b[39mtolist()\n\u001b[0;32m    103\u001b[0m     \u001b[38;5;28;01mreturn\u001b[39;00m obj\n\u001b[1;32m--> 105\u001b[0m \u001b[38;5;28;01mreturn\u001b[39;00m \u001b[38;5;28;43mself\u001b[39;49m\u001b[38;5;241;43m.\u001b[39;49m\u001b[43m_post\u001b[49m\u001b[43m(\u001b[49m\n\u001b[0;32m    106\u001b[0m \u001b[43m    \u001b[49m\u001b[38;5;124;43m\"\u001b[39;49m\u001b[38;5;124;43m/embeddings\u001b[39;49m\u001b[38;5;124;43m\"\u001b[39;49m\u001b[43m,\u001b[49m\n\u001b[0;32m    107\u001b[0m \u001b[43m    \u001b[49m\u001b[43mbody\u001b[49m\u001b[38;5;241;43m=\u001b[39;49m\u001b[43mmaybe_transform\u001b[49m\u001b[43m(\u001b[49m\u001b[43mparams\u001b[49m\u001b[43m,\u001b[49m\u001b[43m \u001b[49m\u001b[43membedding_create_params\u001b[49m\u001b[38;5;241;43m.\u001b[39;49m\u001b[43mEmbeddingCreateParams\u001b[49m\u001b[43m)\u001b[49m\u001b[43m,\u001b[49m\n\u001b[0;32m    108\u001b[0m \u001b[43m    \u001b[49m\u001b[43moptions\u001b[49m\u001b[38;5;241;43m=\u001b[39;49m\u001b[43mmake_request_options\u001b[49m\u001b[43m(\u001b[49m\n\u001b[0;32m    109\u001b[0m \u001b[43m        \u001b[49m\u001b[43mextra_headers\u001b[49m\u001b[38;5;241;43m=\u001b[39;49m\u001b[43mextra_headers\u001b[49m\u001b[43m,\u001b[49m\n\u001b[0;32m    110\u001b[0m \u001b[43m        \u001b[49m\u001b[43mextra_query\u001b[49m\u001b[38;5;241;43m=\u001b[39;49m\u001b[43mextra_query\u001b[49m\u001b[43m,\u001b[49m\n\u001b[0;32m    111\u001b[0m \u001b[43m        \u001b[49m\u001b[43mextra_body\u001b[49m\u001b[38;5;241;43m=\u001b[39;49m\u001b[43mextra_body\u001b[49m\u001b[43m,\u001b[49m\n\u001b[0;32m    112\u001b[0m \u001b[43m        \u001b[49m\u001b[43mtimeout\u001b[49m\u001b[38;5;241;43m=\u001b[39;49m\u001b[43mtimeout\u001b[49m\u001b[43m,\u001b[49m\n\u001b[0;32m    113\u001b[0m \u001b[43m        \u001b[49m\u001b[43mpost_parser\u001b[49m\u001b[38;5;241;43m=\u001b[39;49m\u001b[43mparser\u001b[49m\u001b[43m,\u001b[49m\n\u001b[0;32m    114\u001b[0m \u001b[43m    \u001b[49m\u001b[43m)\u001b[49m\u001b[43m,\u001b[49m\n\u001b[0;32m    115\u001b[0m \u001b[43m    \u001b[49m\u001b[43mcast_to\u001b[49m\u001b[38;5;241;43m=\u001b[39;49m\u001b[43mCreateEmbeddingResponse\u001b[49m\u001b[43m,\u001b[49m\n\u001b[0;32m    116\u001b[0m \u001b[43m\u001b[49m\u001b[43m)\u001b[49m\n",
      "File \u001b[1;32mc:\\Users\\astar\\anaconda3\\envs\\tf-gpu\\lib\\site-packages\\openai\\_base_client.py:1055\u001b[0m, in \u001b[0;36mSyncAPIClient.post\u001b[1;34m(self, path, cast_to, body, options, files, stream, stream_cls)\u001b[0m\n\u001b[0;32m   1041\u001b[0m \u001b[38;5;28;01mdef\u001b[39;00m \u001b[38;5;21mpost\u001b[39m(\n\u001b[0;32m   1042\u001b[0m     \u001b[38;5;28mself\u001b[39m,\n\u001b[0;32m   1043\u001b[0m     path: \u001b[38;5;28mstr\u001b[39m,\n\u001b[1;32m   (...)\u001b[0m\n\u001b[0;32m   1050\u001b[0m     stream_cls: \u001b[38;5;28mtype\u001b[39m[_StreamT] \u001b[38;5;241m|\u001b[39m \u001b[38;5;28;01mNone\u001b[39;00m \u001b[38;5;241m=\u001b[39m \u001b[38;5;28;01mNone\u001b[39;00m,\n\u001b[0;32m   1051\u001b[0m ) \u001b[38;5;241m-\u001b[39m\u001b[38;5;241m>\u001b[39m ResponseT \u001b[38;5;241m|\u001b[39m _StreamT:\n\u001b[0;32m   1052\u001b[0m     opts \u001b[38;5;241m=\u001b[39m FinalRequestOptions\u001b[38;5;241m.\u001b[39mconstruct(\n\u001b[0;32m   1053\u001b[0m         method\u001b[38;5;241m=\u001b[39m\u001b[38;5;124m\"\u001b[39m\u001b[38;5;124mpost\u001b[39m\u001b[38;5;124m\"\u001b[39m, url\u001b[38;5;241m=\u001b[39mpath, json_data\u001b[38;5;241m=\u001b[39mbody, files\u001b[38;5;241m=\u001b[39mto_httpx_files(files), \u001b[38;5;241m*\u001b[39m\u001b[38;5;241m*\u001b[39moptions\n\u001b[0;32m   1054\u001b[0m     )\n\u001b[1;32m-> 1055\u001b[0m     \u001b[38;5;28;01mreturn\u001b[39;00m cast(ResponseT, \u001b[38;5;28;43mself\u001b[39;49m\u001b[38;5;241;43m.\u001b[39;49m\u001b[43mrequest\u001b[49m\u001b[43m(\u001b[49m\u001b[43mcast_to\u001b[49m\u001b[43m,\u001b[49m\u001b[43m \u001b[49m\u001b[43mopts\u001b[49m\u001b[43m,\u001b[49m\u001b[43m \u001b[49m\u001b[43mstream\u001b[49m\u001b[38;5;241;43m=\u001b[39;49m\u001b[43mstream\u001b[49m\u001b[43m,\u001b[49m\u001b[43m \u001b[49m\u001b[43mstream_cls\u001b[49m\u001b[38;5;241;43m=\u001b[39;49m\u001b[43mstream_cls\u001b[49m\u001b[43m)\u001b[49m)\n",
      "File \u001b[1;32mc:\\Users\\astar\\anaconda3\\envs\\tf-gpu\\lib\\site-packages\\openai\\_base_client.py:834\u001b[0m, in \u001b[0;36mSyncAPIClient.request\u001b[1;34m(self, cast_to, options, remaining_retries, stream, stream_cls)\u001b[0m\n\u001b[0;32m    825\u001b[0m \u001b[38;5;28;01mdef\u001b[39;00m \u001b[38;5;21mrequest\u001b[39m(\n\u001b[0;32m    826\u001b[0m     \u001b[38;5;28mself\u001b[39m,\n\u001b[0;32m    827\u001b[0m     cast_to: Type[ResponseT],\n\u001b[1;32m   (...)\u001b[0m\n\u001b[0;32m    832\u001b[0m     stream_cls: \u001b[38;5;28mtype\u001b[39m[_StreamT] \u001b[38;5;241m|\u001b[39m \u001b[38;5;28;01mNone\u001b[39;00m \u001b[38;5;241m=\u001b[39m \u001b[38;5;28;01mNone\u001b[39;00m,\n\u001b[0;32m    833\u001b[0m ) \u001b[38;5;241m-\u001b[39m\u001b[38;5;241m>\u001b[39m ResponseT \u001b[38;5;241m|\u001b[39m _StreamT:\n\u001b[1;32m--> 834\u001b[0m     \u001b[38;5;28;01mreturn\u001b[39;00m \u001b[38;5;28;43mself\u001b[39;49m\u001b[38;5;241;43m.\u001b[39;49m\u001b[43m_request\u001b[49m\u001b[43m(\u001b[49m\n\u001b[0;32m    835\u001b[0m \u001b[43m        \u001b[49m\u001b[43mcast_to\u001b[49m\u001b[38;5;241;43m=\u001b[39;49m\u001b[43mcast_to\u001b[49m\u001b[43m,\u001b[49m\n\u001b[0;32m    836\u001b[0m \u001b[43m        \u001b[49m\u001b[43moptions\u001b[49m\u001b[38;5;241;43m=\u001b[39;49m\u001b[43moptions\u001b[49m\u001b[43m,\u001b[49m\n\u001b[0;32m    837\u001b[0m \u001b[43m        \u001b[49m\u001b[43mstream\u001b[49m\u001b[38;5;241;43m=\u001b[39;49m\u001b[43mstream\u001b[49m\u001b[43m,\u001b[49m\n\u001b[0;32m    838\u001b[0m \u001b[43m        \u001b[49m\u001b[43mstream_cls\u001b[49m\u001b[38;5;241;43m=\u001b[39;49m\u001b[43mstream_cls\u001b[49m\u001b[43m,\u001b[49m\n\u001b[0;32m    839\u001b[0m \u001b[43m        \u001b[49m\u001b[43mremaining_retries\u001b[49m\u001b[38;5;241;43m=\u001b[39;49m\u001b[43mremaining_retries\u001b[49m\u001b[43m,\u001b[49m\n\u001b[0;32m    840\u001b[0m \u001b[43m    \u001b[49m\u001b[43m)\u001b[49m\n",
      "File \u001b[1;32mc:\\Users\\astar\\anaconda3\\envs\\tf-gpu\\lib\\site-packages\\openai\\_base_client.py:877\u001b[0m, in \u001b[0;36mSyncAPIClient._request\u001b[1;34m(self, cast_to, options, remaining_retries, stream, stream_cls)\u001b[0m\n\u001b[0;32m    874\u001b[0m     \u001b[38;5;66;03m# If the response is streamed then we need to explicitly read the response\u001b[39;00m\n\u001b[0;32m    875\u001b[0m     \u001b[38;5;66;03m# to completion before attempting to access the response text.\u001b[39;00m\n\u001b[0;32m    876\u001b[0m     err\u001b[38;5;241m.\u001b[39mresponse\u001b[38;5;241m.\u001b[39mread()\n\u001b[1;32m--> 877\u001b[0m     \u001b[38;5;28;01mraise\u001b[39;00m \u001b[38;5;28mself\u001b[39m\u001b[38;5;241m.\u001b[39m_make_status_error_from_response(err\u001b[38;5;241m.\u001b[39mresponse) \u001b[38;5;28;01mfrom\u001b[39;00m \u001b[38;5;28;01mNone\u001b[39;00m\n\u001b[0;32m    878\u001b[0m \u001b[38;5;28;01mexcept\u001b[39;00m httpx\u001b[38;5;241m.\u001b[39mTimeoutException \u001b[38;5;28;01mas\u001b[39;00m err:\n\u001b[0;32m    879\u001b[0m     \u001b[38;5;28;01mif\u001b[39;00m retries \u001b[38;5;241m>\u001b[39m \u001b[38;5;241m0\u001b[39m:\n",
      "\u001b[1;31mBadRequestError\u001b[0m: Error code: 400 - {'error': {'message': \"'$.input' is invalid. Please check the API reference: https://platform.openai.com/docs/api-reference.\", 'type': 'invalid_request_error', 'param': None, 'code': None}}"
     ]
    }
   ],
   "source": [
    "from src.database import build_dcids_database, load_database\n",
    "build_dcids_database()\n",
    "dcid_collection = load_database()"
   ]
  },
  {
   "cell_type": "code",
   "execution_count": 1,
   "metadata": {},
   "outputs": [],
   "source": [
    "from src.get_place_dcids import place_dcid"
   ]
  },
  {
   "cell_type": "code",
   "execution_count": 2,
   "metadata": {},
   "outputs": [
    {
     "data": {
      "text/plain": [
       "'geoId/1836003'"
      ]
     },
     "execution_count": 2,
     "metadata": {},
     "output_type": "execute_result"
    }
   ],
   "source": [
    "place_dcid([\"India\"])"
   ]
  },
  {
   "cell_type": "code",
   "execution_count": 3,
   "metadata": {},
   "outputs": [],
   "source": [
    "from abc import ABC, abstractmethod\n",
    "from typing import Any\n",
    "\n",
    "class DataCommonsAgent(ABC):\n",
    "    def __call__(self, *args: Any, **kwargs: Any) -> Any:\n",
    "        return self.forward(*args,**kwargs)\n",
    "    @abstractmethod\n",
    "    def forward(self,question):\n",
    "        pass"
   ]
  },
  {
   "cell_type": "code",
   "execution_count": 4,
   "metadata": {},
   "outputs": [],
   "source": [
    "from langchain.schema import Document\n",
    "elems = dcid_collection.get()\n",
    "langchain_docs = []\n",
    "for doc,metadata in zip(elems['documents'],elems['metadatas']):\n",
    "    \n",
    "    langchain_docs.append(Document(page_content=doc,metadata=metadata))"
   ]
  },
  {
   "cell_type": "code",
   "execution_count": 5,
   "metadata": {},
   "outputs": [],
   "source": [
    "import dspy\n",
    "from langchain_community.retrievers import BM25Retriever\n",
    "from dotenv import load_dotenv,find_dotenv\n",
    "import concurrent.futures\n",
    "import datacommons_pandas as dc\n",
    "from typing import Annotated, List\n",
    "import chromadb.utils.embedding_functions as embedding_functions\n",
    "import chromadb\n",
    "import os\n",
    "\n",
    "load_dotenv(find_dotenv(),override=True)\n",
    "llm = dspy.OpenAI(model=\"gpt-3.5-turbo\")\n",
    "dspy.settings.configure(lm=llm)\n",
    "\"\"\"Returns the places that the question is talking about separated by semicolon (;) and also only the noun keywords relevant to the question in a list\n",
    "    Make sure that you are only outputing the noun keywords and not other things\"\"\"\n",
    "class PlaceKeywordSignature(dspy.Signature):\n",
    "    \"\"\"Returns the places that the question is talking about separated by semicolon (;)\"\"\"\n",
    "    question = dspy.InputField(prefix=\"Question: \",desc=\"Question asked by the user\")\n",
    "    places = dspy.OutputField(prefix=\"Places: \",desc=\"places like countries, states, towns, etc mentioned in the question separated by semicolon (;)\")\n",
    "    # keywords = dspy.OutputField(prefix=\"Keywords: \",desc=\"noun keywords relevant to the question in a list. DON'T include the place names and be precise\")\n",
    "\n",
    "class SelectDCIDSignature(dspy.Signature):\n",
    "    \"\"\"Based on the dcid and their descriptions, select the dcid(s) that are most relevant to the question. Return the relevant dcids separated by semicolon (;)\n",
    "    Don't output anything else, just output the relevant dcid(s). You have to output only from the given dcids, don't output any other dcids\"\"\"\n",
    "    dcids_list = dspy.InputField(prefix=\"DCID and Description List: \",desc=\"DCIDs and its corresponding description\")\n",
    "    relevant_dcids = dspy.OutputField(prefix=\"Relevant DCIDs: \",desc=\"relevant dcids only separated by semicolon (;)\")\n",
    "\n",
    "emb_fn = embedding_functions.OpenAIEmbeddingFunction(\n",
    "    api_key=os.environ[\"OPENAI_API_KEY\"], model_name=\"text-embedding-3-small\"\n",
    ")\n",
    "\n",
    "class DataCommonsDSPy(dspy.Module):\n",
    "    def __init__(self,dcid_collection:chromadb.Collection):\n",
    "        super().__init__()\n",
    "        self.datacommons_collection = dcid_collection\n",
    "        self.place_keyword_llm = dspy.ChainOfThought(PlaceKeywordSignature)\n",
    "        self.relevant_dcid_llm = dspy.ChainOfThought(SelectDCIDSignature)\n",
    "        self.bm25_retriever = BM25Retriever.from_documents(\n",
    "                langchain_docs, k=20, preprocess_func=(lambda x: x.lower())\n",
    "            )\n",
    "    def __call__(self,question:str, **kwargs):\n",
    "        return self.forward(question, **kwargs)\n",
    "    \n",
    "    def _where_clause_dcids_helper_func(self,dcids_list:List[str]):\n",
    "        assert len(dcids_list)>1, \"Check the BM25 retriever, the number of returned documents should be more than 1 from the sparse search\"\n",
    "        dcid_where_clause = {\"$or\": [{\"dcid\": {\"$eq\": t}} for t in dcids_list]}\n",
    "        return dcid_where_clause\n",
    "\n",
    "    def forward(self,question:Annotated[str,\"Question that will be answered by the DataCommons Agent\"]):\n",
    "        question_emb = emb_fn([question])[0]\n",
    "        llm_answer = self.place_keyword_llm(question=question)\n",
    "        places = llm_answer.places.split(\";\")\n",
    "        places = [pl.strip() for pl in places]\n",
    "        print()\n",
    "        with concurrent.futures.ThreadPoolExecutor(max_workers=3) as executor:\n",
    "            results = executor.map(place_dcid,places) \n",
    "        place_dcids = []\n",
    "        for res in results:\n",
    "            place_dcids.append(res)\n",
    "        print(place_dcids)\n",
    "        # Hybrid search (BM25 followed by dense retrieval)\n",
    "        # bm25_docs = self.bm25_retriever.invoke(question.lower())\n",
    "        # bm25_dcids = [doc.metadata['dcid'] for doc in bm25_docs]\n",
    "        # dcid_where_clause = self._where_clause_dcids_helper_func(bm25_dcids)\n",
    "        dense_retrieval_docs = self.datacommons_collection.query(\n",
    "            query_embeddings=question_emb,\n",
    "            # where=dcid_where_clause,\n",
    "            n_results=5\n",
    "        )\n",
    "        select_dcid_str:str = \"\"\n",
    "        for dcid_docs, dcid_metadata in zip(\n",
    "            dense_retrieval_docs[\"documents\"][0], dense_retrieval_docs[\"metadatas\"][0]\n",
    "        ):\n",
    "            select_dcid_str+=f\"{dcid_metadata['dcid']}: {dcid_docs}\\n\\n\"\n",
    "        \n",
    "        print(select_dcid_str)\n",
    "        relevant_dcid_result = self.relevant_dcid_llm(dcids_list=select_dcid_str)\n",
    "        relevant_dcid_list = relevant_dcid_result.relevant_dcids.split(\";\")\n",
    "        relevant_dcid_list = [rdl.strip() for rdl in relevant_dcid_list]\n",
    "        print(relevant_dcid_list)\n",
    "        result_df = dc.build_multivariate_dataframe(place_dcids,relevant_dcid_list)\n",
    "        return result_df\n",
    "\n",
    "dc_chroma = DataCommonsDSPy(dcid_collection)\n",
    "# dc_chroma(\"What is the number of patients recovered in COVID-19 from United States and Qatar?\")"
   ]
  },
  {
   "cell_type": "code",
   "execution_count": 31,
   "metadata": {},
   "outputs": [
    {
     "name": "stdout",
     "output_type": "stream",
     "text": [
      "\n",
      "['geoId/1836003']\n",
      "AirQualityIndex_AirPollutant: Air Quality Index\n",
      "\n",
      "AirQualityIndex_AirPollutant_PM2.5: Air Quality Index: PM 2.5\n",
      "\n",
      "AirQualityIndex_AirPollutant_Ozone: Air Quality Index: Ozone\n",
      "\n",
      "AirQualityIndex_AirPollutant_NO2: Air Quality Index: Nitrogen Dioxide\n",
      "\n",
      "AirQualityIndex_AirPollutant_SO2: Air Quality Index: Sulfur Dioxide\n",
      "\n",
      "\n",
      "['AirQualityIndex_AirPollutant_PM2.5', 'AirQualityIndex_AirPollutant_Ozone', 'AirQualityIndex_AirPollutant_NO2', 'AirQualityIndex_AirPollutant_SO2']\n"
     ]
    },
    {
     "ename": "ValueError",
     "evalue": "No data for any of specified Places and StatisticalVariables.",
     "output_type": "error",
     "traceback": [
      "\u001b[1;31m---------------------------------------------------------------------------\u001b[0m",
      "\u001b[1;31mValueError\u001b[0m                                Traceback (most recent call last)",
      "Cell \u001b[1;32mIn[31], line 1\u001b[0m\n\u001b[1;32m----> 1\u001b[0m \u001b[43mdc_chroma\u001b[49m\u001b[43m(\u001b[49m\u001b[38;5;124;43m\"\u001b[39;49m\u001b[38;5;124;43mWhat is the air quality index in India?\u001b[39;49m\u001b[38;5;124;43m\"\u001b[39;49m\u001b[43m)\u001b[49m\n",
      "Cell \u001b[1;32mIn[24], line 42\u001b[0m, in \u001b[0;36mDataCommonsDSPy.__call__\u001b[1;34m(self, question, **kwargs)\u001b[0m\n\u001b[0;32m     41\u001b[0m \u001b[38;5;28;01mdef\u001b[39;00m \u001b[38;5;21m__call__\u001b[39m(\u001b[38;5;28mself\u001b[39m,question:\u001b[38;5;28mstr\u001b[39m, \u001b[38;5;241m*\u001b[39m\u001b[38;5;241m*\u001b[39mkwargs):\n\u001b[1;32m---> 42\u001b[0m     \u001b[38;5;28;01mreturn\u001b[39;00m \u001b[38;5;28mself\u001b[39m\u001b[38;5;241m.\u001b[39mforward(question, \u001b[38;5;241m*\u001b[39m\u001b[38;5;241m*\u001b[39mkwargs)\n",
      "Cell \u001b[1;32mIn[24], line 81\u001b[0m, in \u001b[0;36mDataCommonsDSPy.forward\u001b[1;34m(self, question)\u001b[0m\n\u001b[0;32m     79\u001b[0m relevant_dcid_list \u001b[38;5;241m=\u001b[39m [rdl\u001b[38;5;241m.\u001b[39mstrip() \u001b[38;5;28;01mfor\u001b[39;00m rdl \u001b[38;5;129;01min\u001b[39;00m relevant_dcid_list]\n\u001b[0;32m     80\u001b[0m \u001b[38;5;28mprint\u001b[39m(relevant_dcid_list)\n\u001b[1;32m---> 81\u001b[0m result_df \u001b[38;5;241m=\u001b[39m \u001b[43mdc\u001b[49m\u001b[38;5;241;43m.\u001b[39;49m\u001b[43mbuild_multivariate_dataframe\u001b[49m\u001b[43m(\u001b[49m\u001b[43mplace_dcids\u001b[49m\u001b[43m,\u001b[49m\u001b[43mrelevant_dcid_list\u001b[49m\u001b[43m)\u001b[49m\n\u001b[0;32m     82\u001b[0m \u001b[38;5;28;01mreturn\u001b[39;00m result_df\n",
      "File \u001b[1;32mc:\\Users\\astar\\anaconda3\\envs\\tf-gpu\\lib\\site-packages\\datacommons_pandas\\df_builder.py:314\u001b[0m, in \u001b[0;36mbuild_multivariate_dataframe\u001b[1;34m(places, stat_vars)\u001b[0m\n\u001b[0;32m    310\u001b[0m \u001b[38;5;28;01mexcept\u001b[39;00m:\n\u001b[0;32m    311\u001b[0m     \u001b[38;5;28;01mraise\u001b[39;00m \u001b[38;5;167;01mValueError\u001b[39;00m(\n\u001b[0;32m    312\u001b[0m         \u001b[38;5;124m'\u001b[39m\u001b[38;5;124mParameter `places` and `stat_vars` must be string object or list-like object.\u001b[39m\u001b[38;5;124m'\u001b[39m\n\u001b[0;32m    313\u001b[0m     )\n\u001b[1;32m--> 314\u001b[0m df \u001b[38;5;241m=\u001b[39m pd\u001b[38;5;241m.\u001b[39mDataFrame\u001b[38;5;241m.\u001b[39mfrom_records(\u001b[43m_multivariate_pd_input\u001b[49m\u001b[43m(\u001b[49m\u001b[43mplaces\u001b[49m\u001b[43m,\u001b[49m\u001b[43m \u001b[49m\u001b[43mstat_vars\u001b[49m\u001b[43m)\u001b[49m)\n\u001b[0;32m    315\u001b[0m df\u001b[38;5;241m.\u001b[39mset_index(\u001b[38;5;124m'\u001b[39m\u001b[38;5;124mplace\u001b[39m\u001b[38;5;124m'\u001b[39m, inplace\u001b[38;5;241m=\u001b[39m\u001b[38;5;28;01mTrue\u001b[39;00m)\n\u001b[0;32m    316\u001b[0m df\u001b[38;5;241m.\u001b[39msort_index(inplace\u001b[38;5;241m=\u001b[39m\u001b[38;5;28;01mTrue\u001b[39;00m)\n",
      "File \u001b[1;32mc:\\Users\\astar\\anaconda3\\envs\\tf-gpu\\lib\\site-packages\\datacommons_pandas\\df_builder.py:238\u001b[0m, in \u001b[0;36m_multivariate_pd_input\u001b[1;34m(places, stat_vars)\u001b[0m\n\u001b[0;32m    215\u001b[0m \u001b[38;5;28;01mdef\u001b[39;00m \u001b[38;5;21m_multivariate_pd_input\u001b[39m(places, stat_vars):\n\u001b[0;32m    216\u001b[0m \u001b[38;5;250m    \u001b[39m\u001b[38;5;124;03m\"\"\"Returns a `list` of `dict` per element of `places` based on the `stat_var`.\u001b[39;00m\n\u001b[0;32m    217\u001b[0m \n\u001b[0;32m    218\u001b[0m \u001b[38;5;124;03m    Data Commons will pick a set of StatVarObservation options that covers the\u001b[39;00m\n\u001b[1;32m   (...)\u001b[0m\n\u001b[0;32m    235\u001b[0m \u001b[38;5;124;03m          ]\u001b[39;00m\n\u001b[0;32m    236\u001b[0m \u001b[38;5;124;03m    \"\"\"\u001b[39;00m\n\u001b[1;32m--> 238\u001b[0m     rows_dict \u001b[38;5;241m=\u001b[39m \u001b[43m_group_stat_all_by_obs_options\u001b[49m\u001b[43m(\u001b[49m\u001b[43mplaces\u001b[49m\u001b[43m,\u001b[49m\n\u001b[0;32m    239\u001b[0m \u001b[43m                                               \u001b[49m\u001b[43mstat_vars\u001b[49m\u001b[43m,\u001b[49m\n\u001b[0;32m    240\u001b[0m \u001b[43m                                               \u001b[49m\u001b[43mkeep_series\u001b[49m\u001b[38;5;241;43m=\u001b[39;49m\u001b[38;5;28;43;01mFalse\u001b[39;49;00m\u001b[43m)\u001b[49m\n\u001b[0;32m    241\u001b[0m     place2cov \u001b[38;5;241m=\u001b[39m collections\u001b[38;5;241m.\u001b[39mdefaultdict(\u001b[38;5;28mdict\u001b[39m)  \u001b[38;5;66;03m# {geo: {var1: 3, var2: 33}}\u001b[39;00m\n\u001b[0;32m    243\u001b[0m     \u001b[38;5;28;01mfor\u001b[39;00m stat_var, candidates_dict \u001b[38;5;129;01min\u001b[39;00m rows_dict\u001b[38;5;241m.\u001b[39mitems():\n",
      "File \u001b[1;32mc:\\Users\\astar\\anaconda3\\envs\\tf-gpu\\lib\\site-packages\\datacommons_pandas\\df_builder.py:115\u001b[0m, in \u001b[0;36m_group_stat_all_by_obs_options\u001b[1;34m(places, stat_vars, keep_series)\u001b[0m\n\u001b[0;32m    109\u001b[0m                 res[stat_var][obs_options]\u001b[38;5;241m.\u001b[39mappend({\n\u001b[0;32m    110\u001b[0m                     \u001b[38;5;124m'\u001b[39m\u001b[38;5;124mplace\u001b[39m\u001b[38;5;124m'\u001b[39m: place,\n\u001b[0;32m    111\u001b[0m                     \u001b[38;5;124m'\u001b[39m\u001b[38;5;124mdate\u001b[39m\u001b[38;5;124m'\u001b[39m: date,\n\u001b[0;32m    112\u001b[0m                     \u001b[38;5;124m'\u001b[39m\u001b[38;5;124mval\u001b[39m\u001b[38;5;124m'\u001b[39m: series[date]\n\u001b[0;32m    113\u001b[0m                 })\n\u001b[0;32m    114\u001b[0m \u001b[38;5;28;01mif\u001b[39;00m \u001b[38;5;129;01mnot\u001b[39;00m res:\n\u001b[1;32m--> 115\u001b[0m     \u001b[38;5;28;01mraise\u001b[39;00m \u001b[38;5;167;01mValueError\u001b[39;00m(\n\u001b[0;32m    116\u001b[0m         \u001b[38;5;124m'\u001b[39m\u001b[38;5;124mNo data for any of specified Places and StatisticalVariables.\u001b[39m\u001b[38;5;124m'\u001b[39m)\n\u001b[0;32m    117\u001b[0m \u001b[38;5;28;01mif\u001b[39;00m keep_series:\n\u001b[0;32m    118\u001b[0m     \u001b[38;5;28;01mreturn\u001b[39;00m \u001b[38;5;28mdict\u001b[39m(res)\n",
      "\u001b[1;31mValueError\u001b[0m: No data for any of specified Places and StatisticalVariables."
     ]
    }
   ],
   "source": [
    "dc_chroma(\"What is the air quality index in USA ?\")"
   ]
  },
  {
   "cell_type": "code",
   "execution_count": 27,
   "metadata": {},
   "outputs": [
    {
     "name": "stdout",
     "output_type": "stream",
     "text": [
      "Prediction(\n",
      "    rationale='produce the keywords. We need to identify the number of patients recovered in COVID-19 from the United States and Qatar.',\n",
      "    places='United States; Qatar',\n",
      "    keywords='number, patients, recovered, COVID-19'\n",
      ")\n",
      "['country/USA', 'country/QAT']\n"
     ]
    },
    {
     "data": {
      "text/html": [
       "<div>\n",
       "<style scoped>\n",
       "    .dataframe tbody tr th:only-of-type {\n",
       "        vertical-align: middle;\n",
       "    }\n",
       "\n",
       "    .dataframe tbody tr th {\n",
       "        vertical-align: top;\n",
       "    }\n",
       "\n",
       "    .dataframe thead th {\n",
       "        text-align: right;\n",
       "    }\n",
       "</style>\n",
       "<table border=\"1\" class=\"dataframe\">\n",
       "  <thead>\n",
       "    <tr style=\"text-align: right;\">\n",
       "      <th></th>\n",
       "      <th>InterestRate_TreasurySecurity_1Month_ConstantMaturity</th>\n",
       "      <th>Count_MedicalConditionIncident_COVID_19_PatientInICU</th>\n",
       "    </tr>\n",
       "    <tr>\n",
       "      <th>place</th>\n",
       "      <th></th>\n",
       "      <th></th>\n",
       "    </tr>\n",
       "  </thead>\n",
       "  <tbody>\n",
       "    <tr>\n",
       "      <th>country/USA</th>\n",
       "      <td>5.51</td>\n",
       "      <td>1602</td>\n",
       "    </tr>\n",
       "  </tbody>\n",
       "</table>\n",
       "</div>"
      ],
      "text/plain": [
       "             InterestRate_TreasurySecurity_1Month_ConstantMaturity  \\\n",
       "place                                                                \n",
       "country/USA                                               5.51       \n",
       "\n",
       "             Count_MedicalConditionIncident_COVID_19_PatientInICU  \n",
       "place                                                              \n",
       "country/USA                                               1602     "
      ]
     },
     "execution_count": 27,
     "metadata": {},
     "output_type": "execute_result"
    }
   ],
   "source": [
    "all_dcids_agent(question=\"What is the number of patients recovered in COVID-19 from United States and Qatar?\")"
   ]
  },
  {
   "cell_type": "code",
   "execution_count": 28,
   "metadata": {},
   "outputs": [
    {
     "ename": "ValueError",
     "evalue": "No data for any of specified Places and StatisticalVariables.",
     "output_type": "error",
     "traceback": [
      "\u001b[1;31m---------------------------------------------------------------------------\u001b[0m",
      "\u001b[1;31mValueError\u001b[0m                                Traceback (most recent call last)",
      "Cell \u001b[1;32mIn[28], line 5\u001b[0m\n\u001b[0;32m      2\u001b[0m \u001b[38;5;66;03m# dcid = ['InterestRate_TreasurySecurity_1Month_ConstantMaturity', 'Count_MedicalConditionIncident_COVID_19_PatientInICU']\u001b[39;00m\n\u001b[0;32m      3\u001b[0m place_dcids \u001b[38;5;241m=\u001b[39m [\u001b[38;5;124m'\u001b[39m\u001b[38;5;124mcountry/USA\u001b[39m\u001b[38;5;124m'\u001b[39m]\n\u001b[1;32m----> 5\u001b[0m \u001b[43mdc\u001b[49m\u001b[38;5;241;43m.\u001b[39;49m\u001b[43mbuild_multivariate_dataframe\u001b[49m\u001b[43m(\u001b[49m\u001b[43mplace_dcids\u001b[49m\u001b[43m,\u001b[49m\u001b[43mdcid\u001b[49m\u001b[43m)\u001b[49m\n",
      "File \u001b[1;32mc:\\Users\\astar\\anaconda3\\envs\\tf-gpu\\lib\\site-packages\\datacommons_pandas\\df_builder.py:314\u001b[0m, in \u001b[0;36mbuild_multivariate_dataframe\u001b[1;34m(places, stat_vars)\u001b[0m\n\u001b[0;32m    310\u001b[0m \u001b[38;5;28;01mexcept\u001b[39;00m:\n\u001b[0;32m    311\u001b[0m     \u001b[38;5;28;01mraise\u001b[39;00m \u001b[38;5;167;01mValueError\u001b[39;00m(\n\u001b[0;32m    312\u001b[0m         \u001b[38;5;124m'\u001b[39m\u001b[38;5;124mParameter `places` and `stat_vars` must be string object or list-like object.\u001b[39m\u001b[38;5;124m'\u001b[39m\n\u001b[0;32m    313\u001b[0m     )\n\u001b[1;32m--> 314\u001b[0m df \u001b[38;5;241m=\u001b[39m pd\u001b[38;5;241m.\u001b[39mDataFrame\u001b[38;5;241m.\u001b[39mfrom_records(\u001b[43m_multivariate_pd_input\u001b[49m\u001b[43m(\u001b[49m\u001b[43mplaces\u001b[49m\u001b[43m,\u001b[49m\u001b[43m \u001b[49m\u001b[43mstat_vars\u001b[49m\u001b[43m)\u001b[49m)\n\u001b[0;32m    315\u001b[0m df\u001b[38;5;241m.\u001b[39mset_index(\u001b[38;5;124m'\u001b[39m\u001b[38;5;124mplace\u001b[39m\u001b[38;5;124m'\u001b[39m, inplace\u001b[38;5;241m=\u001b[39m\u001b[38;5;28;01mTrue\u001b[39;00m)\n\u001b[0;32m    316\u001b[0m df\u001b[38;5;241m.\u001b[39msort_index(inplace\u001b[38;5;241m=\u001b[39m\u001b[38;5;28;01mTrue\u001b[39;00m)\n",
      "File \u001b[1;32mc:\\Users\\astar\\anaconda3\\envs\\tf-gpu\\lib\\site-packages\\datacommons_pandas\\df_builder.py:238\u001b[0m, in \u001b[0;36m_multivariate_pd_input\u001b[1;34m(places, stat_vars)\u001b[0m\n\u001b[0;32m    215\u001b[0m \u001b[38;5;28;01mdef\u001b[39;00m \u001b[38;5;21m_multivariate_pd_input\u001b[39m(places, stat_vars):\n\u001b[0;32m    216\u001b[0m \u001b[38;5;250m    \u001b[39m\u001b[38;5;124;03m\"\"\"Returns a `list` of `dict` per element of `places` based on the `stat_var`.\u001b[39;00m\n\u001b[0;32m    217\u001b[0m \n\u001b[0;32m    218\u001b[0m \u001b[38;5;124;03m    Data Commons will pick a set of StatVarObservation options that covers the\u001b[39;00m\n\u001b[1;32m   (...)\u001b[0m\n\u001b[0;32m    235\u001b[0m \u001b[38;5;124;03m          ]\u001b[39;00m\n\u001b[0;32m    236\u001b[0m \u001b[38;5;124;03m    \"\"\"\u001b[39;00m\n\u001b[1;32m--> 238\u001b[0m     rows_dict \u001b[38;5;241m=\u001b[39m \u001b[43m_group_stat_all_by_obs_options\u001b[49m\u001b[43m(\u001b[49m\u001b[43mplaces\u001b[49m\u001b[43m,\u001b[49m\n\u001b[0;32m    239\u001b[0m \u001b[43m                                               \u001b[49m\u001b[43mstat_vars\u001b[49m\u001b[43m,\u001b[49m\n\u001b[0;32m    240\u001b[0m \u001b[43m                                               \u001b[49m\u001b[43mkeep_series\u001b[49m\u001b[38;5;241;43m=\u001b[39;49m\u001b[38;5;28;43;01mFalse\u001b[39;49;00m\u001b[43m)\u001b[49m\n\u001b[0;32m    241\u001b[0m     place2cov \u001b[38;5;241m=\u001b[39m collections\u001b[38;5;241m.\u001b[39mdefaultdict(\u001b[38;5;28mdict\u001b[39m)  \u001b[38;5;66;03m# {geo: {var1: 3, var2: 33}}\u001b[39;00m\n\u001b[0;32m    243\u001b[0m     \u001b[38;5;28;01mfor\u001b[39;00m stat_var, candidates_dict \u001b[38;5;129;01min\u001b[39;00m rows_dict\u001b[38;5;241m.\u001b[39mitems():\n",
      "File \u001b[1;32mc:\\Users\\astar\\anaconda3\\envs\\tf-gpu\\lib\\site-packages\\datacommons_pandas\\df_builder.py:115\u001b[0m, in \u001b[0;36m_group_stat_all_by_obs_options\u001b[1;34m(places, stat_vars, keep_series)\u001b[0m\n\u001b[0;32m    109\u001b[0m                 res[stat_var][obs_options]\u001b[38;5;241m.\u001b[39mappend({\n\u001b[0;32m    110\u001b[0m                     \u001b[38;5;124m'\u001b[39m\u001b[38;5;124mplace\u001b[39m\u001b[38;5;124m'\u001b[39m: place,\n\u001b[0;32m    111\u001b[0m                     \u001b[38;5;124m'\u001b[39m\u001b[38;5;124mdate\u001b[39m\u001b[38;5;124m'\u001b[39m: date,\n\u001b[0;32m    112\u001b[0m                     \u001b[38;5;124m'\u001b[39m\u001b[38;5;124mval\u001b[39m\u001b[38;5;124m'\u001b[39m: series[date]\n\u001b[0;32m    113\u001b[0m                 })\n\u001b[0;32m    114\u001b[0m \u001b[38;5;28;01mif\u001b[39;00m \u001b[38;5;129;01mnot\u001b[39;00m res:\n\u001b[1;32m--> 115\u001b[0m     \u001b[38;5;28;01mraise\u001b[39;00m \u001b[38;5;167;01mValueError\u001b[39;00m(\n\u001b[0;32m    116\u001b[0m         \u001b[38;5;124m'\u001b[39m\u001b[38;5;124mNo data for any of specified Places and StatisticalVariables.\u001b[39m\u001b[38;5;124m'\u001b[39m)\n\u001b[0;32m    117\u001b[0m \u001b[38;5;28;01mif\u001b[39;00m keep_series:\n\u001b[0;32m    118\u001b[0m     \u001b[38;5;28;01mreturn\u001b[39;00m \u001b[38;5;28mdict\u001b[39m(res)\n",
      "\u001b[1;31mValueError\u001b[0m: No data for any of specified Places and StatisticalVariables."
     ]
    }
   ],
   "source": [
    "dcid = ['AmountInterestRepayment_Debt_OfficialCreditor_Publicly']\n",
    "# dcid = ['InterestRate_TreasurySecurity_1Month_ConstantMaturity', 'Count_MedicalConditionIncident_COVID_19_PatientInICU']\n",
    "place_dcids = ['country/USA']\n",
    "\n",
    "dc.build_multivariate_dataframe(place_dcids,dcid)"
   ]
  },
  {
   "cell_type": "code",
   "execution_count": 25,
   "metadata": {},
   "outputs": [
    {
     "name": "stdout",
     "output_type": "stream",
     "text": [
      "\n",
      "['country/USA']\n",
      "AmountInterestRepayment_Debt_OfficialCreditor_PubliclyGuaranteed_Bilateral_LongTermExternalDebt_LenderCountryUSA: Publicly guaranteed bilateral external debt pricipal repayment to offical creditor, United States.\n",
      "\n",
      "AmountInterestRepayment_Debt_OfficialCreditor_Concessional_PubliclyGuaranteed_Bilateral_LongTermExternalDebt_LenderCountryUSA: Publicly guaranteed bilateral long term external debt pricipal repayment to offical creditor, concessional United States.\n",
      "\n",
      "AmountInterestRepayment_Debt_LongTermExternalDebt_LenderCountryUSA: Long term external debt pricipal repayment to United States.\n",
      "\n",
      "AmountInterestRepayment_Debt_OfficialCreditor_PubliclyGuaranteed_Bilateral_LongTermExternalDebt_LenderCountryPRI: Publicly guaranteed bilateral external debt pricipal repayment to offical creditor, Puerto Rico.\n",
      "\n",
      "AmountInterestRepayment_Debt_OfficialCreditor_PubliclyGuaranteed_Bilateral_LongTermExternalDebt_LenderCountryPAN: Publicly guaranteed bilateral external debt pricipal repayment to offical creditor, Panama.\n",
      "\n",
      "\n",
      "['AmountInterestRepayment_Debt_OfficialCreditor_PubliclyGuaranteed_Bilateral_LongTermExternalDebt_LenderCountryUSA', 'AmountInterestRepayment_Debt_OfficialCreditor_Concessional_PubliclyGuaranteed_Bilateral_LongTermExternalDebt_LenderCountryUSA', 'AmountInterestRepayment_Debt_OfficialCreditor_Publicly']\n"
     ]
    },
    {
     "ename": "ValueError",
     "evalue": "No data for any of specified Places and StatisticalVariables.",
     "output_type": "error",
     "traceback": [
      "\u001b[1;31m---------------------------------------------------------------------------\u001b[0m",
      "\u001b[1;31mValueError\u001b[0m                                Traceback (most recent call last)",
      "Cell \u001b[1;32mIn[25], line 1\u001b[0m\n\u001b[1;32m----> 1\u001b[0m \u001b[43mdc_chroma\u001b[49m\u001b[43m(\u001b[49m\u001b[43mquestion\u001b[49m\u001b[38;5;241;43m=\u001b[39;49m\u001b[38;5;124;43m\"\u001b[39;49m\u001b[38;5;124;43mWhat is the Nonfinancial Commercial Paper Interest Rate in USA?\u001b[39;49m\u001b[38;5;124;43m\"\u001b[39;49m\u001b[43m)\u001b[49m\n",
      "Cell \u001b[1;32mIn[24], line 42\u001b[0m, in \u001b[0;36mDataCommonsDSPy.__call__\u001b[1;34m(self, question, **kwargs)\u001b[0m\n\u001b[0;32m     41\u001b[0m \u001b[38;5;28;01mdef\u001b[39;00m \u001b[38;5;21m__call__\u001b[39m(\u001b[38;5;28mself\u001b[39m,question:\u001b[38;5;28mstr\u001b[39m, \u001b[38;5;241m*\u001b[39m\u001b[38;5;241m*\u001b[39mkwargs):\n\u001b[1;32m---> 42\u001b[0m     \u001b[38;5;28;01mreturn\u001b[39;00m \u001b[38;5;28mself\u001b[39m\u001b[38;5;241m.\u001b[39mforward(question, \u001b[38;5;241m*\u001b[39m\u001b[38;5;241m*\u001b[39mkwargs)\n",
      "Cell \u001b[1;32mIn[24], line 81\u001b[0m, in \u001b[0;36mDataCommonsDSPy.forward\u001b[1;34m(self, question)\u001b[0m\n\u001b[0;32m     79\u001b[0m relevant_dcid_list \u001b[38;5;241m=\u001b[39m [rdl\u001b[38;5;241m.\u001b[39mstrip() \u001b[38;5;28;01mfor\u001b[39;00m rdl \u001b[38;5;129;01min\u001b[39;00m relevant_dcid_list]\n\u001b[0;32m     80\u001b[0m \u001b[38;5;28mprint\u001b[39m(relevant_dcid_list)\n\u001b[1;32m---> 81\u001b[0m result_df \u001b[38;5;241m=\u001b[39m \u001b[43mdc\u001b[49m\u001b[38;5;241;43m.\u001b[39;49m\u001b[43mbuild_multivariate_dataframe\u001b[49m\u001b[43m(\u001b[49m\u001b[43mplace_dcids\u001b[49m\u001b[43m,\u001b[49m\u001b[43mrelevant_dcid_list\u001b[49m\u001b[43m)\u001b[49m\n\u001b[0;32m     82\u001b[0m \u001b[38;5;28;01mreturn\u001b[39;00m result_df\n",
      "File \u001b[1;32mc:\\Users\\astar\\anaconda3\\envs\\tf-gpu\\lib\\site-packages\\datacommons_pandas\\df_builder.py:314\u001b[0m, in \u001b[0;36mbuild_multivariate_dataframe\u001b[1;34m(places, stat_vars)\u001b[0m\n\u001b[0;32m    310\u001b[0m \u001b[38;5;28;01mexcept\u001b[39;00m:\n\u001b[0;32m    311\u001b[0m     \u001b[38;5;28;01mraise\u001b[39;00m \u001b[38;5;167;01mValueError\u001b[39;00m(\n\u001b[0;32m    312\u001b[0m         \u001b[38;5;124m'\u001b[39m\u001b[38;5;124mParameter `places` and `stat_vars` must be string object or list-like object.\u001b[39m\u001b[38;5;124m'\u001b[39m\n\u001b[0;32m    313\u001b[0m     )\n\u001b[1;32m--> 314\u001b[0m df \u001b[38;5;241m=\u001b[39m pd\u001b[38;5;241m.\u001b[39mDataFrame\u001b[38;5;241m.\u001b[39mfrom_records(\u001b[43m_multivariate_pd_input\u001b[49m\u001b[43m(\u001b[49m\u001b[43mplaces\u001b[49m\u001b[43m,\u001b[49m\u001b[43m \u001b[49m\u001b[43mstat_vars\u001b[49m\u001b[43m)\u001b[49m)\n\u001b[0;32m    315\u001b[0m df\u001b[38;5;241m.\u001b[39mset_index(\u001b[38;5;124m'\u001b[39m\u001b[38;5;124mplace\u001b[39m\u001b[38;5;124m'\u001b[39m, inplace\u001b[38;5;241m=\u001b[39m\u001b[38;5;28;01mTrue\u001b[39;00m)\n\u001b[0;32m    316\u001b[0m df\u001b[38;5;241m.\u001b[39msort_index(inplace\u001b[38;5;241m=\u001b[39m\u001b[38;5;28;01mTrue\u001b[39;00m)\n",
      "File \u001b[1;32mc:\\Users\\astar\\anaconda3\\envs\\tf-gpu\\lib\\site-packages\\datacommons_pandas\\df_builder.py:238\u001b[0m, in \u001b[0;36m_multivariate_pd_input\u001b[1;34m(places, stat_vars)\u001b[0m\n\u001b[0;32m    215\u001b[0m \u001b[38;5;28;01mdef\u001b[39;00m \u001b[38;5;21m_multivariate_pd_input\u001b[39m(places, stat_vars):\n\u001b[0;32m    216\u001b[0m \u001b[38;5;250m    \u001b[39m\u001b[38;5;124;03m\"\"\"Returns a `list` of `dict` per element of `places` based on the `stat_var`.\u001b[39;00m\n\u001b[0;32m    217\u001b[0m \n\u001b[0;32m    218\u001b[0m \u001b[38;5;124;03m    Data Commons will pick a set of StatVarObservation options that covers the\u001b[39;00m\n\u001b[1;32m   (...)\u001b[0m\n\u001b[0;32m    235\u001b[0m \u001b[38;5;124;03m          ]\u001b[39;00m\n\u001b[0;32m    236\u001b[0m \u001b[38;5;124;03m    \"\"\"\u001b[39;00m\n\u001b[1;32m--> 238\u001b[0m     rows_dict \u001b[38;5;241m=\u001b[39m \u001b[43m_group_stat_all_by_obs_options\u001b[49m\u001b[43m(\u001b[49m\u001b[43mplaces\u001b[49m\u001b[43m,\u001b[49m\n\u001b[0;32m    239\u001b[0m \u001b[43m                                               \u001b[49m\u001b[43mstat_vars\u001b[49m\u001b[43m,\u001b[49m\n\u001b[0;32m    240\u001b[0m \u001b[43m                                               \u001b[49m\u001b[43mkeep_series\u001b[49m\u001b[38;5;241;43m=\u001b[39;49m\u001b[38;5;28;43;01mFalse\u001b[39;49;00m\u001b[43m)\u001b[49m\n\u001b[0;32m    241\u001b[0m     place2cov \u001b[38;5;241m=\u001b[39m collections\u001b[38;5;241m.\u001b[39mdefaultdict(\u001b[38;5;28mdict\u001b[39m)  \u001b[38;5;66;03m# {geo: {var1: 3, var2: 33}}\u001b[39;00m\n\u001b[0;32m    243\u001b[0m     \u001b[38;5;28;01mfor\u001b[39;00m stat_var, candidates_dict \u001b[38;5;129;01min\u001b[39;00m rows_dict\u001b[38;5;241m.\u001b[39mitems():\n",
      "File \u001b[1;32mc:\\Users\\astar\\anaconda3\\envs\\tf-gpu\\lib\\site-packages\\datacommons_pandas\\df_builder.py:115\u001b[0m, in \u001b[0;36m_group_stat_all_by_obs_options\u001b[1;34m(places, stat_vars, keep_series)\u001b[0m\n\u001b[0;32m    109\u001b[0m                 res[stat_var][obs_options]\u001b[38;5;241m.\u001b[39mappend({\n\u001b[0;32m    110\u001b[0m                     \u001b[38;5;124m'\u001b[39m\u001b[38;5;124mplace\u001b[39m\u001b[38;5;124m'\u001b[39m: place,\n\u001b[0;32m    111\u001b[0m                     \u001b[38;5;124m'\u001b[39m\u001b[38;5;124mdate\u001b[39m\u001b[38;5;124m'\u001b[39m: date,\n\u001b[0;32m    112\u001b[0m                     \u001b[38;5;124m'\u001b[39m\u001b[38;5;124mval\u001b[39m\u001b[38;5;124m'\u001b[39m: series[date]\n\u001b[0;32m    113\u001b[0m                 })\n\u001b[0;32m    114\u001b[0m \u001b[38;5;28;01mif\u001b[39;00m \u001b[38;5;129;01mnot\u001b[39;00m res:\n\u001b[1;32m--> 115\u001b[0m     \u001b[38;5;28;01mraise\u001b[39;00m \u001b[38;5;167;01mValueError\u001b[39;00m(\n\u001b[0;32m    116\u001b[0m         \u001b[38;5;124m'\u001b[39m\u001b[38;5;124mNo data for any of specified Places and StatisticalVariables.\u001b[39m\u001b[38;5;124m'\u001b[39m)\n\u001b[0;32m    117\u001b[0m \u001b[38;5;28;01mif\u001b[39;00m keep_series:\n\u001b[0;32m    118\u001b[0m     \u001b[38;5;28;01mreturn\u001b[39;00m \u001b[38;5;28mdict\u001b[39m(res)\n",
      "\u001b[1;31mValueError\u001b[0m: No data for any of specified Places and StatisticalVariables."
     ]
    }
   ],
   "source": [
    "dc_chroma(question=\"What is the Nonfinancial Commercial Paper Interest Rate in USA?\")"
   ]
  },
  {
   "cell_type": "code",
   "execution_count": 29,
   "metadata": {},
   "outputs": [
    {
     "name": "stdout",
     "output_type": "stream",
     "text": [
      "\n",
      "['geoId/1836003']\n",
      "IsContaminated_Manganese_LandfillGas: Whether LandfillGas is contaminated with Manganese.\n",
      "\n",
      "IsContaminated_Chromium_LandfillGas: Whether LandfillGas is contaminated with Chromium.\n",
      "\n",
      "IsContaminated_Arsenic_LandfillGas: Whether LandfillGas is contaminated with Arsenic.\n",
      "\n",
      "IsContaminated_Iron_LandfillGas: Whether LandfillGas is contaminated with Iron.\n",
      "\n",
      "IsContaminated_Lithium_Soil: Whether Soil is contaminated with Lithium.\n",
      "\n",
      "\n",
      "['IsContaminated_Manganese_LandfillGas', 'IsContaminated_Chromium_LandfillGas', 'IsContaminated_Arsenic_LandfillGas', 'IsContaminated_Iron_LandfillGas']\n"
     ]
    },
    {
     "ename": "ValueError",
     "evalue": "No data for any of specified Places and StatisticalVariables.",
     "output_type": "error",
     "traceback": [
      "\u001b[1;31m---------------------------------------------------------------------------\u001b[0m",
      "\u001b[1;31mValueError\u001b[0m                                Traceback (most recent call last)",
      "Cell \u001b[1;32mIn[29], line 1\u001b[0m\n\u001b[1;32m----> 1\u001b[0m \u001b[43mdc_chroma\u001b[49m\u001b[43m(\u001b[49m\u001b[43mquestion\u001b[49m\u001b[38;5;241;43m=\u001b[39;49m\u001b[38;5;124;43m\"\u001b[39;49m\u001b[38;5;124;43mWhat is the annual consumption of Lignite coal in India?\u001b[39;49m\u001b[38;5;124;43m\"\u001b[39;49m\u001b[43m)\u001b[49m\n",
      "Cell \u001b[1;32mIn[24], line 42\u001b[0m, in \u001b[0;36mDataCommonsDSPy.__call__\u001b[1;34m(self, question, **kwargs)\u001b[0m\n\u001b[0;32m     41\u001b[0m \u001b[38;5;28;01mdef\u001b[39;00m \u001b[38;5;21m__call__\u001b[39m(\u001b[38;5;28mself\u001b[39m,question:\u001b[38;5;28mstr\u001b[39m, \u001b[38;5;241m*\u001b[39m\u001b[38;5;241m*\u001b[39mkwargs):\n\u001b[1;32m---> 42\u001b[0m     \u001b[38;5;28;01mreturn\u001b[39;00m \u001b[38;5;28mself\u001b[39m\u001b[38;5;241m.\u001b[39mforward(question, \u001b[38;5;241m*\u001b[39m\u001b[38;5;241m*\u001b[39mkwargs)\n",
      "Cell \u001b[1;32mIn[24], line 81\u001b[0m, in \u001b[0;36mDataCommonsDSPy.forward\u001b[1;34m(self, question)\u001b[0m\n\u001b[0;32m     79\u001b[0m relevant_dcid_list \u001b[38;5;241m=\u001b[39m [rdl\u001b[38;5;241m.\u001b[39mstrip() \u001b[38;5;28;01mfor\u001b[39;00m rdl \u001b[38;5;129;01min\u001b[39;00m relevant_dcid_list]\n\u001b[0;32m     80\u001b[0m \u001b[38;5;28mprint\u001b[39m(relevant_dcid_list)\n\u001b[1;32m---> 81\u001b[0m result_df \u001b[38;5;241m=\u001b[39m \u001b[43mdc\u001b[49m\u001b[38;5;241;43m.\u001b[39;49m\u001b[43mbuild_multivariate_dataframe\u001b[49m\u001b[43m(\u001b[49m\u001b[43mplace_dcids\u001b[49m\u001b[43m,\u001b[49m\u001b[43mrelevant_dcid_list\u001b[49m\u001b[43m)\u001b[49m\n\u001b[0;32m     82\u001b[0m \u001b[38;5;28;01mreturn\u001b[39;00m result_df\n",
      "File \u001b[1;32mc:\\Users\\astar\\anaconda3\\envs\\tf-gpu\\lib\\site-packages\\datacommons_pandas\\df_builder.py:314\u001b[0m, in \u001b[0;36mbuild_multivariate_dataframe\u001b[1;34m(places, stat_vars)\u001b[0m\n\u001b[0;32m    310\u001b[0m \u001b[38;5;28;01mexcept\u001b[39;00m:\n\u001b[0;32m    311\u001b[0m     \u001b[38;5;28;01mraise\u001b[39;00m \u001b[38;5;167;01mValueError\u001b[39;00m(\n\u001b[0;32m    312\u001b[0m         \u001b[38;5;124m'\u001b[39m\u001b[38;5;124mParameter `places` and `stat_vars` must be string object or list-like object.\u001b[39m\u001b[38;5;124m'\u001b[39m\n\u001b[0;32m    313\u001b[0m     )\n\u001b[1;32m--> 314\u001b[0m df \u001b[38;5;241m=\u001b[39m pd\u001b[38;5;241m.\u001b[39mDataFrame\u001b[38;5;241m.\u001b[39mfrom_records(\u001b[43m_multivariate_pd_input\u001b[49m\u001b[43m(\u001b[49m\u001b[43mplaces\u001b[49m\u001b[43m,\u001b[49m\u001b[43m \u001b[49m\u001b[43mstat_vars\u001b[49m\u001b[43m)\u001b[49m)\n\u001b[0;32m    315\u001b[0m df\u001b[38;5;241m.\u001b[39mset_index(\u001b[38;5;124m'\u001b[39m\u001b[38;5;124mplace\u001b[39m\u001b[38;5;124m'\u001b[39m, inplace\u001b[38;5;241m=\u001b[39m\u001b[38;5;28;01mTrue\u001b[39;00m)\n\u001b[0;32m    316\u001b[0m df\u001b[38;5;241m.\u001b[39msort_index(inplace\u001b[38;5;241m=\u001b[39m\u001b[38;5;28;01mTrue\u001b[39;00m)\n",
      "File \u001b[1;32mc:\\Users\\astar\\anaconda3\\envs\\tf-gpu\\lib\\site-packages\\datacommons_pandas\\df_builder.py:238\u001b[0m, in \u001b[0;36m_multivariate_pd_input\u001b[1;34m(places, stat_vars)\u001b[0m\n\u001b[0;32m    215\u001b[0m \u001b[38;5;28;01mdef\u001b[39;00m \u001b[38;5;21m_multivariate_pd_input\u001b[39m(places, stat_vars):\n\u001b[0;32m    216\u001b[0m \u001b[38;5;250m    \u001b[39m\u001b[38;5;124;03m\"\"\"Returns a `list` of `dict` per element of `places` based on the `stat_var`.\u001b[39;00m\n\u001b[0;32m    217\u001b[0m \n\u001b[0;32m    218\u001b[0m \u001b[38;5;124;03m    Data Commons will pick a set of StatVarObservation options that covers the\u001b[39;00m\n\u001b[1;32m   (...)\u001b[0m\n\u001b[0;32m    235\u001b[0m \u001b[38;5;124;03m          ]\u001b[39;00m\n\u001b[0;32m    236\u001b[0m \u001b[38;5;124;03m    \"\"\"\u001b[39;00m\n\u001b[1;32m--> 238\u001b[0m     rows_dict \u001b[38;5;241m=\u001b[39m \u001b[43m_group_stat_all_by_obs_options\u001b[49m\u001b[43m(\u001b[49m\u001b[43mplaces\u001b[49m\u001b[43m,\u001b[49m\n\u001b[0;32m    239\u001b[0m \u001b[43m                                               \u001b[49m\u001b[43mstat_vars\u001b[49m\u001b[43m,\u001b[49m\n\u001b[0;32m    240\u001b[0m \u001b[43m                                               \u001b[49m\u001b[43mkeep_series\u001b[49m\u001b[38;5;241;43m=\u001b[39;49m\u001b[38;5;28;43;01mFalse\u001b[39;49;00m\u001b[43m)\u001b[49m\n\u001b[0;32m    241\u001b[0m     place2cov \u001b[38;5;241m=\u001b[39m collections\u001b[38;5;241m.\u001b[39mdefaultdict(\u001b[38;5;28mdict\u001b[39m)  \u001b[38;5;66;03m# {geo: {var1: 3, var2: 33}}\u001b[39;00m\n\u001b[0;32m    243\u001b[0m     \u001b[38;5;28;01mfor\u001b[39;00m stat_var, candidates_dict \u001b[38;5;129;01min\u001b[39;00m rows_dict\u001b[38;5;241m.\u001b[39mitems():\n",
      "File \u001b[1;32mc:\\Users\\astar\\anaconda3\\envs\\tf-gpu\\lib\\site-packages\\datacommons_pandas\\df_builder.py:115\u001b[0m, in \u001b[0;36m_group_stat_all_by_obs_options\u001b[1;34m(places, stat_vars, keep_series)\u001b[0m\n\u001b[0;32m    109\u001b[0m                 res[stat_var][obs_options]\u001b[38;5;241m.\u001b[39mappend({\n\u001b[0;32m    110\u001b[0m                     \u001b[38;5;124m'\u001b[39m\u001b[38;5;124mplace\u001b[39m\u001b[38;5;124m'\u001b[39m: place,\n\u001b[0;32m    111\u001b[0m                     \u001b[38;5;124m'\u001b[39m\u001b[38;5;124mdate\u001b[39m\u001b[38;5;124m'\u001b[39m: date,\n\u001b[0;32m    112\u001b[0m                     \u001b[38;5;124m'\u001b[39m\u001b[38;5;124mval\u001b[39m\u001b[38;5;124m'\u001b[39m: series[date]\n\u001b[0;32m    113\u001b[0m                 })\n\u001b[0;32m    114\u001b[0m \u001b[38;5;28;01mif\u001b[39;00m \u001b[38;5;129;01mnot\u001b[39;00m res:\n\u001b[1;32m--> 115\u001b[0m     \u001b[38;5;28;01mraise\u001b[39;00m \u001b[38;5;167;01mValueError\u001b[39;00m(\n\u001b[0;32m    116\u001b[0m         \u001b[38;5;124m'\u001b[39m\u001b[38;5;124mNo data for any of specified Places and StatisticalVariables.\u001b[39m\u001b[38;5;124m'\u001b[39m)\n\u001b[0;32m    117\u001b[0m \u001b[38;5;28;01mif\u001b[39;00m keep_series:\n\u001b[0;32m    118\u001b[0m     \u001b[38;5;28;01mreturn\u001b[39;00m \u001b[38;5;28mdict\u001b[39m(res)\n",
      "\u001b[1;31mValueError\u001b[0m: No data for any of specified Places and StatisticalVariables."
     ]
    }
   ],
   "source": [
    "dc_chroma(question=\"What is the annual consumption of Lignite coal in India?\")"
   ]
  }
 ],
 "metadata": {
  "kernelspec": {
   "display_name": "openbb-env",
   "language": "python",
   "name": "python3"
  },
  "language_info": {
   "codemirror_mode": {
    "name": "ipython",
    "version": 3
   },
   "file_extension": ".py",
   "mimetype": "text/x-python",
   "name": "python",
   "nbconvert_exporter": "python",
   "pygments_lexer": "ipython3",
   "version": "undefined.undefined.undefined"
  }
 },
 "nbformat": 4,
 "nbformat_minor": 2
}
