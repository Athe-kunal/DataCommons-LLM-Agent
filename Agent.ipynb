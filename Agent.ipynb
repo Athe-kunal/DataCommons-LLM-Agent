{
 "cells": [
  {
   "cell_type": "code",
   "execution_count": 1,
   "metadata": {},
   "outputs": [],
   "source": [
    "from src.get_place_dcids import place_dcid"
   ]
  },
  {
   "cell_type": "code",
   "execution_count": 9,
   "metadata": {},
   "outputs": [],
   "source": [
    "import os\n",
    "from langchain.schema import Document\n",
    "import ast\n",
    "\n",
    "docs = []\n",
    "for stat_files in os.listdir(\"src/STATS\"):\n",
    "    stat_file_name = \".\".join(stat_files.split(\"_\"))\n",
    "    with open(os.path.join(\"src/STATS\",stat_files), \"r\") as f:\n",
    "        content = f.read()\n",
    "    content = ast.literal_eval(content)\n",
    "    for stat in content:\n",
    "        docs.append(Document(page_content=stat['node_name'],metadata={'dcid': stat['node_dcid'],'link': stat['node_link'],'data_source':stat_file_name}))"
   ]
  },
  {
   "cell_type": "code",
   "execution_count": null,
   "metadata": {},
   "outputs": [],
   "source": [
    "import dspy\n",
    "from langchain_community.retrievers import BM25Retriever\n",
    "from dotenv import load_dotenv,find_dotenv\n",
    "import concurrent.futures\n",
    "load_dotenv(find_dotenv(),override=True)\n",
    "\n",
    "class PlaceKeywordSignature(dspy.Signature):\n",
    "    \"\"\"Returns the places that the question is talking about separated by semicolo (;) and also the keywords relevant to the question in a list\"\"\"\n",
    "    question = dspy.InputField(prefix=\"Question: \",desc=\"Question asked by the user\")\n",
    "    places = dspy.OutputField(prefix=\"Places: \",desc=\"places like countries, states, towns, etc mentioned in the question separated by semicolon (;)\")\n",
    "    keywords = dspy.OutputField(prefix=\"Keywords: \",desc=\"keywords relevant to the question in a list\")\n",
    "\n",
    "llm = dspy.OpenAI(model=\"gpt-3.5-turbo\")\n",
    "dspy.settings.configure(lm=llm)\n",
    "\n",
    "class DataCommonsDSPy(dspy.Module):\n",
    "    def __init__(self):\n",
    "        self.bm25_retriever = BM25Retriever.from_documents(\n",
    "                docs, k=10, preprocess_func=(lambda x: x.lower())\n",
    "            )\n",
    "        self.place_keyword_llm = dspy.ChainOfThought(PlaceKeywordSignature)\n",
    "\n",
    "    def __call__(self,question,**kwargs):\n",
    "        return self.forwards(question,**kwargs)\n",
    "\n",
    "    def forward(self,question:str):\n",
    "        llm_answer = self.place_keyword_llm(question)\n",
    "        places = llm_answer.places.split(\";\")\n",
    "        keywords = llm_answer.keywords\n",
    "\n",
    "        with concurrent.futures.ThreadPoolExecutor(max_workers=3) as executor:\n",
    "            results = executor.map(place_dcid,places) \n",
    "        place_dcids = []\n",
    "        for res in results:\n",
    "            place_dcids.append(res)\n",
    "        bm25_docs = self.bm25_retriever.invoke(question.lower())\n",
    "        for key in keywords:\n",
    "            curr_keyword_docs = self.bm25_retriever.invoke(key.lower())\n",
    "            bm25_docs.append(curr_keyword_docs)\n",
    "        all_dcids = []\n",
    "        for doc in bm25_docs:\n",
    "            curr_dcid = doc.metadata['dcid']\n",
    "            if curr_dcid not in all_dcids:\n",
    "                all_dcids.append(curr_dcid)\n",
    "        return all_dcids"
   ]
  }
 ],
 "metadata": {
  "kernelspec": {
   "display_name": "openbb-env",
   "language": "python",
   "name": "python3"
  },
  "language_info": {
   "codemirror_mode": {
    "name": "ipython",
    "version": 3
   },
   "file_extension": ".py",
   "mimetype": "text/x-python",
   "name": "python",
   "nbconvert_exporter": "python",
   "pygments_lexer": "ipython3",
   "version": "3.10.12"
  }
 },
 "nbformat": 4,
 "nbformat_minor": 2
}
