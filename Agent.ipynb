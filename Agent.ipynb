{
 "cells": [
  {
   "cell_type": "code",
   "execution_count": 8,
   "metadata": {},
   "outputs": [],
   "source": [
    "# !pip install dspy langchain langchain_community\n",
    "# !pip install rank_bm25"
   ]
  },
  {
   "cell_type": "code",
   "execution_count": 1,
   "metadata": {},
   "outputs": [],
   "source": [
    "from src.get_place_dcids import place_dcid"
   ]
  },
  {
   "cell_type": "code",
   "execution_count": 2,
   "metadata": {},
   "outputs": [],
   "source": [
    "import os\n",
    "from langchain.schema import Document\n",
    "import ast\n",
    "\n",
    "docs = []\n",
    "for stat_files in os.listdir(\"src/STATS\"):\n",
    "    stat_file_name = \".\".join(stat_files.split(\"_\"))\n",
    "    with open(os.path.join(\"src/STATS\",stat_files), \"r\") as f:\n",
    "        content = f.read()\n",
    "    content = ast.literal_eval(content)\n",
    "    for stat in content:\n",
    "        docs.append(Document(page_content=stat['node_name'],metadata={'dcid': stat['node_dcid'],'link': stat['node_link'],'data_source':stat_file_name}))"
   ]
  },
  {
   "cell_type": "code",
   "execution_count": 20,
   "metadata": {},
   "outputs": [],
   "source": [
    "import dspy\n",
    "from langchain_community.retrievers import BM25Retriever\n",
    "from dotenv import load_dotenv,find_dotenv\n",
    "import concurrent.futures\n",
    "import datacommons_pandas as dc\n",
    "\n",
    "load_dotenv(find_dotenv(),override=True)\n",
    "\n",
    "class PlaceKeywordSignature(dspy.Signature):\n",
    "    \"\"\"Returns the places that the question is talking about separated by semicolon (;) and also only the noun keywords relevant to the question in a list\n",
    "    Make sure that you are only outputing the noun keywords and not other things\"\"\"\n",
    "    question = dspy.InputField(prefix=\"Question: \",desc=\"Question asked by the user\")\n",
    "    places = dspy.OutputField(prefix=\"Places: \",desc=\"places like countries, states, towns, etc mentioned in the question separated by semicolon (;)\")\n",
    "    keywords = dspy.OutputField(prefix=\"Keywords: \",desc=\"noun keywords relevant to the question in a list. DON'T include the place names and be precise\")\n",
    "\n",
    "llm = dspy.OpenAI(model=\"gpt-3.5-turbo\")\n",
    "dspy.settings.configure(lm=llm)\n",
    "\n",
    "class DataCommonsDSPy(dspy.Module):\n",
    "    def __init__(self):\n",
    "        self.bm25_retriever = BM25Retriever.from_documents(\n",
    "                docs, k=5, preprocess_func=(lambda x: x.lower())\n",
    "            )\n",
    "        self.place_keyword_llm = dspy.ChainOfThought(PlaceKeywordSignature)\n",
    "\n",
    "    def __call__(self,question,**kwargs):\n",
    "        return self.forward(question,**kwargs)\n",
    "\n",
    "    def forward(self,question:str):\n",
    "        llm_answer = self.place_keyword_llm(question=question)\n",
    "        print(llm_answer)\n",
    "        places = llm_answer.places.split(\";\")\n",
    "        keywords = llm_answer.keywords.split(\",\")\n",
    "\n",
    "        with concurrent.futures.ThreadPoolExecutor(max_workers=3) as executor:\n",
    "            results = executor.map(place_dcid,places) \n",
    "        place_dcids = []\n",
    "        for res in results:\n",
    "            place_dcids.append(res)\n",
    "        print(place_dcids)\n",
    "        bm25_docs = self.bm25_retriever.invoke(question.lower())\n",
    "        for key in keywords:\n",
    "            curr_keyword_docs = self.bm25_retriever.invoke(key.lower())\n",
    "            bm25_docs.extend(curr_keyword_docs)\n",
    "        stat_dcids = []\n",
    "        print(bm25_docs)\n",
    "        for doc in bm25_docs:\n",
    "            curr_dcid = doc.metadata['dcid']\n",
    "            if curr_dcid not in stat_dcids:\n",
    "                stat_dcids.append(curr_dcid)\n",
    "        print(stat_dcids)\n",
    "        result_df = dc.build_multivariate_dataframe(place_dcids,stat_dcids)\n",
    "        return result_df"
   ]
  },
  {
   "cell_type": "code",
   "execution_count": 21,
   "metadata": {},
   "outputs": [],
   "source": [
    "all_dcids_agent = DataCommonsDSPy()"
   ]
  },
  {
   "cell_type": "code",
   "execution_count": 22,
   "metadata": {},
   "outputs": [
    {
     "name": "stdout",
     "output_type": "stream",
     "text": [
      "Prediction(\n",
      "    rationale='produce the keywords. We need to identify the specific information requested, which is the number of patients recovered from COVID-19 in the United States and India.',\n",
      "    places='United States; India',\n",
      "    keywords='number, patients, recovered, COVID-19'\n",
      ")\n",
      "['country/USA', 'geoId/1836003']\n",
      "[Document(page_content='COVID-19 Patients in the Intensive Care Unit', metadata={'dcid': 'Count_MedicalConditionIncident_COVID_19_PatientInICU', 'link': 'https://datacommons.org/browser/Count_MedicalConditionIncident_COVID_19_PatientInICU', 'data_source': 'Our World in Data.json'}), Document(page_content='COVID-19 Patients in the Intensive Care Unit', metadata={'dcid': 'Count_MedicalConditionIncident_COVID_19_PatientInICU', 'link': 'https://datacommons.org/browser/Count_MedicalConditionIncident_COVID_19_PatientInICU', 'data_source': 'Our World in Data.json'}), Document(page_content='COVID-19 Patients in the Intensive Care Unit', metadata={'dcid': 'Count_MedicalConditionIncident_COVID_19_PatientInICU', 'link': 'https://datacommons.org/browser/Count_MedicalConditionIncident_COVID_19_PatientInICU', 'data_source': 'Our World in Data.json'}), Document(page_content='… the number of vehicles in-transport involved in crash', metadata={'dcid': 'Count_Vehicle_InvolvedInCrash_InTransport', 'link': 'https://datacommons.org/browser/Count_Vehicle_InvolvedInCrash_InTransport', 'data_source': 'U.S. National Highway Traffic Safety Administration (NHTSA).json'}), Document(page_content='… the number of vehicles in-transport involved in crash', metadata={'dcid': 'Count_Vehicle_InvolvedInCrash_InTransport', 'link': 'https://datacommons.org/browser/Count_Vehicle_InvolvedInCrash_InTransport', 'data_source': 'U.S. National Highway Traffic Safety Administration (NHTSA).json'}), Document(page_content='… Fuel Combustion Industrial, Non Biogenic Emission Source, Carbon Monoxide', metadata={'dcid': 'Annual_Amount_Emissions_FuelCombustionIndustrial_NonBiogenicEmissionSource_CarbonMonoxide', 'link': 'https://datacommons.org/browser/Annual_Amount_Emissions_FuelCombustionIndustrial_NonBiogenicEmissionSource_CarbonMonoxide', 'data_source': 'U.S. Environmental Protection Agency (EPA).json'}), Document(page_content='… Fuel Combustion Industrial, Non Biogenic Emission Source, Carbon Monoxide', metadata={'dcid': 'Annual_Amount_Emissions_FuelCombustionIndustrial_NonBiogenicEmissionSource_CarbonMonoxide', 'link': 'https://datacommons.org/browser/Annual_Amount_Emissions_FuelCombustionIndustrial_NonBiogenicEmissionSource_CarbonMonoxide', 'data_source': 'U.S. Environmental Protection Agency (EPA).json'}), Document(page_content='… EPA_Fuel Combustion Other, Non Biogenic Emission Source, Carbon Monoxide', metadata={'dcid': 'Annual_Amount_Emissions_EPAFuelCombustionOther_NonBiogenicEmissionSource_CarbonMonoxide', 'link': 'https://datacommons.org/browser/Annual_Amount_Emissions_EPAFuelCombustionOther_NonBiogenicEmissionSource_CarbonMonoxide', 'data_source': 'U.S. Environmental Protection Agency (EPA).json'}), Document(page_content='… EPA_Fuel Combustion Other, Non Biogenic Emission Source, Carbon Monoxide', metadata={'dcid': 'Annual_Amount_Emissions_EPAFuelCombustionOther_NonBiogenicEmissionSource_CarbonMonoxide', 'link': 'https://datacommons.org/browser/Annual_Amount_Emissions_EPAFuelCombustionOther_NonBiogenicEmissionSource_CarbonMonoxide', 'data_source': 'U.S. Environmental Protection Agency (EPA).json'}), Document(page_content='Mean Barometric Pressure', metadata={'dcid': 'Mean_BarometricPressure', 'link': 'https://datacommons.org/browser/Mean_BarometricPressure', 'data_source': 'U.S. National Oceanic and Atmospheric Administration (NOAA).json'}), Document(page_content='GDP of the Administrative and Support and Waste Management Services Industry', metadata={'dcid': 'Amount_EconomicActivity_GrossDomesticProduction_NAICSAdministrativeSupportWasteManagementRemediationServices_RealValue', 'link': 'https://datacommons.org/browser/Amount_EconomicActivity_GrossDomesticProduction_NAICSAdministrativeSupportWasteManagementRemediationServices_RealValue', 'data_source': 'U.S. Bureau of Economic Analysis (BEA).json'}), Document(page_content='GDP of the Administrative and Support and Waste Management Services Industry', metadata={'dcid': 'Amount_EconomicActivity_GrossDomesticProduction_NAICSAdministrativeSupportWasteManagementRemediationServices_RealValue', 'link': 'https://datacommons.org/browser/Amount_EconomicActivity_GrossDomesticProduction_NAICSAdministrativeSupportWasteManagementRemediationServices_RealValue', 'data_source': 'U.S. Bureau of Economic Analysis (BEA).json'}), Document(page_content='People employed in the Information, communication and financial, real estate, professional and administrative sector', metadata={'dcid': 'Monthly_Mean_Income_Person_Years14Onwards_CommunicationFinanceSector_Employed_MainJob', 'link': 'https://datacommons.org/browser/Monthly_Mean_Income_Person_Years14Onwards_CommunicationFinanceSector_Employed_MainJob', 'data_source': 'Brazilian Institute of Geography and Statistics (IBGE).json'}), Document(page_content='People employed in the Information, communication and financial, real estate, professional and administrative sector', metadata={'dcid': 'Monthly_Mean_Income_Person_Years14Onwards_CommunicationFinanceSector_Employed_MainJob', 'link': 'https://datacommons.org/browser/Monthly_Mean_Income_Person_Years14Onwards_CommunicationFinanceSector_Employed_MainJob', 'data_source': 'Brazilian Institute of Geography and Statistics (IBGE).json'}), Document(page_content='People employed in the Information, communication and financial, real estate, professional and administrative sector', metadata={'dcid': 'Monthly_Mean_Income_Person_Years14Onwards_CommunicationFinanceSector_Employed_MainJob', 'link': 'https://datacommons.org/browser/Monthly_Mean_Income_Person_Years14Onwards_CommunicationFinanceSector_Employed_MainJob', 'data_source': 'Brazilian Institute of Geography and Statistics (IBGE).json'}), Document(page_content='Percent of Crop Covered Area', metadata={'dcid': 'LandCoverFraction_Cropland', 'link': 'https://datacommons.org/browser/LandCoverFraction_Cropland', 'data_source': 'European Union (EU) Copernicus.json'}), Document(page_content='… number of parked vehicle involved in crash', metadata={'dcid': 'Count_Vehicle_InvolvedInCrash_Parked', 'link': 'https://datacommons.org/browser/Count_Vehicle_InvolvedInCrash_Parked', 'data_source': 'U.S. National Highway Traffic Safety Administration (NHTSA).json'}), Document(page_content='… number of parked vehicle involved in crash', metadata={'dcid': 'Count_Vehicle_InvolvedInCrash_Parked', 'link': 'https://datacommons.org/browser/Count_Vehicle_InvolvedInCrash_Parked', 'data_source': 'U.S. National Highway Traffic Safety Administration (NHTSA).json'}), Document(page_content='Percent of Forest Covered Area', metadata={'dcid': 'LandCoverFraction_Forest', 'link': 'https://datacommons.org/browser/LandCoverFraction_Forest', 'data_source': 'European Union (EU) Copernicus.json'}), Document(page_content='… Bare Sparse Vegetation Covered Area', metadata={'dcid': 'LandCoverFraction_BareSparseVegetation', 'link': 'https://datacommons.org/browser/LandCoverFraction_BareSparseVegetation', 'data_source': 'European Union (EU) Copernicus.json'}), Document(page_content='… COVID-19 Deaths', metadata={'dcid': 'CumulativeCount_MedicalConditionIncident_COVID_19_PatientDeceased', 'link': 'https://datacommons.org/browser/CumulativeCount_MedicalConditionIncident_COVID_19_PatientDeceased', 'data_source': 'DataMeet.json'}), Document(page_content='Cumulative Count of COVID-19 Cases', metadata={'dcid': 'CumulativeCount_MedicalConditionIncident_COVID_19_ConfirmedOrProbableCase', 'link': 'https://datacommons.org/browser/CumulativeCount_MedicalConditionIncident_COVID_19_ConfirmedOrProbableCase', 'data_source': 'The New York Times.json'}), Document(page_content='Cumulative Count of COVID-19 Cases', metadata={'dcid': 'CumulativeCount_MedicalConditionIncident_COVID_19_ConfirmedOrProbableCase', 'link': 'https://datacommons.org/browser/CumulativeCount_MedicalConditionIncident_COVID_19_ConfirmedOrProbableCase', 'data_source': 'The New York Times.json'}), Document(page_content='Cumulative Count of COVID-19 Cases', metadata={'dcid': 'CumulativeCount_MedicalConditionIncident_COVID_19_ConfirmedOrProbableCase', 'link': 'https://datacommons.org/browser/CumulativeCount_MedicalConditionIncident_COVID_19_ConfirmedOrProbableCase', 'data_source': 'The New York Times.json'}), Document(page_content='Cumulative Count of COVID-19 Deaths', metadata={'dcid': 'CumulativeCount_MedicalConditionIncident_COVID_19_PatientDeceased', 'link': 'https://datacommons.org/browser/CumulativeCount_MedicalConditionIncident_COVID_19_PatientDeceased', 'data_source': 'Our World in Data.json'})]\n",
      "['Count_MedicalConditionIncident_COVID_19_PatientInICU', 'Count_Vehicle_InvolvedInCrash_InTransport', 'Annual_Amount_Emissions_FuelCombustionIndustrial_NonBiogenicEmissionSource_CarbonMonoxide', 'Annual_Amount_Emissions_EPAFuelCombustionOther_NonBiogenicEmissionSource_CarbonMonoxide', 'Mean_BarometricPressure', 'Amount_EconomicActivity_GrossDomesticProduction_NAICSAdministrativeSupportWasteManagementRemediationServices_RealValue', 'Monthly_Mean_Income_Person_Years14Onwards_CommunicationFinanceSector_Employed_MainJob', 'LandCoverFraction_Cropland', 'Count_Vehicle_InvolvedInCrash_Parked', 'LandCoverFraction_Forest', 'LandCoverFraction_BareSparseVegetation', 'CumulativeCount_MedicalConditionIncident_COVID_19_PatientDeceased', 'CumulativeCount_MedicalConditionIncident_COVID_19_ConfirmedOrProbableCase']\n"
     ]
    },
    {
     "data": {
      "text/html": [
       "<div>\n",
       "<style scoped>\n",
       "    .dataframe tbody tr th:only-of-type {\n",
       "        vertical-align: middle;\n",
       "    }\n",
       "\n",
       "    .dataframe tbody tr th {\n",
       "        vertical-align: top;\n",
       "    }\n",
       "\n",
       "    .dataframe thead th {\n",
       "        text-align: right;\n",
       "    }\n",
       "</style>\n",
       "<table border=\"1\" class=\"dataframe\">\n",
       "  <thead>\n",
       "    <tr style=\"text-align: right;\">\n",
       "      <th></th>\n",
       "      <th>Annual_Amount_Emissions_EPAFuelCombustionOther_NonBiogenicEmissionSource_CarbonMonoxide</th>\n",
       "      <th>Amount_EconomicActivity_GrossDomesticProduction_NAICSAdministrativeSupportWasteManagementRemediationServices_RealValue</th>\n",
       "      <th>CumulativeCount_MedicalConditionIncident_COVID_19_ConfirmedOrProbableCase</th>\n",
       "      <th>CumulativeCount_MedicalConditionIncident_COVID_19_PatientDeceased</th>\n",
       "      <th>Count_MedicalConditionIncident_COVID_19_PatientInICU</th>\n",
       "      <th>Annual_Amount_Emissions_FuelCombustionIndustrial_NonBiogenicEmissionSource_CarbonMonoxide</th>\n",
       "      <th>Mean_BarometricPressure</th>\n",
       "    </tr>\n",
       "    <tr>\n",
       "      <th>place</th>\n",
       "      <th></th>\n",
       "      <th></th>\n",
       "      <th></th>\n",
       "      <th></th>\n",
       "      <th></th>\n",
       "      <th></th>\n",
       "      <th></th>\n",
       "    </tr>\n",
       "  </thead>\n",
       "  <tbody>\n",
       "    <tr>\n",
       "      <th>country/USA</th>\n",
       "      <td>2.666394e+06</td>\n",
       "      <td>6.195760e+11</td>\n",
       "      <td>103910034.0</td>\n",
       "      <td>1188195.0</td>\n",
       "      <td>1602.0</td>\n",
       "      <td>830217.1723</td>\n",
       "      <td>NaN</td>\n",
       "    </tr>\n",
       "    <tr>\n",
       "      <th>geoId/1836003</th>\n",
       "      <td>NaN</td>\n",
       "      <td>NaN</td>\n",
       "      <td>NaN</td>\n",
       "      <td>NaN</td>\n",
       "      <td>NaN</td>\n",
       "      <td>NaN</td>\n",
       "      <td>1015.75</td>\n",
       "    </tr>\n",
       "  </tbody>\n",
       "</table>\n",
       "</div>"
      ],
      "text/plain": [
       "               Annual_Amount_Emissions_EPAFuelCombustionOther_NonBiogenicEmissionSource_CarbonMonoxide  \\\n",
       "place                                                                                                    \n",
       "country/USA                                         2.666394e+06                                         \n",
       "geoId/1836003                                                NaN                                         \n",
       "\n",
       "               Amount_EconomicActivity_GrossDomesticProduction_NAICSAdministrativeSupportWasteManagementRemediationServices_RealValue  \\\n",
       "place                                                                                                                                   \n",
       "country/USA                                         6.195760e+11                                                                        \n",
       "geoId/1836003                                                NaN                                                                        \n",
       "\n",
       "               CumulativeCount_MedicalConditionIncident_COVID_19_ConfirmedOrProbableCase  \\\n",
       "place                                                                                      \n",
       "country/USA                                          103910034.0                           \n",
       "geoId/1836003                                                NaN                           \n",
       "\n",
       "               CumulativeCount_MedicalConditionIncident_COVID_19_PatientDeceased  \\\n",
       "place                                                                              \n",
       "country/USA                                            1188195.0                   \n",
       "geoId/1836003                                                NaN                   \n",
       "\n",
       "               Count_MedicalConditionIncident_COVID_19_PatientInICU  \\\n",
       "place                                                                 \n",
       "country/USA                                               1602.0      \n",
       "geoId/1836003                                                NaN      \n",
       "\n",
       "               Annual_Amount_Emissions_FuelCombustionIndustrial_NonBiogenicEmissionSource_CarbonMonoxide  \\\n",
       "place                                                                                                      \n",
       "country/USA                                          830217.1723                                           \n",
       "geoId/1836003                                                NaN                                           \n",
       "\n",
       "               Mean_BarometricPressure  \n",
       "place                                   \n",
       "country/USA                        NaN  \n",
       "geoId/1836003                  1015.75  "
      ]
     },
     "execution_count": 22,
     "metadata": {},
     "output_type": "execute_result"
    }
   ],
   "source": [
    "all_dcids_agent(question=\"What is the number of patients recovered in COVID-19 from United States and India\")"
   ]
  },
  {
   "cell_type": "code",
   "execution_count": 7,
   "metadata": {},
   "outputs": [
    {
     "data": {
      "text/html": [
       "<div>\n",
       "<style scoped>\n",
       "    .dataframe tbody tr th:only-of-type {\n",
       "        vertical-align: middle;\n",
       "    }\n",
       "\n",
       "    .dataframe tbody tr th {\n",
       "        vertical-align: top;\n",
       "    }\n",
       "\n",
       "    .dataframe thead th {\n",
       "        text-align: right;\n",
       "    }\n",
       "</style>\n",
       "<table border=\"1\" class=\"dataframe\">\n",
       "  <thead>\n",
       "    <tr style=\"text-align: right;\">\n",
       "      <th></th>\n",
       "      <th>Count_MedicalConditionIncident_COVID_19_PatientInICU</th>\n",
       "    </tr>\n",
       "    <tr>\n",
       "      <th>place</th>\n",
       "      <th></th>\n",
       "    </tr>\n",
       "  </thead>\n",
       "  <tbody>\n",
       "    <tr>\n",
       "      <th>country/USA</th>\n",
       "      <td>1602</td>\n",
       "    </tr>\n",
       "  </tbody>\n",
       "</table>\n",
       "</div>"
      ],
      "text/plain": [
       "             Count_MedicalConditionIncident_COVID_19_PatientInICU\n",
       "place                                                            \n",
       "country/USA                                               1602   "
      ]
     },
     "execution_count": 7,
     "metadata": {},
     "output_type": "execute_result"
    }
   ],
   "source": [
    "dcid = ['Count_MedicalConditionIncident_COVID_19_PatientInICU']\n",
    "place_dcids = ['country/USA', 'geoId/1836003']\n",
    "\n",
    "dc.build_multivariate_dataframe(place_dcids,dcid)"
   ]
  },
  {
   "cell_type": "code",
   "execution_count": null,
   "metadata": {},
   "outputs": [],
   "source": []
  }
 ],
 "metadata": {
  "kernelspec": {
   "display_name": "openbb-env",
   "language": "python",
   "name": "python3"
  },
  "language_info": {
   "codemirror_mode": {
    "name": "ipython",
    "version": 3
   },
   "file_extension": ".py",
   "mimetype": "text/x-python",
   "name": "python",
   "nbconvert_exporter": "python",
   "pygments_lexer": "ipython3",
   "version": "3.9.18"
  }
 },
 "nbformat": 4,
 "nbformat_minor": 2
}
