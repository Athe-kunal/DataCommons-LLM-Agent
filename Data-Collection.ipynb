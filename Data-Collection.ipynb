{
 "cells": [
  {
   "cell_type": "code",
   "execution_count": 4,
   "metadata": {},
   "outputs": [
    {
     "name": "stdout",
     "output_type": "stream",
     "text": [
      "Collecting datacommons_pandas\n",
      "  Downloading datacommons_pandas-0.0.3-py3-none-any.whl.metadata (2.3 kB)\n",
      "Requirement already satisfied: six in c:\\users\\astar\\anaconda3\\envs\\tf-gpu\\lib\\site-packages (from datacommons_pandas) (1.16.0)\n",
      "Requirement already satisfied: pandas in c:\\users\\astar\\anaconda3\\envs\\tf-gpu\\lib\\site-packages (from datacommons_pandas) (2.1.3)\n",
      "Requirement already satisfied: numpy<2,>=1.22.4 in c:\\users\\astar\\anaconda3\\envs\\tf-gpu\\lib\\site-packages (from pandas->datacommons_pandas) (1.23.5)\n",
      "Requirement already satisfied: python-dateutil>=2.8.2 in c:\\users\\astar\\anaconda3\\envs\\tf-gpu\\lib\\site-packages (from pandas->datacommons_pandas) (2.8.2)\n",
      "Requirement already satisfied: pytz>=2020.1 in c:\\users\\astar\\anaconda3\\envs\\tf-gpu\\lib\\site-packages (from pandas->datacommons_pandas) (2023.3.post1)\n",
      "Requirement already satisfied: tzdata>=2022.1 in c:\\users\\astar\\anaconda3\\envs\\tf-gpu\\lib\\site-packages (from pandas->datacommons_pandas) (2023.3)\n",
      "Downloading datacommons_pandas-0.0.3-py3-none-any.whl (45 kB)\n",
      "   ---------------------------------------- 0.0/45.8 kB ? eta -:--:--\n",
      "   ---------------------------------------- 45.8/45.8 kB ? eta 0:00:00\n",
      "Installing collected packages: datacommons_pandas\n",
      "Successfully installed datacommons_pandas-0.0.3\n"
     ]
    },
    {
     "name": "stderr",
     "output_type": "stream",
     "text": [
      "WARNING: Ignoring invalid distribution -atplotlib (c:\\users\\astar\\anaconda3\\envs\\tf-gpu\\lib\\site-packages)\n",
      "WARNING: Ignoring invalid distribution -treamlit (c:\\users\\astar\\anaconda3\\envs\\tf-gpu\\lib\\site-packages)\n",
      "WARNING: Ignoring invalid distribution -atplotlib (c:\\users\\astar\\anaconda3\\envs\\tf-gpu\\lib\\site-packages)\n",
      "WARNING: Ignoring invalid distribution -treamlit (c:\\users\\astar\\anaconda3\\envs\\tf-gpu\\lib\\site-packages)\n"
     ]
    }
   ],
   "source": [
    "!pip install datacommons_pandas"
   ]
  },
  {
   "cell_type": "code",
   "execution_count": 4,
   "metadata": {},
   "outputs": [],
   "source": [
    "import datacommons_pandas as dc"
   ]
  },
  {
   "cell_type": "code",
   "execution_count": 6,
   "metadata": {},
   "outputs": [
    {
     "data": {
      "text/plain": [
       "{'country/USA': {'Percent_Person_Obesity': {'sourceSeries': [{'val': {'2021': 33,\n",
       "      '2020': 32,\n",
       "      '2018': 30.9},\n",
       "     'measurementMethod': 'AgeAdjustedPrevalence',\n",
       "     'observationPeriod': 'P1Y',\n",
       "     'importName': 'CDC500',\n",
       "     'provenanceDomain': 'cdc.gov',\n",
       "     'provenanceUrl': 'https://www.cdc.gov/places/index.html'},\n",
       "    {'val': {'2018': 30.9, '2020': 31.9, '2021': 33},\n",
       "     'measurementMethod': 'CrudePrevalence',\n",
       "     'observationPeriod': 'P1Y',\n",
       "     'importName': 'CDC500',\n",
       "     'provenanceDomain': 'cdc.gov',\n",
       "     'provenanceUrl': 'https://www.cdc.gov/places/index.html'}]}}}"
      ]
     },
     "execution_count": 6,
     "metadata": {},
     "output_type": "execute_result"
    }
   ],
   "source": [
    "dc.get_stat_all(places=['country/USA'],stat_vars=['Percent_Person_Obesity'])"
   ]
  },
  {
   "cell_type": "code",
   "execution_count": 6,
   "metadata": {},
   "outputs": [
    {
     "data": {
      "text/plain": [
       "['geoId/0107000',\n",
       " 'geoId/0135896',\n",
       " 'geoId/0137000',\n",
       " 'geoId/0150000',\n",
       " 'geoId/0151000']"
      ]
     },
     "execution_count": 6,
     "metadata": {},
     "output_type": "execute_result"
    }
   ],
   "source": [
    "city_dcids = dc.get_property_values([\"CDC500_City\"], \"member\", limit=500)[\"CDC500_City\"]\n",
    "city_dcids[:5]"
   ]
  },
  {
   "cell_type": "code",
   "execution_count": 7,
   "metadata": {},
   "outputs": [
    {
     "data": {
      "text/html": [
       "<div>\n",
       "<style scoped>\n",
       "    .dataframe tbody tr th:only-of-type {\n",
       "        vertical-align: middle;\n",
       "    }\n",
       "\n",
       "    .dataframe tbody tr th {\n",
       "        vertical-align: top;\n",
       "    }\n",
       "\n",
       "    .dataframe thead th {\n",
       "        text-align: right;\n",
       "    }\n",
       "</style>\n",
       "<table border=\"1\" class=\"dataframe\">\n",
       "  <thead>\n",
       "    <tr style=\"text-align: right;\">\n",
       "      <th></th>\n",
       "      <th>Percent_Person_Obesity</th>\n",
       "      <th>Percent_Person_WithHighBloodPressure</th>\n",
       "      <th>UnemploymentRate_Person</th>\n",
       "      <th>Count_Person_BelowPovertyLevelInThePast12Months</th>\n",
       "      <th>Count_Person</th>\n",
       "    </tr>\n",
       "    <tr>\n",
       "      <th>place</th>\n",
       "      <th></th>\n",
       "      <th></th>\n",
       "      <th></th>\n",
       "      <th></th>\n",
       "      <th></th>\n",
       "    </tr>\n",
       "  </thead>\n",
       "  <tbody>\n",
       "    <tr>\n",
       "      <th>geoId/0107000</th>\n",
       "      <td>44.9</td>\n",
       "      <td>45.6</td>\n",
       "      <td>3.3</td>\n",
       "      <td>49921</td>\n",
       "      <td>200431</td>\n",
       "    </tr>\n",
       "    <tr>\n",
       "      <th>geoId/0135896</th>\n",
       "      <td>32.5</td>\n",
       "      <td>33.0</td>\n",
       "      <td>2.0</td>\n",
       "      <td>4965</td>\n",
       "      <td>91995</td>\n",
       "    </tr>\n",
       "    <tr>\n",
       "      <th>geoId/0137000</th>\n",
       "      <td>43.7</td>\n",
       "      <td>37.9</td>\n",
       "      <td>2.4</td>\n",
       "      <td>28809</td>\n",
       "      <td>215025</td>\n",
       "    </tr>\n",
       "    <tr>\n",
       "      <th>geoId/0150000</th>\n",
       "      <td>41.3</td>\n",
       "      <td>40.6</td>\n",
       "      <td>3.7</td>\n",
       "      <td>37379</td>\n",
       "      <td>186316</td>\n",
       "    </tr>\n",
       "    <tr>\n",
       "      <th>geoId/0151000</th>\n",
       "      <td>37.9</td>\n",
       "      <td>40.7</td>\n",
       "      <td>2.9</td>\n",
       "      <td>40625</td>\n",
       "      <td>199819</td>\n",
       "    </tr>\n",
       "  </tbody>\n",
       "</table>\n",
       "</div>"
      ],
      "text/plain": [
       "               Percent_Person_Obesity  Percent_Person_WithHighBloodPressure  \\\n",
       "place                                                                         \n",
       "geoId/0107000                    44.9                                  45.6   \n",
       "geoId/0135896                    32.5                                  33.0   \n",
       "geoId/0137000                    43.7                                  37.9   \n",
       "geoId/0150000                    41.3                                  40.6   \n",
       "geoId/0151000                    37.9                                  40.7   \n",
       "\n",
       "               UnemploymentRate_Person  \\\n",
       "place                                    \n",
       "geoId/0107000                      3.3   \n",
       "geoId/0135896                      2.0   \n",
       "geoId/0137000                      2.4   \n",
       "geoId/0150000                      3.7   \n",
       "geoId/0151000                      2.9   \n",
       "\n",
       "               Count_Person_BelowPovertyLevelInThePast12Months  Count_Person  \n",
       "place                                                                         \n",
       "geoId/0107000                                            49921        200431  \n",
       "geoId/0135896                                             4965         91995  \n",
       "geoId/0137000                                            28809        215025  \n",
       "geoId/0150000                                            37379        186316  \n",
       "geoId/0151000                                            40625        199819  "
      ]
     },
     "execution_count": 7,
     "metadata": {},
     "output_type": "execute_result"
    }
   ],
   "source": [
    "data = dc.build_multivariate_dataframe(city_dcids,\n",
    "                                       [\"Percent_Person_Obesity\", # Prevalence of obesity from CDC\n",
    "                                        \"Percent_Person_WithHighBloodPressure\", # Prevalence of high blood pressure from CDC\n",
    "                                        \"UnemploymentRate_Person\", # Unemployment rate from BLS\n",
    "                                        \"Count_Person_BelowPovertyLevelInThePast12Months\", # Persons living below the poverty line from Census\n",
    "                                        \"Count_Person\", # Total population from Census\n",
    "                                       ]\n",
    "                                      )\n",
    "# Display the first five rows.\n",
    "data.head(5)"
   ]
  },
  {
   "cell_type": "code",
   "execution_count": 8,
   "metadata": {},
   "outputs": [
    {
     "data": {
      "text/html": [
       "<div>\n",
       "<style scoped>\n",
       "    .dataframe tbody tr th:only-of-type {\n",
       "        vertical-align: middle;\n",
       "    }\n",
       "\n",
       "    .dataframe tbody tr th {\n",
       "        vertical-align: top;\n",
       "    }\n",
       "\n",
       "    .dataframe thead th {\n",
       "        text-align: right;\n",
       "    }\n",
       "</style>\n",
       "<table border=\"1\" class=\"dataframe\">\n",
       "  <thead>\n",
       "    <tr style=\"text-align: right;\">\n",
       "      <th></th>\n",
       "      <th>CumulativeCount_MedicalConditionIncident_COVID_19_ConfirmedOrProbableCase</th>\n",
       "    </tr>\n",
       "    <tr>\n",
       "      <th>place</th>\n",
       "      <th></th>\n",
       "    </tr>\n",
       "  </thead>\n",
       "  <tbody>\n",
       "    <tr>\n",
       "      <th>country/USA</th>\n",
       "      <td>103910034</td>\n",
       "    </tr>\n",
       "    <tr>\n",
       "      <th>geoId/06085</th>\n",
       "      <td>342015</td>\n",
       "    </tr>\n",
       "  </tbody>\n",
       "</table>\n",
       "</div>"
      ],
      "text/plain": [
       "             CumulativeCount_MedicalConditionIncident_COVID_19_ConfirmedOrProbableCase\n",
       "place                                                                                 \n",
       "country/USA                                          103910034                        \n",
       "geoId/06085                                             342015                        "
      ]
     },
     "execution_count": 8,
     "metadata": {},
     "output_type": "execute_result"
    }
   ],
   "source": [
    "dc.build_multivariate_dataframe([\"country/USA\", \"geoId/1714000\", \"geoId/06085\"],[\"CumulativeCount_MedicalConditionIncident_COVID_19_ConfirmedOrProbableCase\"])"
   ]
  },
  {
   "cell_type": "markdown",
   "metadata": {},
   "source": [
    "## COLLECTION THE STATISTICAL VALUES"
   ]
  },
  {
   "cell_type": "markdown",
   "metadata": {},
   "source": [
    "## AIM FOR TODAY\n",
    "\n",
    "1. Extract all the statistical variables\n",
    "2. Find the dcids of the places\n",
    "3. Agentic Build up"
   ]
  },
  {
   "cell_type": "markdown",
   "metadata": {},
   "source": [
    "## EXTRACT ALL THE STATISTICAL VARIABLES"
   ]
  },
  {
   "cell_type": "code",
   "execution_count": 16,
   "metadata": {},
   "outputs": [],
   "source": [
    "import requests\n",
    "from bs4 import BeautifulSoup\n",
    "stats_vars_page = requests.get(\"https://datacommons.org/tools/statvar\")\n",
    "stats_vars_soup = BeautifulSoup(stats_vars_page.content,'html.parser')"
   ]
  },
  {
   "cell_type": "code",
   "execution_count": 18,
   "metadata": {},
   "outputs": [],
   "source": [
    "stats_vars_soup.find(class_=\"dataset-selector-label\")"
   ]
  },
  {
   "cell_type": "code",
   "execution_count": 34,
   "metadata": {},
   "outputs": [],
   "source": [
    "# write data_source_outer_html to a file and read it\n",
    "with open('data_source_html.txt','r') as f:\n",
    "    data_source_outer_html = f.read()\n",
    "data_source_html = BeautifulSoup(data_source_outer_html,'lxml')"
   ]
  },
  {
   "cell_type": "code",
   "execution_count": 70,
   "metadata": {},
   "outputs": [],
   "source": [
    "data_sources_dict = {}\n",
    "for opt in data_source_html.find(class_=\"dataset-selector-custom-input custom-select\").find_all('option'):\n",
    "    opt_str = str(opt)\n",
    "    opt_str = opt_str[opt_str.find(\"value=\")+6:opt_str.find(\">\")][1:-1]\n",
    "    data_source_link = \"https://datacommons.org/tools/statvar#s=\"+\"%2F\".join(opt_str.split(\"/\"))\n",
    "    data_sources_dict.update({opt.text:data_source_link})"
   ]
  },
  {
   "cell_type": "code",
   "execution_count": 73,
   "metadata": {},
   "outputs": [
    {
     "data": {
      "text/plain": [
       "'https://datacommons.org/tools/statvar#s=dc%2Fs%2FBrazilInpe-NationalInstituteForSpaceResearch'"
      ]
     },
     "execution_count": 73,
     "metadata": {},
     "output_type": "execute_result"
    }
   ],
   "source": [
    "data_sources_dict['Brazil INPE - National Institute for Space Research']"
   ]
  },
  {
   "cell_type": "code",
   "execution_count": 160,
   "metadata": {},
   "outputs": [
    {
     "name": "stdout",
     "output_type": "stream",
     "text": [
      "Error clicking element: Message: element click intercepted: Element <span class=\"title\">...</span> is not clickable at point (164, 282). Other element would receive the click: <div id=\"tree-widget-tooltip\" style=\"visibility: visible; left: 121px; top: 177px;\">...</div>\n",
      "  (Session info: chrome=125.0.6422.142)\n",
      "Stacktrace:\n",
      "\tGetHandleVerifier [0x003CB8E3+45827]\n",
      "\t(No symbol) [0x0035DCC4]\n",
      "\t(No symbol) [0x0025150F]\n",
      "\t(No symbol) [0x00298052]\n",
      "\t(No symbol) [0x002963D8]\n",
      "\t(No symbol) [0x0029425B]\n",
      "\t(No symbol) [0x00293823]\n",
      "\t(No symbol) [0x002885EF]\n",
      "\t(No symbol) [0x002B2DFC]\n",
      "\t(No symbol) [0x00288075]\n",
      "\t(No symbol) [0x002B3094]\n",
      "\t(No symbol) [0x002CC034]\n",
      "\t(No symbol) [0x002B2B96]\n",
      "\t(No symbol) [0x00286998]\n",
      "\t(No symbol) [0x0028751D]\n",
      "\tGetHandleVerifier [0x00684513+2899763]\n",
      "\tGetHandleVerifier [0x006D793D+3240797]\n",
      "\tGetHandleVerifier [0x004513B4+593364]\n",
      "\tGetHandleVerifier [0x004582DC+621820]\n",
      "\t(No symbol) [0x003670A4]\n",
      "\t(No symbol) [0x003637A8]\n",
      "\t(No symbol) [0x00363947]\n",
      "\t(No symbol) [0x003559FE]\n",
      "\tBaseThreadInitThunk [0x760A7BA9+25]\n",
      "\tRtlInitializeExceptionChain [0x7764BE3B+107]\n",
      "\tRtlClearBits [0x7764BDBF+191]\n",
      "\n",
      "Error clicking element: local variable 'actions' referenced before assignment\n",
      "Error clicking element: Message: stale element reference: stale element not found in the current frame\n",
      "  (Session info: chrome=125.0.6422.142)\n",
      "Stacktrace:\n",
      "\tGetHandleVerifier [0x003CB8E3+45827]\n",
      "\t(No symbol) [0x0035DCC4]\n",
      "\t(No symbol) [0x0025150F]\n",
      "\t(No symbol) [0x0025660F]\n",
      "\t(No symbol) [0x00258298]\n",
      "\t(No symbol) [0x00258310]\n",
      "\t(No symbol) [0x00293A82]\n",
      "\t(No symbol) [0x002884E2]\n",
      "\t(No symbol) [0x002B2DFC]\n",
      "\t(No symbol) [0x00288075]\n",
      "\t(No symbol) [0x002B3094]\n",
      "\t(No symbol) [0x002CC034]\n",
      "\t(No symbol) [0x002B2B96]\n",
      "\t(No symbol) [0x00286998]\n",
      "\t(No symbol) [0x0028751D]\n",
      "\tGetHandleVerifier [0x00684513+2899763]\n",
      "\tGetHandleVerifier [0x006D793D+3240797]\n",
      "\tGetHandleVerifier [0x004513B4+593364]\n",
      "\tGetHandleVerifier [0x004582DC+621820]\n",
      "\t(No symbol) [0x003670A4]\n",
      "\t(No symbol) [0x003637A8]\n",
      "\t(No symbol) [0x00363947]\n",
      "\t(No symbol) [0x003559FE]\n",
      "\tBaseThreadInitThunk [0x760A7BA9+25]\n",
      "\tRtlInitializeExceptionChain [0x7764BE3B+107]\n",
      "\tRtlClearBits [0x7764BDBF+191]\n",
      "\n"
     ]
    },
    {
     "ename": "StaleElementReferenceException",
     "evalue": "Message: stale element reference: stale element not found in the current frame\n  (Session info: chrome=125.0.6422.142)\nStacktrace:\n\tGetHandleVerifier [0x003CB8E3+45827]\n\t(No symbol) [0x0035DCC4]\n\t(No symbol) [0x0025150F]\n\t(No symbol) [0x0025660F]\n\t(No symbol) [0x00258298]\n\t(No symbol) [0x00258310]\n\t(No symbol) [0x002977AA]\n\t(No symbol) [0x00296D25]\n\t(No symbol) [0x002D35B4]\n\t(No symbol) [0x002B2DFC]\n\t(No symbol) [0x002CC034]\n\t(No symbol) [0x002B2B96]\n\t(No symbol) [0x00286998]\n\t(No symbol) [0x0028751D]\n\tGetHandleVerifier [0x00684513+2899763]\n\tGetHandleVerifier [0x006D793D+3240797]\n\tGetHandleVerifier [0x004513B4+593364]\n\tGetHandleVerifier [0x004582DC+621820]\n\t(No symbol) [0x003670A4]\n\t(No symbol) [0x003637A8]\n\t(No symbol) [0x00363947]\n\t(No symbol) [0x003559FE]\n\tBaseThreadInitThunk [0x760A7BA9+25]\n\tRtlInitializeExceptionChain [0x7764BE3B+107]\n\tRtlClearBits [0x7764BDBF+191]\n",
     "output_type": "error",
     "traceback": [
      "\u001b[1;31m---------------------------------------------------------------------------\u001b[0m",
      "\u001b[1;31mStaleElementReferenceException\u001b[0m            Traceback (most recent call last)",
      "Cell \u001b[1;32mIn[160], line 31\u001b[0m, in \u001b[0;36mrecursively_click_titles.<locals>.click_title_elements\u001b[1;34m()\u001b[0m\n\u001b[0;32m     28\u001b[0m \u001b[38;5;28;01mtry\u001b[39;00m:\n\u001b[0;32m     29\u001b[0m     \u001b[38;5;66;03m# Scroll into view and click the element\u001b[39;00m\n\u001b[0;32m     30\u001b[0m     \u001b[38;5;66;03m# ActionChains(driver).move_to_element(element).perform()\u001b[39;00m\n\u001b[1;32m---> 31\u001b[0m     \u001b[43melement\u001b[49m\u001b[38;5;241;43m.\u001b[39;49m\u001b[43mclick\u001b[49m\u001b[43m(\u001b[49m\u001b[43m)\u001b[49m\n\u001b[0;32m     34\u001b[0m     \u001b[38;5;66;03m# Add the element to the set of clicked titles\u001b[39;00m\n",
      "File \u001b[1;32mc:\\Users\\astar\\anaconda3\\envs\\tf-gpu\\lib\\site-packages\\selenium\\webdriver\\remote\\webelement.py:94\u001b[0m, in \u001b[0;36mWebElement.click\u001b[1;34m(self)\u001b[0m\n\u001b[0;32m     93\u001b[0m \u001b[38;5;250m\u001b[39m\u001b[38;5;124;03m\"\"\"Clicks the element.\"\"\"\u001b[39;00m\n\u001b[1;32m---> 94\u001b[0m \u001b[38;5;28;43mself\u001b[39;49m\u001b[38;5;241;43m.\u001b[39;49m\u001b[43m_execute\u001b[49m\u001b[43m(\u001b[49m\u001b[43mCommand\u001b[49m\u001b[38;5;241;43m.\u001b[39;49m\u001b[43mCLICK_ELEMENT\u001b[49m\u001b[43m)\u001b[49m\n",
      "File \u001b[1;32mc:\\Users\\astar\\anaconda3\\envs\\tf-gpu\\lib\\site-packages\\selenium\\webdriver\\remote\\webelement.py:404\u001b[0m, in \u001b[0;36mWebElement._execute\u001b[1;34m(self, command, params)\u001b[0m\n\u001b[0;32m    403\u001b[0m params[\u001b[38;5;124m\"\u001b[39m\u001b[38;5;124mid\u001b[39m\u001b[38;5;124m\"\u001b[39m] \u001b[38;5;241m=\u001b[39m \u001b[38;5;28mself\u001b[39m\u001b[38;5;241m.\u001b[39m_id\n\u001b[1;32m--> 404\u001b[0m \u001b[38;5;28;01mreturn\u001b[39;00m \u001b[38;5;28;43mself\u001b[39;49m\u001b[38;5;241;43m.\u001b[39;49m\u001b[43m_parent\u001b[49m\u001b[38;5;241;43m.\u001b[39;49m\u001b[43mexecute\u001b[49m\u001b[43m(\u001b[49m\u001b[43mcommand\u001b[49m\u001b[43m,\u001b[49m\u001b[43m \u001b[49m\u001b[43mparams\u001b[49m\u001b[43m)\u001b[49m\n",
      "File \u001b[1;32mc:\\Users\\astar\\anaconda3\\envs\\tf-gpu\\lib\\site-packages\\selenium\\webdriver\\remote\\webdriver.py:440\u001b[0m, in \u001b[0;36mWebDriver.execute\u001b[1;34m(self, driver_command, params)\u001b[0m\n\u001b[0;32m    439\u001b[0m \u001b[38;5;28;01mif\u001b[39;00m response:\n\u001b[1;32m--> 440\u001b[0m     \u001b[38;5;28;43mself\u001b[39;49m\u001b[38;5;241;43m.\u001b[39;49m\u001b[43merror_handler\u001b[49m\u001b[38;5;241;43m.\u001b[39;49m\u001b[43mcheck_response\u001b[49m\u001b[43m(\u001b[49m\u001b[43mresponse\u001b[49m\u001b[43m)\u001b[49m\n\u001b[0;32m    441\u001b[0m     response[\u001b[38;5;124m\"\u001b[39m\u001b[38;5;124mvalue\u001b[39m\u001b[38;5;124m\"\u001b[39m] \u001b[38;5;241m=\u001b[39m \u001b[38;5;28mself\u001b[39m\u001b[38;5;241m.\u001b[39m_unwrap_value(response\u001b[38;5;241m.\u001b[39mget(\u001b[38;5;124m\"\u001b[39m\u001b[38;5;124mvalue\u001b[39m\u001b[38;5;124m\"\u001b[39m, \u001b[38;5;28;01mNone\u001b[39;00m))\n",
      "File \u001b[1;32mc:\\Users\\astar\\anaconda3\\envs\\tf-gpu\\lib\\site-packages\\selenium\\webdriver\\remote\\errorhandler.py:245\u001b[0m, in \u001b[0;36mErrorHandler.check_response\u001b[1;34m(self, response)\u001b[0m\n\u001b[0;32m    244\u001b[0m     \u001b[38;5;28;01mraise\u001b[39;00m exception_class(message, screen, stacktrace, alert_text)  \u001b[38;5;66;03m# type: ignore[call-arg]  # mypy is not smart enough here\u001b[39;00m\n\u001b[1;32m--> 245\u001b[0m \u001b[38;5;28;01mraise\u001b[39;00m exception_class(message, screen, stacktrace)\n",
      "\u001b[1;31mStaleElementReferenceException\u001b[0m: Message: stale element reference: stale element not found in the current frame\n  (Session info: chrome=125.0.6422.142)\nStacktrace:\n\tGetHandleVerifier [0x003CB8E3+45827]\n\t(No symbol) [0x0035DCC4]\n\t(No symbol) [0x0025150F]\n\t(No symbol) [0x0025660F]\n\t(No symbol) [0x00258298]\n\t(No symbol) [0x00258310]\n\t(No symbol) [0x00293A82]\n\t(No symbol) [0x002884E2]\n\t(No symbol) [0x002B2DFC]\n\t(No symbol) [0x00288075]\n\t(No symbol) [0x002B3094]\n\t(No symbol) [0x002CC034]\n\t(No symbol) [0x002B2B96]\n\t(No symbol) [0x00286998]\n\t(No symbol) [0x0028751D]\n\tGetHandleVerifier [0x00684513+2899763]\n\tGetHandleVerifier [0x006D793D+3240797]\n\tGetHandleVerifier [0x004513B4+593364]\n\tGetHandleVerifier [0x004582DC+621820]\n\t(No symbol) [0x003670A4]\n\t(No symbol) [0x003637A8]\n\t(No symbol) [0x00363947]\n\t(No symbol) [0x003559FE]\n\tBaseThreadInitThunk [0x760A7BA9+25]\n\tRtlInitializeExceptionChain [0x7764BE3B+107]\n\tRtlClearBits [0x7764BDBF+191]\n",
      "\nDuring handling of the above exception, another exception occurred:\n",
      "\u001b[1;31mStaleElementReferenceException\u001b[0m            Traceback (most recent call last)",
      "Cell \u001b[1;32mIn[160], line 68\u001b[0m\n\u001b[0;32m     64\u001b[0m \u001b[38;5;66;03m# Wait for the page to fully load\u001b[39;00m\n\u001b[0;32m     65\u001b[0m WebDriverWait(driver, \u001b[38;5;241m10\u001b[39m)\u001b[38;5;241m.\u001b[39muntil(\n\u001b[0;32m     66\u001b[0m     EC\u001b[38;5;241m.\u001b[39mpresence_of_element_located((By\u001b[38;5;241m.\u001b[39mCLASS_NAME, \u001b[38;5;124m\"\u001b[39m\u001b[38;5;124mtitle\u001b[39m\u001b[38;5;124m\"\u001b[39m))\n\u001b[0;32m     67\u001b[0m )\n\u001b[1;32m---> 68\u001b[0m \u001b[43mrecursively_click_titles\u001b[49m\u001b[43m(\u001b[49m\u001b[43mdriver\u001b[49m\u001b[43m)\u001b[49m\n\u001b[0;32m     69\u001b[0m html \u001b[38;5;241m=\u001b[39m driver\u001b[38;5;241m.\u001b[39mpage_source\n\u001b[0;32m     70\u001b[0m soup \u001b[38;5;241m=\u001b[39m BeautifulSoup(html, \u001b[38;5;124m'\u001b[39m\u001b[38;5;124mhtml.parser\u001b[39m\u001b[38;5;124m'\u001b[39m)\n",
      "Cell \u001b[1;32mIn[160], line 56\u001b[0m, in \u001b[0;36mrecursively_click_titles\u001b[1;34m(driver)\u001b[0m\n\u001b[0;32m     53\u001b[0m                 \u001b[38;5;28;01mcontinue\u001b[39;00m\n\u001b[0;32m     55\u001b[0m \u001b[38;5;66;03m# Start the recursive clicking process\u001b[39;00m\n\u001b[1;32m---> 56\u001b[0m \u001b[43mclick_title_elements\u001b[49m\u001b[43m(\u001b[49m\u001b[43m)\u001b[49m\n",
      "Cell \u001b[1;32mIn[160], line 51\u001b[0m, in \u001b[0;36mrecursively_click_titles.<locals>.click_title_elements\u001b[1;34m()\u001b[0m\n\u001b[0;32m     49\u001b[0m \u001b[38;5;28;01mexcept\u001b[39;00m \u001b[38;5;167;01mException\u001b[39;00m \u001b[38;5;28;01mas\u001b[39;00m e:\n\u001b[0;32m     50\u001b[0m     \u001b[38;5;28mprint\u001b[39m(\u001b[38;5;124mf\u001b[39m\u001b[38;5;124m\"\u001b[39m\u001b[38;5;124mError clicking element: \u001b[39m\u001b[38;5;132;01m{\u001b[39;00me\u001b[38;5;132;01m}\u001b[39;00m\u001b[38;5;124m\"\u001b[39m)\n\u001b[1;32m---> 51\u001b[0m     \u001b[43mactions\u001b[49m\u001b[38;5;241;43m.\u001b[39;49m\u001b[43mmove_to_element_with_offset\u001b[49m\u001b[43m(\u001b[49m\u001b[43melement\u001b[49m\u001b[43m,\u001b[49m\u001b[38;5;241;43m30\u001b[39;49m\u001b[43m \u001b[49m\u001b[43m,\u001b[49m\u001b[43m \u001b[49m\u001b[38;5;241;43m-\u001b[39;49m\u001b[38;5;241;43m20\u001b[39;49m\u001b[43m)\u001b[49m\u001b[38;5;241;43m.\u001b[39;49m\u001b[43mperform\u001b[49m\u001b[43m(\u001b[49m\u001b[43m)\u001b[49m\n\u001b[0;32m     52\u001b[0m     \u001b[38;5;66;03m# Move the cursor away (e.g., 100 pixels to the right and down from the element)\u001b[39;00m\n\u001b[0;32m     53\u001b[0m     \u001b[38;5;28;01mcontinue\u001b[39;00m\n",
      "File \u001b[1;32mc:\\Users\\astar\\anaconda3\\envs\\tf-gpu\\lib\\site-packages\\selenium\\webdriver\\common\\action_chains.py:73\u001b[0m, in \u001b[0;36mActionChains.perform\u001b[1;34m(self)\u001b[0m\n\u001b[0;32m     71\u001b[0m \u001b[38;5;28;01mdef\u001b[39;00m \u001b[38;5;21mperform\u001b[39m(\u001b[38;5;28mself\u001b[39m):\n\u001b[0;32m     72\u001b[0m \u001b[38;5;250m    \u001b[39m\u001b[38;5;124;03m\"\"\"Performs all stored actions.\"\"\"\u001b[39;00m\n\u001b[1;32m---> 73\u001b[0m     \u001b[38;5;28;43mself\u001b[39;49m\u001b[38;5;241;43m.\u001b[39;49m\u001b[43mw3c_actions\u001b[49m\u001b[38;5;241;43m.\u001b[39;49m\u001b[43mperform\u001b[49m\u001b[43m(\u001b[49m\u001b[43m)\u001b[49m\n",
      "File \u001b[1;32mc:\\Users\\astar\\anaconda3\\envs\\tf-gpu\\lib\\site-packages\\selenium\\webdriver\\common\\actions\\action_builder.py:91\u001b[0m, in \u001b[0;36mActionBuilder.perform\u001b[1;34m(self)\u001b[0m\n\u001b[0;32m     89\u001b[0m         enc[\u001b[38;5;124m\"\u001b[39m\u001b[38;5;124mactions\u001b[39m\u001b[38;5;124m\"\u001b[39m]\u001b[38;5;241m.\u001b[39mappend(encoded)\n\u001b[0;32m     90\u001b[0m         device\u001b[38;5;241m.\u001b[39mactions \u001b[38;5;241m=\u001b[39m []\n\u001b[1;32m---> 91\u001b[0m \u001b[38;5;28;43mself\u001b[39;49m\u001b[38;5;241;43m.\u001b[39;49m\u001b[43mdriver\u001b[49m\u001b[38;5;241;43m.\u001b[39;49m\u001b[43mexecute\u001b[49m\u001b[43m(\u001b[49m\u001b[43mCommand\u001b[49m\u001b[38;5;241;43m.\u001b[39;49m\u001b[43mW3C_ACTIONS\u001b[49m\u001b[43m,\u001b[49m\u001b[43m \u001b[49m\u001b[43menc\u001b[49m\u001b[43m)\u001b[49m\n",
      "File \u001b[1;32mc:\\Users\\astar\\anaconda3\\envs\\tf-gpu\\lib\\site-packages\\selenium\\webdriver\\remote\\webdriver.py:440\u001b[0m, in \u001b[0;36mWebDriver.execute\u001b[1;34m(self, driver_command, params)\u001b[0m\n\u001b[0;32m    438\u001b[0m response \u001b[38;5;241m=\u001b[39m \u001b[38;5;28mself\u001b[39m\u001b[38;5;241m.\u001b[39mcommand_executor\u001b[38;5;241m.\u001b[39mexecute(driver_command, params)\n\u001b[0;32m    439\u001b[0m \u001b[38;5;28;01mif\u001b[39;00m response:\n\u001b[1;32m--> 440\u001b[0m     \u001b[38;5;28;43mself\u001b[39;49m\u001b[38;5;241;43m.\u001b[39;49m\u001b[43merror_handler\u001b[49m\u001b[38;5;241;43m.\u001b[39;49m\u001b[43mcheck_response\u001b[49m\u001b[43m(\u001b[49m\u001b[43mresponse\u001b[49m\u001b[43m)\u001b[49m\n\u001b[0;32m    441\u001b[0m     response[\u001b[38;5;124m\"\u001b[39m\u001b[38;5;124mvalue\u001b[39m\u001b[38;5;124m\"\u001b[39m] \u001b[38;5;241m=\u001b[39m \u001b[38;5;28mself\u001b[39m\u001b[38;5;241m.\u001b[39m_unwrap_value(response\u001b[38;5;241m.\u001b[39mget(\u001b[38;5;124m\"\u001b[39m\u001b[38;5;124mvalue\u001b[39m\u001b[38;5;124m\"\u001b[39m, \u001b[38;5;28;01mNone\u001b[39;00m))\n\u001b[0;32m    442\u001b[0m     \u001b[38;5;28;01mreturn\u001b[39;00m response\n",
      "File \u001b[1;32mc:\\Users\\astar\\anaconda3\\envs\\tf-gpu\\lib\\site-packages\\selenium\\webdriver\\remote\\errorhandler.py:245\u001b[0m, in \u001b[0;36mErrorHandler.check_response\u001b[1;34m(self, response)\u001b[0m\n\u001b[0;32m    243\u001b[0m         alert_text \u001b[38;5;241m=\u001b[39m value[\u001b[38;5;124m\"\u001b[39m\u001b[38;5;124malert\u001b[39m\u001b[38;5;124m\"\u001b[39m]\u001b[38;5;241m.\u001b[39mget(\u001b[38;5;124m\"\u001b[39m\u001b[38;5;124mtext\u001b[39m\u001b[38;5;124m\"\u001b[39m)\n\u001b[0;32m    244\u001b[0m     \u001b[38;5;28;01mraise\u001b[39;00m exception_class(message, screen, stacktrace, alert_text)  \u001b[38;5;66;03m# type: ignore[call-arg]  # mypy is not smart enough here\u001b[39;00m\n\u001b[1;32m--> 245\u001b[0m \u001b[38;5;28;01mraise\u001b[39;00m exception_class(message, screen, stacktrace)\n",
      "\u001b[1;31mStaleElementReferenceException\u001b[0m: Message: stale element reference: stale element not found in the current frame\n  (Session info: chrome=125.0.6422.142)\nStacktrace:\n\tGetHandleVerifier [0x003CB8E3+45827]\n\t(No symbol) [0x0035DCC4]\n\t(No symbol) [0x0025150F]\n\t(No symbol) [0x0025660F]\n\t(No symbol) [0x00258298]\n\t(No symbol) [0x00258310]\n\t(No symbol) [0x002977AA]\n\t(No symbol) [0x00296D25]\n\t(No symbol) [0x002D35B4]\n\t(No symbol) [0x002B2DFC]\n\t(No symbol) [0x002CC034]\n\t(No symbol) [0x002B2B96]\n\t(No symbol) [0x00286998]\n\t(No symbol) [0x0028751D]\n\tGetHandleVerifier [0x00684513+2899763]\n\tGetHandleVerifier [0x006D793D+3240797]\n\tGetHandleVerifier [0x004513B4+593364]\n\tGetHandleVerifier [0x004582DC+621820]\n\t(No symbol) [0x003670A4]\n\t(No symbol) [0x003637A8]\n\t(No symbol) [0x00363947]\n\t(No symbol) [0x003559FE]\n\tBaseThreadInitThunk [0x760A7BA9+25]\n\tRtlInitializeExceptionChain [0x7764BE3B+107]\n\tRtlClearBits [0x7764BDBF+191]\n"
     ]
    }
   ],
   "source": [
    "from selenium import webdriver\n",
    "from selenium.webdriver.common.by import By\n",
    "from selenium.webdriver.support.ui import WebDriverWait\n",
    "from selenium.webdriver.support import expected_conditions as EC\n",
    "from selenium.webdriver.common.action_chains import ActionChains\n",
    "import time\n",
    "from selenium.webdriver.chrome.service import Service\n",
    "from webdriver_manager.microsoft import EdgeChromiumDriverManager\n",
    "from webdriver_manager.chrome import ChromeDriverManager\n",
    "\n",
    "# Set up the WebDriver (you can use any driver like ChromeDriver, GeckoDriver, etc.)\n",
    "driver = webdriver.Chrome(service=Service(ChromeDriverManager().install()))\n",
    "\n",
    "# Define a function to recursively click elements with the class name 'title'\n",
    "def recursively_click_titles(driver):\n",
    "    # Using a set to keep track of clicked elements to avoid clicking the same element twice\n",
    "    clicked_titles = set()\n",
    "\n",
    "    def click_title_elements():\n",
    "        # Find all elements with the class 'title'\n",
    "        left_scroll = False\n",
    "        elements = driver.find_elements(By.CLASS_NAME, 'title')\n",
    "        for element in elements:\n",
    "            # if element.tag_name !='span':\n",
    "            #     continue\n",
    "            # Check if the element has already been clicked to avoid re-clicking\n",
    "            if element not in clicked_titles:\n",
    "                try:\n",
    "                    # Scroll into view and click the element\n",
    "                    # ActionChains(driver).move_to_element(element).perform()\n",
    "                    element.click()\n",
    "                    \n",
    "                    \n",
    "                    # Add the element to the set of clicked titles\n",
    "                    clicked_titles.add(element)\n",
    "                    \n",
    "                    # Wait for a moment to allow any dynamic content to load\n",
    "                    actions = ActionChains(driver)\n",
    "\n",
    "                    # Move the cursor away (e.g., 100 pixels to the right and down from the element)\n",
    "                    if left_scroll:\n",
    "                        actions.move_to_element_with_offset(element, 20, 20).perform()\n",
    "                        left_scroll = False\n",
    "                    else:\n",
    "                        actions.move_to_element_with_offset(element, -20, -20).perform()\n",
    "                        left_scroll = True\n",
    "                    # Recursively call the function to handle new elements\n",
    "                    click_title_elements()\n",
    "                except Exception as e:\n",
    "                    print(f\"Error clicking element: {e}\")\n",
    "                    actions.move_to_element_with_offset(element,30 , -20).perform()\n",
    "                    # Move the cursor away (e.g., 100 pixels to the right and down from the element)\n",
    "                    continue\n",
    "    \n",
    "    # Start the recursive clicking process\n",
    "    click_title_elements()\n",
    "\n",
    "\n",
    "# Navigate to the webpage\n",
    "# driver.get(data_sources_dict['Brazil INPE - National Institute for Space Research'])\n",
    "driver.get(data_sources_dict['Google'])\n",
    "# driver.get(data_sources_dict['India National Sample Survey'])\n",
    "driver.maximize_window()\n",
    "# Wait for the page to fully load\n",
    "WebDriverWait(driver, 10).until(\n",
    "    EC.presence_of_element_located((By.CLASS_NAME, \"title\"))\n",
    ")\n",
    "recursively_click_titles(driver)\n",
    "html = driver.page_source\n",
    "soup = BeautifulSoup(html, 'html.parser')\n",
    "base_stats_link = \"https://datacommons.org/browser/\"\n",
    "node_titles = soup.find_all(class_=\"node-title\")\n",
    "node_label_list = []\n",
    "for curr_node_title in node_titles:\n",
    "    node_label = curr_node_title.find('label')\n",
    "    if node_label is not None:\n",
    "        node_label_str = str(node_label)\n",
    "        node_label_str = node_label_str[node_label_str.find(\"for=\")+4:node_label_str.find(\"/\")][1:-2]\n",
    "        node_label_list.append({\"node_name\":node_label.text,\"node_dcid\":node_label_str,\"node_link\":base_stats_link+node_label_str})"
   ]
  },
  {
   "cell_type": "code",
   "execution_count": 161,
   "metadata": {},
   "outputs": [],
   "source": [
    "html = driver.page_source\n",
    "soup = BeautifulSoup(html, 'html.parser')\n",
    "base_stats_link = \"https://datacommons.org/browser/\"\n",
    "node_titles = soup.find_all(class_=\"node-title\")\n",
    "node_label_list = []\n",
    "for curr_node_title in node_titles:\n",
    "    node_label = curr_node_title.find('label')\n",
    "    if node_label is not None:\n",
    "        node_label_str = str(node_label)\n",
    "        node_label_str = node_label_str[node_label_str.find(\"for=\")+4:node_label_str.find(\"/\")][1:-2]\n",
    "        node_label_list.append({\"node_name\":node_label.text,\"node_dcid\":node_label_str,\"node_link\":base_stats_link+node_label_str})"
   ]
  },
  {
   "cell_type": "code",
   "execution_count": 162,
   "metadata": {},
   "outputs": [
    {
     "data": {
      "text/plain": [
       "6"
      ]
     },
     "execution_count": 162,
     "metadata": {},
     "output_type": "execute_result"
    }
   ],
   "source": [
    "len(node_label_list)"
   ]
  },
  {
   "cell_type": "code",
   "execution_count": 166,
   "metadata": {},
   "outputs": [],
   "source": [
    "import json\n",
    "with open('STATS/Google.json','w', encoding='utf-8') as f:\n",
    "    json.dump(node_label_list, f, indent=4,ensure_ascii=True)"
   ]
  },
  {
   "cell_type": "markdown",
   "metadata": {},
   "source": [
    "## GET PLACE DCID"
   ]
  },
  {
   "cell_type": "code",
   "execution_count": 3,
   "metadata": {},
   "outputs": [],
   "source": [
    "from selenium import webdriver\n",
    "from selenium.webdriver.common.by import By\n",
    "from selenium.webdriver.support.ui import WebDriverWait\n",
    "from selenium.webdriver.support import expected_conditions as EC\n",
    "from selenium.webdriver.common.action_chains import ActionChains\n",
    "import time\n",
    "from selenium.webdriver.chrome.service import Service\n",
    "from webdriver_manager.microsoft import EdgeChromiumDriverManager\n",
    "from webdriver_manager.chrome import ChromeDriverManager\n",
    "\n",
    "place_url = \"https://datacommons.org/place\"\n",
    "driver = webdriver.Chrome(service=Service(ChromeDriverManager().install()))\n",
    "\n",
    "driver.get(place_url)\n",
    "driver.maximize_window()"
   ]
  },
  {
   "cell_type": "code",
   "execution_count": 5,
   "metadata": {},
   "outputs": [],
   "source": [
    "place_autocomplete = driver.find_element(value='place-autocomplete')"
   ]
  },
  {
   "cell_type": "code",
   "execution_count": 7,
   "metadata": {},
   "outputs": [],
   "source": [
    "place_autocomplete.send_keys(\"United States\")"
   ]
  },
  {
   "cell_type": "code",
   "execution_count": 8,
   "metadata": {},
   "outputs": [],
   "source": [
    "from selenium.webdriver.common.keys import Keys\n",
    "\n",
    "place_autocomplete.send_keys(Keys.ARROW_DOWN)\n",
    "# Then send the Enter key to choose the selected option\n",
    "place_autocomplete.send_keys(Keys.ENTER)\n"
   ]
  },
  {
   "cell_type": "code",
   "execution_count": 23,
   "metadata": {},
   "outputs": [],
   "source": [
    "url = driver.current_url"
   ]
  },
  {
   "cell_type": "code",
   "execution_count": 24,
   "metadata": {},
   "outputs": [
    {
     "data": {
      "text/plain": [
       "'https://datacommons.org/place/country/USA'"
      ]
     },
     "execution_count": 24,
     "metadata": {},
     "output_type": "execute_result"
    }
   ],
   "source": [
    "url"
   ]
  },
  {
   "cell_type": "code",
   "execution_count": 25,
   "metadata": {},
   "outputs": [
    {
     "name": "stdout",
     "output_type": "stream",
     "text": [
      "country/USA\n"
     ]
    }
   ],
   "source": [
    "# url = \"https://datacommons.org/place/geoId/1805860\"\n",
    "\n",
    "# Split the URL by \"/\" and get the last part\n",
    "# extracted_part = url.split('/')[-1]\n",
    "\n",
    "# Join the last two parts to get 'geoId/1805860'\n",
    "extracted_full = '/'.join(url.split('/')[-2:])\n",
    "\n",
    "print(extracted_full)  # Output: geoId/1805860\n"
   ]
  },
  {
   "cell_type": "code",
   "execution_count": 1,
   "metadata": {},
   "outputs": [
    {
     "data": {
      "text/plain": [
       "'country/USA'"
      ]
     },
     "execution_count": 1,
     "metadata": {},
     "output_type": "execute_result"
    }
   ],
   "source": [
    "from src.get_place_dcids import place_dcid\n",
    "\n",
    "place_dcid(\"United States\")"
   ]
  },
  {
   "cell_type": "code",
   "execution_count": 2,
   "metadata": {},
   "outputs": [
    {
     "data": {
      "text/plain": [
       "'geoId/1805860'"
      ]
     },
     "execution_count": 2,
     "metadata": {},
     "output_type": "execute_result"
    }
   ],
   "source": [
    "place_dcid(\"Bloomington Indiana\")"
   ]
  },
  {
   "cell_type": "code",
   "execution_count": 3,
   "metadata": {},
   "outputs": [
    {
     "data": {
      "text/plain": [
       "'geoId/1706613'"
      ]
     },
     "execution_count": 3,
     "metadata": {},
     "output_type": "execute_result"
    }
   ],
   "source": [
    "place_dcid(\"bloomington Illinois\")"
   ]
  },
  {
   "cell_type": "code",
   "execution_count": null,
   "metadata": {},
   "outputs": [],
   "source": []
  }
 ],
 "metadata": {
  "kernelspec": {
   "display_name": "openbb-env",
   "language": "python",
   "name": "python3"
  },
  "language_info": {
   "codemirror_mode": {
    "name": "ipython",
    "version": 3
   },
   "file_extension": ".py",
   "mimetype": "text/x-python",
   "name": "python",
   "nbconvert_exporter": "python",
   "pygments_lexer": "ipython3",
   "version": "3.9.18"
  }
 },
 "nbformat": 4,
 "nbformat_minor": 2
}
