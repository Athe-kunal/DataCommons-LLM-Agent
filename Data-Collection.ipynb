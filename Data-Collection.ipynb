{
 "cells": [
  {
   "cell_type": "code",
   "execution_count": 1,
   "metadata": {},
   "outputs": [],
   "source": [
    "import datacommons_pandas as dc"
   ]
  },
  {
   "cell_type": "code",
   "execution_count": 2,
   "metadata": {},
   "outputs": [
    {
     "data": {
      "text/plain": [
       "['geoId/0107000',\n",
       " 'geoId/0135896',\n",
       " 'geoId/0137000',\n",
       " 'geoId/0150000',\n",
       " 'geoId/0151000']"
      ]
     },
     "execution_count": 2,
     "metadata": {},
     "output_type": "execute_result"
    }
   ],
   "source": [
    "city_dcids = dc.get_property_values([\"CDC500_City\"], \"member\", limit=500)[\"CDC500_City\"]\n",
    "city_dcids[:5]"
   ]
  },
  {
   "cell_type": "code",
   "execution_count": 3,
   "metadata": {},
   "outputs": [
    {
     "data": {
      "text/html": [
       "<div>\n",
       "<style scoped>\n",
       "    .dataframe tbody tr th:only-of-type {\n",
       "        vertical-align: middle;\n",
       "    }\n",
       "\n",
       "    .dataframe tbody tr th {\n",
       "        vertical-align: top;\n",
       "    }\n",
       "\n",
       "    .dataframe thead th {\n",
       "        text-align: right;\n",
       "    }\n",
       "</style>\n",
       "<table border=\"1\" class=\"dataframe\">\n",
       "  <thead>\n",
       "    <tr style=\"text-align: right;\">\n",
       "      <th></th>\n",
       "      <th>Percent_Person_WithHighBloodPressure</th>\n",
       "      <th>UnemploymentRate_Person</th>\n",
       "      <th>Count_Person_BelowPovertyLevelInThePast12Months</th>\n",
       "      <th>Count_Person</th>\n",
       "      <th>Percent_Person_Obesity</th>\n",
       "    </tr>\n",
       "    <tr>\n",
       "      <th>place</th>\n",
       "      <th></th>\n",
       "      <th></th>\n",
       "      <th></th>\n",
       "      <th></th>\n",
       "      <th></th>\n",
       "    </tr>\n",
       "  </thead>\n",
       "  <tbody>\n",
       "    <tr>\n",
       "      <th>geoId/0107000</th>\n",
       "      <td>45.6</td>\n",
       "      <td>3.3</td>\n",
       "      <td>49921</td>\n",
       "      <td>200431</td>\n",
       "      <td>44.9</td>\n",
       "    </tr>\n",
       "    <tr>\n",
       "      <th>geoId/0135896</th>\n",
       "      <td>33.0</td>\n",
       "      <td>2.0</td>\n",
       "      <td>4965</td>\n",
       "      <td>91995</td>\n",
       "      <td>32.5</td>\n",
       "    </tr>\n",
       "    <tr>\n",
       "      <th>geoId/0137000</th>\n",
       "      <td>37.9</td>\n",
       "      <td>2.4</td>\n",
       "      <td>28809</td>\n",
       "      <td>215025</td>\n",
       "      <td>43.7</td>\n",
       "    </tr>\n",
       "    <tr>\n",
       "      <th>geoId/0150000</th>\n",
       "      <td>40.6</td>\n",
       "      <td>3.7</td>\n",
       "      <td>37379</td>\n",
       "      <td>186316</td>\n",
       "      <td>41.3</td>\n",
       "    </tr>\n",
       "    <tr>\n",
       "      <th>geoId/0151000</th>\n",
       "      <td>40.7</td>\n",
       "      <td>2.9</td>\n",
       "      <td>40625</td>\n",
       "      <td>199819</td>\n",
       "      <td>37.9</td>\n",
       "    </tr>\n",
       "  </tbody>\n",
       "</table>\n",
       "</div>"
      ],
      "text/plain": [
       "               Percent_Person_WithHighBloodPressure  UnemploymentRate_Person  \\\n",
       "place                                                                          \n",
       "geoId/0107000                                  45.6                      3.3   \n",
       "geoId/0135896                                  33.0                      2.0   \n",
       "geoId/0137000                                  37.9                      2.4   \n",
       "geoId/0150000                                  40.6                      3.7   \n",
       "geoId/0151000                                  40.7                      2.9   \n",
       "\n",
       "               Count_Person_BelowPovertyLevelInThePast12Months  Count_Person  \\\n",
       "place                                                                          \n",
       "geoId/0107000                                            49921        200431   \n",
       "geoId/0135896                                             4965         91995   \n",
       "geoId/0137000                                            28809        215025   \n",
       "geoId/0150000                                            37379        186316   \n",
       "geoId/0151000                                            40625        199819   \n",
       "\n",
       "               Percent_Person_Obesity  \n",
       "place                                  \n",
       "geoId/0107000                    44.9  \n",
       "geoId/0135896                    32.5  \n",
       "geoId/0137000                    43.7  \n",
       "geoId/0150000                    41.3  \n",
       "geoId/0151000                    37.9  "
      ]
     },
     "execution_count": 3,
     "metadata": {},
     "output_type": "execute_result"
    }
   ],
   "source": [
    "data = dc.build_multivariate_dataframe(city_dcids,\n",
    "                                       [\"Percent_Person_Obesity\", # Prevalence of obesity from CDC\n",
    "                                        \"Percent_Person_WithHighBloodPressure\", # Prevalence of high blood pressure from CDC\n",
    "                                        \"UnemploymentRate_Person\", # Unemployment rate from BLS\n",
    "                                        \"Count_Person_BelowPovertyLevelInThePast12Months\", # Persons living below the poverty line from Census\n",
    "                                        \"Count_Person\", # Total population from Census\n",
    "                                       ]\n",
    "                                      )\n",
    "# Display the first five rows.\n",
    "data.head(5)"
   ]
  },
  {
   "cell_type": "code",
   "execution_count": 9,
   "metadata": {},
   "outputs": [
    {
     "ename": "ValueError",
     "evalue": "No data for any of specified Places and StatisticalVariables.",
     "output_type": "error",
     "traceback": [
      "\u001b[0;31m---------------------------------------------------------------------------\u001b[0m",
      "\u001b[0;31mValueError\u001b[0m                                Traceback (most recent call last)",
      "Cell \u001b[0;32mIn[9], line 1\u001b[0m\n\u001b[0;32m----> 1\u001b[0m \u001b[43mdc\u001b[49m\u001b[38;5;241;43m.\u001b[39;49m\u001b[43mbuild_multivariate_dataframe\u001b[49m\u001b[43m(\u001b[49m\u001b[43m[\u001b[49m\u001b[38;5;124;43m\"\u001b[39;49m\u001b[38;5;124;43mcountry/USA\u001b[39;49m\u001b[38;5;124;43m\"\u001b[39;49m\u001b[43m,\u001b[49m\u001b[43m \u001b[49m\u001b[38;5;124;43m\"\u001b[39;49m\u001b[38;5;124;43mgeoId/1714000\u001b[39;49m\u001b[38;5;124;43m\"\u001b[39;49m\u001b[43m,\u001b[49m\u001b[43m \u001b[49m\u001b[38;5;124;43m\"\u001b[39;49m\u001b[38;5;124;43mgeoId/06085\u001b[39;49m\u001b[38;5;124;43m\"\u001b[39;49m\u001b[43m]\u001b[49m\u001b[43m,\u001b[49m\u001b[43m[\u001b[49m\u001b[38;5;124;43m\"\u001b[39;49m\u001b[38;5;124;43mCDC_PalmerDroughtSeverityIndex\u001b[39;49m\u001b[38;5;124;43m\"\u001b[39;49m\u001b[43m]\u001b[49m\u001b[43m)\u001b[49m\n",
      "File \u001b[0;32m~/Function Calling/openbb-env/lib/python3.10/site-packages/datacommons_pandas/df_builder.py:314\u001b[0m, in \u001b[0;36mbuild_multivariate_dataframe\u001b[0;34m(places, stat_vars)\u001b[0m\n\u001b[1;32m    310\u001b[0m \u001b[38;5;28;01mexcept\u001b[39;00m:\n\u001b[1;32m    311\u001b[0m     \u001b[38;5;28;01mraise\u001b[39;00m \u001b[38;5;167;01mValueError\u001b[39;00m(\n\u001b[1;32m    312\u001b[0m         \u001b[38;5;124m'\u001b[39m\u001b[38;5;124mParameter `places` and `stat_vars` must be string object or list-like object.\u001b[39m\u001b[38;5;124m'\u001b[39m\n\u001b[1;32m    313\u001b[0m     )\n\u001b[0;32m--> 314\u001b[0m df \u001b[38;5;241m=\u001b[39m pd\u001b[38;5;241m.\u001b[39mDataFrame\u001b[38;5;241m.\u001b[39mfrom_records(\u001b[43m_multivariate_pd_input\u001b[49m\u001b[43m(\u001b[49m\u001b[43mplaces\u001b[49m\u001b[43m,\u001b[49m\u001b[43m \u001b[49m\u001b[43mstat_vars\u001b[49m\u001b[43m)\u001b[49m)\n\u001b[1;32m    315\u001b[0m df\u001b[38;5;241m.\u001b[39mset_index(\u001b[38;5;124m'\u001b[39m\u001b[38;5;124mplace\u001b[39m\u001b[38;5;124m'\u001b[39m, inplace\u001b[38;5;241m=\u001b[39m\u001b[38;5;28;01mTrue\u001b[39;00m)\n\u001b[1;32m    316\u001b[0m df\u001b[38;5;241m.\u001b[39msort_index(inplace\u001b[38;5;241m=\u001b[39m\u001b[38;5;28;01mTrue\u001b[39;00m)\n",
      "File \u001b[0;32m~/Function Calling/openbb-env/lib/python3.10/site-packages/datacommons_pandas/df_builder.py:238\u001b[0m, in \u001b[0;36m_multivariate_pd_input\u001b[0;34m(places, stat_vars)\u001b[0m\n\u001b[1;32m    215\u001b[0m \u001b[38;5;28;01mdef\u001b[39;00m \u001b[38;5;21m_multivariate_pd_input\u001b[39m(places, stat_vars):\n\u001b[1;32m    216\u001b[0m \u001b[38;5;250m    \u001b[39m\u001b[38;5;124;03m\"\"\"Returns a `list` of `dict` per element of `places` based on the `stat_var`.\u001b[39;00m\n\u001b[1;32m    217\u001b[0m \n\u001b[1;32m    218\u001b[0m \u001b[38;5;124;03m    Data Commons will pick a set of StatVarObservation options that covers the\u001b[39;00m\n\u001b[0;32m   (...)\u001b[0m\n\u001b[1;32m    235\u001b[0m \u001b[38;5;124;03m          ]\u001b[39;00m\n\u001b[1;32m    236\u001b[0m \u001b[38;5;124;03m    \"\"\"\u001b[39;00m\n\u001b[0;32m--> 238\u001b[0m     rows_dict \u001b[38;5;241m=\u001b[39m \u001b[43m_group_stat_all_by_obs_options\u001b[49m\u001b[43m(\u001b[49m\u001b[43mplaces\u001b[49m\u001b[43m,\u001b[49m\n\u001b[1;32m    239\u001b[0m \u001b[43m                                               \u001b[49m\u001b[43mstat_vars\u001b[49m\u001b[43m,\u001b[49m\n\u001b[1;32m    240\u001b[0m \u001b[43m                                               \u001b[49m\u001b[43mkeep_series\u001b[49m\u001b[38;5;241;43m=\u001b[39;49m\u001b[38;5;28;43;01mFalse\u001b[39;49;00m\u001b[43m)\u001b[49m\n\u001b[1;32m    241\u001b[0m     place2cov \u001b[38;5;241m=\u001b[39m collections\u001b[38;5;241m.\u001b[39mdefaultdict(\u001b[38;5;28mdict\u001b[39m)  \u001b[38;5;66;03m# {geo: {var1: 3, var2: 33}}\u001b[39;00m\n\u001b[1;32m    243\u001b[0m     \u001b[38;5;28;01mfor\u001b[39;00m stat_var, candidates_dict \u001b[38;5;129;01min\u001b[39;00m rows_dict\u001b[38;5;241m.\u001b[39mitems():\n",
      "File \u001b[0;32m~/Function Calling/openbb-env/lib/python3.10/site-packages/datacommons_pandas/df_builder.py:115\u001b[0m, in \u001b[0;36m_group_stat_all_by_obs_options\u001b[0;34m(places, stat_vars, keep_series)\u001b[0m\n\u001b[1;32m    109\u001b[0m                 res[stat_var][obs_options]\u001b[38;5;241m.\u001b[39mappend({\n\u001b[1;32m    110\u001b[0m                     \u001b[38;5;124m'\u001b[39m\u001b[38;5;124mplace\u001b[39m\u001b[38;5;124m'\u001b[39m: place,\n\u001b[1;32m    111\u001b[0m                     \u001b[38;5;124m'\u001b[39m\u001b[38;5;124mdate\u001b[39m\u001b[38;5;124m'\u001b[39m: date,\n\u001b[1;32m    112\u001b[0m                     \u001b[38;5;124m'\u001b[39m\u001b[38;5;124mval\u001b[39m\u001b[38;5;124m'\u001b[39m: series[date]\n\u001b[1;32m    113\u001b[0m                 })\n\u001b[1;32m    114\u001b[0m \u001b[38;5;28;01mif\u001b[39;00m \u001b[38;5;129;01mnot\u001b[39;00m res:\n\u001b[0;32m--> 115\u001b[0m     \u001b[38;5;28;01mraise\u001b[39;00m \u001b[38;5;167;01mValueError\u001b[39;00m(\n\u001b[1;32m    116\u001b[0m         \u001b[38;5;124m'\u001b[39m\u001b[38;5;124mNo data for any of specified Places and StatisticalVariables.\u001b[39m\u001b[38;5;124m'\u001b[39m)\n\u001b[1;32m    117\u001b[0m \u001b[38;5;28;01mif\u001b[39;00m keep_series:\n\u001b[1;32m    118\u001b[0m     \u001b[38;5;28;01mreturn\u001b[39;00m \u001b[38;5;28mdict\u001b[39m(res)\n",
      "\u001b[0;31mValueError\u001b[0m: No data for any of specified Places and StatisticalVariables."
     ]
    }
   ],
   "source": [
    "dc.build_multivariate_dataframe([\"country/USA\", \"geoId/1714000\", \"geoId/06085\"],[\"CDC_PalmerDroughtSeverityIndex\", \"CumulativeCount_MedicalConditionIncident_COVID_19_ConfirmedOrProbableCase\"])"
   ]
  },
  {
   "cell_type": "markdown",
   "metadata": {},
   "source": [
    "## COLLECTION THE STATISTICAL VALUES"
   ]
  },
  {
   "cell_type": "code",
   "execution_count": 3,
   "metadata": {},
   "outputs": [
    {
     "name": "stderr",
     "output_type": "stream",
     "text": [
      "/bin/sh: 1: microsoft-edge: not found\n",
      "/bin/sh: 1: microsoft-edge-stable: not found\n",
      "/bin/sh: 1: microsoft-edge-beta: not found\n",
      "/bin/sh: 1: microsoft-edge-dev: not found\n",
      "/bin/sh: 1: microsoft-edge: not found\n",
      "/bin/sh: 1: microsoft-edge-stable: not found\n",
      "/bin/sh: 1: microsoft-edge-beta: not found\n",
      "/bin/sh: 1: microsoft-edge-dev: not found\n",
      "/bin/sh: 1: microsoft-edge: not found\n",
      "/bin/sh: 1: microsoft-edge-stable: not found\n",
      "/bin/sh: 1: microsoft-edge-beta: not found\n",
      "/bin/sh: 1: microsoft-edge-dev: not found\n",
      "/bin/sh: 1: microsoft-edge: not found\n",
      "/bin/sh: 1: microsoft-edge-stable: not found\n",
      "/bin/sh: 1: microsoft-edge-beta: not found\n",
      "/bin/sh: 1: microsoft-edge-dev: not found\n",
      "/bin/sh: 1: microsoft-edge: not found\n",
      "/bin/sh: 1: microsoft-edge-stable: not found\n",
      "/bin/sh: 1: microsoft-edge-beta: not found\n",
      "/bin/sh: 1: microsoft-edge-dev: not found\n"
     ]
    },
    {
     "data": {
      "text/plain": [
       "'/home/athekunal/.wdm/drivers/edgedriver/linux64/125.0.2535.92/msedgedriver'"
      ]
     },
     "execution_count": 3,
     "metadata": {},
     "output_type": "execute_result"
    }
   ],
   "source": [
    "from webdriver_manager.microsoft import EdgeChromiumDriverManager\n",
    "\n",
    "EdgeChromiumDriverManager().install()"
   ]
  },
  {
   "cell_type": "code",
   "execution_count": 8,
   "metadata": {},
   "outputs": [
    {
     "ename": "NoSuchDriverException",
     "evalue": "Message: Unable to obtain driver for chrome; For documentation on this error, please visit: https://www.selenium.dev/documentation/webdriver/troubleshooting/errors/driver_location\n",
     "output_type": "error",
     "traceback": [
      "\u001b[0;31m---------------------------------------------------------------------------\u001b[0m",
      "\u001b[0;31mValueError\u001b[0m                                Traceback (most recent call last)",
      "File \u001b[0;32m~/Function Calling/openbb-env/lib/python3.10/site-packages/selenium/webdriver/common/driver_finder.py:64\u001b[0m, in \u001b[0;36mDriverFinder._binary_paths\u001b[0;34m(self)\u001b[0m\n\u001b[1;32m     63\u001b[0m \u001b[38;5;28;01mif\u001b[39;00m \u001b[38;5;129;01mnot\u001b[39;00m Path(path)\u001b[38;5;241m.\u001b[39mis_file():\n\u001b[0;32m---> 64\u001b[0m     \u001b[38;5;28;01mraise\u001b[39;00m \u001b[38;5;167;01mValueError\u001b[39;00m(\u001b[38;5;124mf\u001b[39m\u001b[38;5;124m\"\u001b[39m\u001b[38;5;124mThe path is not a valid file: \u001b[39m\u001b[38;5;132;01m{\u001b[39;00mpath\u001b[38;5;132;01m}\u001b[39;00m\u001b[38;5;124m\"\u001b[39m)\n\u001b[1;32m     65\u001b[0m \u001b[38;5;28mself\u001b[39m\u001b[38;5;241m.\u001b[39m_paths[\u001b[38;5;124m\"\u001b[39m\u001b[38;5;124mdriver_path\u001b[39m\u001b[38;5;124m\"\u001b[39m] \u001b[38;5;241m=\u001b[39m path\n",
      "\u001b[0;31mValueError\u001b[0m: The path is not a valid file: /home/athekunal/Function Calling/DataCommons-LLM-Agent/chromedriver_linux64/chromedriver.exe",
      "\nThe above exception was the direct cause of the following exception:\n",
      "\u001b[0;31mNoSuchDriverException\u001b[0m                     Traceback (most recent call last)",
      "Cell \u001b[0;32mIn[8], line 12\u001b[0m\n\u001b[1;32m      8\u001b[0m \u001b[38;5;28;01mfrom\u001b[39;00m \u001b[38;5;21;01mwebdriver_manager\u001b[39;00m\u001b[38;5;21;01m.\u001b[39;00m\u001b[38;5;21;01mmicrosoft\u001b[39;00m \u001b[38;5;28;01mimport\u001b[39;00m EdgeChromiumDriverManager\n\u001b[1;32m     10\u001b[0m \u001b[38;5;66;03m# Set up the WebDriver (you can use any driver like ChromeDriver, GeckoDriver, etc.)\u001b[39;00m\n\u001b[1;32m     11\u001b[0m \u001b[38;5;66;03m# driver = webdriver.Chrome(service=Service(EdgeChromiumDriverManager().install()))\u001b[39;00m\n\u001b[0;32m---> 12\u001b[0m driver \u001b[38;5;241m=\u001b[39m \u001b[43mwebdriver\u001b[49m\u001b[38;5;241;43m.\u001b[39;49m\u001b[43mChrome\u001b[49m\u001b[43m(\u001b[49m\u001b[43mservice\u001b[49m\u001b[38;5;241;43m=\u001b[39;49m\u001b[43mService\u001b[49m\u001b[43m(\u001b[49m\u001b[43mexecutable_path\u001b[49m\u001b[38;5;241;43m=\u001b[39;49m\u001b[38;5;124;43m\"\u001b[39;49m\u001b[38;5;124;43m/home/athekunal/Function Calling/DataCommons-LLM-Agent/chromedriver_linux64/chromedriver.exe\u001b[39;49m\u001b[38;5;124;43m\"\u001b[39;49m\u001b[43m)\u001b[49m\u001b[43m)\u001b[49m\n\u001b[1;32m     14\u001b[0m \u001b[38;5;66;03m# Define a function to recursively click elements with the class name 'title'\u001b[39;00m\n\u001b[1;32m     15\u001b[0m \u001b[38;5;28;01mdef\u001b[39;00m \u001b[38;5;21mrecursively_click_titles\u001b[39m(driver):\n\u001b[1;32m     16\u001b[0m     \u001b[38;5;66;03m# Using a set to keep track of clicked elements to avoid clicking the same element twice\u001b[39;00m\n",
      "File \u001b[0;32m~/Function Calling/openbb-env/lib/python3.10/site-packages/selenium/webdriver/chrome/webdriver.py:45\u001b[0m, in \u001b[0;36mWebDriver.__init__\u001b[0;34m(self, options, service, keep_alive)\u001b[0m\n\u001b[1;32m     42\u001b[0m service \u001b[38;5;241m=\u001b[39m service \u001b[38;5;28;01mif\u001b[39;00m service \u001b[38;5;28;01melse\u001b[39;00m Service()\n\u001b[1;32m     43\u001b[0m options \u001b[38;5;241m=\u001b[39m options \u001b[38;5;28;01mif\u001b[39;00m options \u001b[38;5;28;01melse\u001b[39;00m Options()\n\u001b[0;32m---> 45\u001b[0m \u001b[38;5;28;43msuper\u001b[39;49m\u001b[43m(\u001b[49m\u001b[43m)\u001b[49m\u001b[38;5;241;43m.\u001b[39;49m\u001b[38;5;21;43m__init__\u001b[39;49m\u001b[43m(\u001b[49m\n\u001b[1;32m     46\u001b[0m \u001b[43m    \u001b[49m\u001b[43mbrowser_name\u001b[49m\u001b[38;5;241;43m=\u001b[39;49m\u001b[43mDesiredCapabilities\u001b[49m\u001b[38;5;241;43m.\u001b[39;49m\u001b[43mCHROME\u001b[49m\u001b[43m[\u001b[49m\u001b[38;5;124;43m\"\u001b[39;49m\u001b[38;5;124;43mbrowserName\u001b[39;49m\u001b[38;5;124;43m\"\u001b[39;49m\u001b[43m]\u001b[49m\u001b[43m,\u001b[49m\n\u001b[1;32m     47\u001b[0m \u001b[43m    \u001b[49m\u001b[43mvendor_prefix\u001b[49m\u001b[38;5;241;43m=\u001b[39;49m\u001b[38;5;124;43m\"\u001b[39;49m\u001b[38;5;124;43mgoog\u001b[39;49m\u001b[38;5;124;43m\"\u001b[39;49m\u001b[43m,\u001b[49m\n\u001b[1;32m     48\u001b[0m \u001b[43m    \u001b[49m\u001b[43moptions\u001b[49m\u001b[38;5;241;43m=\u001b[39;49m\u001b[43moptions\u001b[49m\u001b[43m,\u001b[49m\n\u001b[1;32m     49\u001b[0m \u001b[43m    \u001b[49m\u001b[43mservice\u001b[49m\u001b[38;5;241;43m=\u001b[39;49m\u001b[43mservice\u001b[49m\u001b[43m,\u001b[49m\n\u001b[1;32m     50\u001b[0m \u001b[43m    \u001b[49m\u001b[43mkeep_alive\u001b[49m\u001b[38;5;241;43m=\u001b[39;49m\u001b[43mkeep_alive\u001b[49m\u001b[43m,\u001b[49m\n\u001b[1;32m     51\u001b[0m \u001b[43m\u001b[49m\u001b[43m)\u001b[49m\n",
      "File \u001b[0;32m~/Function Calling/openbb-env/lib/python3.10/site-packages/selenium/webdriver/chromium/webdriver.py:50\u001b[0m, in \u001b[0;36mChromiumDriver.__init__\u001b[0;34m(self, browser_name, vendor_prefix, options, service, keep_alive)\u001b[0m\n\u001b[1;32m     47\u001b[0m \u001b[38;5;28mself\u001b[39m\u001b[38;5;241m.\u001b[39mservice \u001b[38;5;241m=\u001b[39m service\n\u001b[1;32m     49\u001b[0m finder \u001b[38;5;241m=\u001b[39m DriverFinder(\u001b[38;5;28mself\u001b[39m\u001b[38;5;241m.\u001b[39mservice, options)\n\u001b[0;32m---> 50\u001b[0m \u001b[38;5;28;01mif\u001b[39;00m \u001b[43mfinder\u001b[49m\u001b[38;5;241;43m.\u001b[39;49m\u001b[43mget_browser_path\u001b[49m\u001b[43m(\u001b[49m\u001b[43m)\u001b[49m:\n\u001b[1;32m     51\u001b[0m     options\u001b[38;5;241m.\u001b[39mbinary_location \u001b[38;5;241m=\u001b[39m finder\u001b[38;5;241m.\u001b[39mget_browser_path()\n\u001b[1;32m     52\u001b[0m     options\u001b[38;5;241m.\u001b[39mbrowser_version \u001b[38;5;241m=\u001b[39m \u001b[38;5;28;01mNone\u001b[39;00m\n",
      "File \u001b[0;32m~/Function Calling/openbb-env/lib/python3.10/site-packages/selenium/webdriver/common/driver_finder.py:47\u001b[0m, in \u001b[0;36mDriverFinder.get_browser_path\u001b[0;34m(self)\u001b[0m\n\u001b[1;32m     46\u001b[0m \u001b[38;5;28;01mdef\u001b[39;00m \u001b[38;5;21mget_browser_path\u001b[39m(\u001b[38;5;28mself\u001b[39m) \u001b[38;5;241m-\u001b[39m\u001b[38;5;241m>\u001b[39m \u001b[38;5;28mstr\u001b[39m:\n\u001b[0;32m---> 47\u001b[0m     \u001b[38;5;28;01mreturn\u001b[39;00m \u001b[38;5;28;43mself\u001b[39;49m\u001b[38;5;241;43m.\u001b[39;49m\u001b[43m_binary_paths\u001b[49m\u001b[43m(\u001b[49m\u001b[43m)\u001b[49m[\u001b[38;5;124m\"\u001b[39m\u001b[38;5;124mbrowser_path\u001b[39m\u001b[38;5;124m\"\u001b[39m]\n",
      "File \u001b[0;32m~/Function Calling/openbb-env/lib/python3.10/site-packages/selenium/webdriver/common/driver_finder.py:78\u001b[0m, in \u001b[0;36mDriverFinder._binary_paths\u001b[0;34m(self)\u001b[0m\n\u001b[1;32m     76\u001b[0m \u001b[38;5;28;01mexcept\u001b[39;00m \u001b[38;5;167;01mException\u001b[39;00m \u001b[38;5;28;01mas\u001b[39;00m err:\n\u001b[1;32m     77\u001b[0m     msg \u001b[38;5;241m=\u001b[39m \u001b[38;5;124mf\u001b[39m\u001b[38;5;124m\"\u001b[39m\u001b[38;5;124mUnable to obtain driver for \u001b[39m\u001b[38;5;132;01m{\u001b[39;00mbrowser\u001b[38;5;132;01m}\u001b[39;00m\u001b[38;5;124m\"\u001b[39m\n\u001b[0;32m---> 78\u001b[0m     \u001b[38;5;28;01mraise\u001b[39;00m NoSuchDriverException(msg) \u001b[38;5;28;01mfrom\u001b[39;00m \u001b[38;5;21;01merr\u001b[39;00m\n\u001b[1;32m     79\u001b[0m \u001b[38;5;28;01mreturn\u001b[39;00m \u001b[38;5;28mself\u001b[39m\u001b[38;5;241m.\u001b[39m_paths\n",
      "\u001b[0;31mNoSuchDriverException\u001b[0m: Message: Unable to obtain driver for chrome; For documentation on this error, please visit: https://www.selenium.dev/documentation/webdriver/troubleshooting/errors/driver_location\n"
     ]
    }
   ],
   "source": [
    "from selenium import webdriver\n",
    "from selenium.webdriver.common.by import By\n",
    "from selenium.webdriver.support.ui import WebDriverWait\n",
    "from selenium.webdriver.support import expected_conditions as EC\n",
    "from selenium.webdriver.common.action_chains import ActionChains\n",
    "import time\n",
    "from selenium.webdriver.chrome.service import Service\n",
    "from webdriver_manager.microsoft import EdgeChromiumDriverManager\n",
    "\n",
    "# Set up the WebDriver (you can use any driver like ChromeDriver, GeckoDriver, etc.)\n",
    "# driver = webdriver.Chrome(service=Service(EdgeChromiumDriverManager().install()))\n",
    "driver = webdriver.Chrome(service=Service(executable_path=\"/home/athekunal/Function Calling/DataCommons-LLM-Agent/chromedriver_linux64/chromedriver.exe\"))\n",
    "\n",
    "# Define a function to recursively click elements with the class name 'title'\n",
    "def recursively_click_titles(driver):\n",
    "    # Using a set to keep track of clicked elements to avoid clicking the same element twice\n",
    "    clicked_titles = set()\n",
    "\n",
    "    def click_title_elements():\n",
    "        # Find all elements with the class 'title'\n",
    "        elements = driver.find_elements(By.CLASS_NAME, 'title')\n",
    "        \n",
    "        for element in elements:\n",
    "            # Check if the element has already been clicked to avoid re-clicking\n",
    "            if element not in clicked_titles:\n",
    "                try:\n",
    "                    # Scroll into view and click the element\n",
    "                    ActionChains(driver).move_to_element(element).perform()\n",
    "                    element.click()\n",
    "                    \n",
    "                    # Add the element to the set of clicked titles\n",
    "                    clicked_titles.add(element)\n",
    "                    \n",
    "                    # Wait for a moment to allow any dynamic content to load\n",
    "                    time.sleep(2)\n",
    "                    \n",
    "                    # Recursively call the function to handle new elements\n",
    "                    click_title_elements()\n",
    "                except Exception as e:\n",
    "                    print(f\"Error clicking element: {e}\")\n",
    "                    continue\n",
    "    \n",
    "    # Start the recursive clicking process\n",
    "    click_title_elements()\n",
    "\n",
    "# Main execution\n",
    "try:\n",
    "    # Navigate to the webpage\n",
    "    driver.get(\"https://datacommons.org/tools/statvar#s=dc%2Fs%2FCensusOfIndia\")\n",
    "\n",
    "    # Wait for the page to fully load\n",
    "    WebDriverWait(driver, 10).until(\n",
    "        EC.presence_of_element_located((By.CLASS_NAME, \"title\"))\n",
    "    )\n",
    "\n",
    "    # Start recursively clicking the titles\n",
    "    recursively_click_titles(driver)\n",
    "\n",
    "finally:\n",
    "    # Close the WebDriver after completion\n",
    "    driver.quit()\n"
   ]
  },
  {
   "cell_type": "code",
   "execution_count": 4,
   "metadata": {},
   "outputs": [],
   "source": [
    "import os\n",
    "\n",
    "os.chmod(\"chromedriver\",755)"
   ]
  },
  {
   "cell_type": "code",
   "execution_count": null,
   "metadata": {},
   "outputs": [],
   "source": []
  }
 ],
 "metadata": {
  "kernelspec": {
   "display_name": "openbb-env",
   "language": "python",
   "name": "python3"
  },
  "language_info": {
   "codemirror_mode": {
    "name": "ipython",
    "version": 3
   },
   "file_extension": ".py",
   "mimetype": "text/x-python",
   "name": "python",
   "nbconvert_exporter": "python",
   "pygments_lexer": "ipython3",
   "version": "3.10.12"
  }
 },
 "nbformat": 4,
 "nbformat_minor": 2
}
